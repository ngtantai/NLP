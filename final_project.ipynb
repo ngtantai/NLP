{
 "cells": [
  {
   "cell_type": "markdown",
   "metadata": {},
   "source": [
    "# SPAM MESSAGES CLASSIFICATION \n",
    "# NLP course - Final project - 2017"
   ]
  },
  {
   "cell_type": "code",
   "execution_count": 172,
   "metadata": {
    "collapsed": true
   },
   "outputs": [],
   "source": [
    "import pandas as pd\n",
    "import numpy as np\n",
    "import seaborn as sn\n",
    "import itertools\n",
    "import matplotlib.pyplot as plt\n",
    "import operator\n",
    "import statsmodels.api as sms\n",
    "import matplotlib\n",
    "import textwrap\n",
    "import re\n",
    "from textblob import TextBlob, Word, WordList\n",
    "\n",
    "%matplotlib inline"
   ]
  },
  {
   "cell_type": "code",
   "execution_count": 173,
   "metadata": {},
   "outputs": [],
   "source": [
    "from itertools import chain\n",
    "\n",
    "import nltk\n",
    "import sklearn\n",
    "import scipy.stats\n",
    "from sklearn.metrics import make_scorer\n",
    "from sklearn.cross_validation import cross_val_score\n",
    "from sklearn.grid_search import RandomizedSearchCV\n",
    "\n",
    "import sklearn_crfsuite\n",
    "from sklearn_crfsuite import scorers\n",
    "from sklearn_crfsuite import metrics"
   ]
  },
  {
   "cell_type": "code",
   "execution_count": 174,
   "metadata": {
    "collapsed": true
   },
   "outputs": [],
   "source": [
    "with open('smsspamcollection/SMSSpamCollection.txt') as f:\n",
    "    text = f.read()"
   ]
  },
  {
   "cell_type": "markdown",
   "metadata": {},
   "source": [
    "## Preprocessing"
   ]
  },
  {
   "cell_type": "markdown",
   "metadata": {},
   "source": [
    "#### Translation"
   ]
  },
  {
   "cell_type": "markdown",
   "metadata": {},
   "source": [
    "-- Avoid of having message language is different from English"
   ]
  },
  {
   "cell_type": "code",
   "execution_count": 175,
   "metadata": {},
   "outputs": [
    {
     "data": {
      "text/plain": [
       "5574"
      ]
     },
     "execution_count": 175,
     "metadata": {},
     "output_type": "execute_result"
    }
   ],
   "source": [
    "splitted_text_toline = text.splitlines()\n",
    "len(splitted_text_toline)"
   ]
  },
  {
   "cell_type": "code",
   "execution_count": 176,
   "metadata": {},
   "outputs": [
    {
     "data": {
      "text/plain": [
       "['ham\\tGo until jurong point, crazy.. Available only in bugis n great world la e buffet... Cine there got amore wat...',\n",
       " 'ham\\tOk lar... Joking wif u oni...']"
      ]
     },
     "execution_count": 176,
     "metadata": {},
     "output_type": "execute_result"
    }
   ],
   "source": [
    "splitted_text_toline[:2]"
   ]
  },
  {
   "cell_type": "code",
   "execution_count": 177,
   "metadata": {
    "collapsed": true
   },
   "outputs": [],
   "source": [
    "y = []\n",
    "X = []\n",
    "for line in splitted_text_toline:\n",
    "    line = line.split('\\t')\n",
    "    y.append(line[0])\n",
    "    X.append(line[1])"
   ]
  },
  {
   "cell_type": "code",
   "execution_count": 7,
   "metadata": {
    "scrolled": true
   },
   "outputs": [
    {
     "data": {
      "text/plain": [
       "['Goodmorning sleeping ga.',\n",
       " 'Yup... How ü noe leh...',\n",
       " 'Hey company elama po mudyadhu.',\n",
       " 'Okie...',\n",
       " 'Ha ha cool cool chikku chikku:-):-DB-)',\n",
       " 'Beerage?',\n",
       " 'You unbelievable faglord',\n",
       " 'Poyyarikatur,kolathupalayam,unjalur post,erode dis, &lt;#&gt; .',\n",
       " 'Ard 515 like dat. Y?',\n",
       " 'Oi. Ami parchi na re. Kicchu kaaj korte iccha korche na. Phone ta tul na. Plz. Plz.']"
      ]
     },
     "execution_count": 7,
     "metadata": {},
     "output_type": "execute_result"
    }
   ],
   "source": [
    "excluded_2_X = [i for i in X if len(i) > 2]\n",
    "b = [str(s) for s in excluded_2_X if TextBlob(s).detect_language() != 'en']\n",
    "b[:10]"
   ]
  },
  {
   "cell_type": "code",
   "execution_count": 178,
   "metadata": {
    "collapsed": true
   },
   "outputs": [],
   "source": [
    "en_blob = TextBlob(text)\n",
    "translated_text = en_blob.translate(to='en')"
   ]
  },
  {
   "cell_type": "code",
   "execution_count": 179,
   "metadata": {},
   "outputs": [
    {
     "data": {
      "text/plain": [
       "WordList(['ham\\tGo until jurong point, crazy.. Available only in bugis n great world la e buffet... Cine there got amore wat...', 'ham\\tOk lar... Joking wif u oni...', \"spam\\tFree entry in 2 a wkly comp to win FA Cup final tkts 21st May 2005. Text FA to 87121 to receive entry question(std txt rate)T&C's apply 08452810075over18's\", 'ham\\tU dun say so early hor... U c already then say...', \"ham\\tNah I don't think he goes to usf, he lives around here though\"])"
      ]
     },
     "execution_count": 179,
     "metadata": {},
     "output_type": "execute_result"
    }
   ],
   "source": [
    "translated_text.split('\\n')[:5]"
   ]
  },
  {
   "cell_type": "markdown",
   "metadata": {},
   "source": [
    "#### Spell Correction"
   ]
  },
  {
   "cell_type": "code",
   "execution_count": 180,
   "metadata": {
    "collapsed": true
   },
   "outputs": [],
   "source": [
    "corrected_text=[]\n",
    "for line in translated_text.split('\\n'):\n",
    "    # TextBlob is providing correct method\n",
    "    corrected_text.append(TextBlob(line).correct())"
   ]
  },
  {
   "cell_type": "markdown",
   "metadata": {},
   "source": [
    "#### Lemmatization"
   ]
  },
  {
   "cell_type": "code",
   "execution_count": 181,
   "metadata": {},
   "outputs": [
    {
     "data": {
      "text/plain": [
       "[TextBlob(\"ham\tTo until during point, crazy.. Available only in boris n great world la e buffets... Line there got more wat...\"),\n",
       " TextBlob(\"ham\tK war... Joking if u on...\"),\n",
       " TextBlob(\"spasm\tFree entry in 2 a wily come to win of Up final this must May 2005. Next of to 87121 to receive entry question(st txt rate)T&C's apply 08452810075over18's\"),\n",
       " TextBlob(\"ham\tU dun say so early for... U c already then say...\"),\n",
       " TextBlob(\"ham\tAh I don't think he goes to us, he lives around here though\")]"
      ]
     },
     "execution_count": 181,
     "metadata": {},
     "output_type": "execute_result"
    }
   ],
   "source": [
    "corrected_text[:5]"
   ]
  },
  {
   "cell_type": "code",
   "execution_count": 182,
   "metadata": {
    "collapsed": true
   },
   "outputs": [],
   "source": [
    "lemma_text = []\n",
    "for line in corrected_text:\n",
    "    lemma_text.append(Word(line).lemmatize())"
   ]
  },
  {
   "cell_type": "code",
   "execution_count": 183,
   "metadata": {},
   "outputs": [
    {
     "data": {
      "text/plain": [
       "[TextBlob(\"ham\tTo until during point, crazy.. Available only in boris n great world la e buffets... Line there got more wat...\"),\n",
       " TextBlob(\"ham\tK war... Joking if u on...\"),\n",
       " TextBlob(\"spasm\tFree entry in 2 a wily come to win of Up final this must May 2005. Next of to 87121 to receive entry question(st txt rate)T&C's apply 08452810075over18's\"),\n",
       " TextBlob(\"ham\tU dun say so early for... U c already then say...\"),\n",
       " TextBlob(\"ham\tAh I don't think he goes to us, he lives around here though\")]"
      ]
     },
     "execution_count": 183,
     "metadata": {},
     "output_type": "execute_result"
    }
   ],
   "source": [
    "lemma_text[:5]"
   ]
  },
  {
   "cell_type": "markdown",
   "metadata": {},
   "source": [
    "#### Singularize"
   ]
  },
  {
   "cell_type": "code",
   "execution_count": 184,
   "metadata": {
    "collapsed": true
   },
   "outputs": [],
   "source": [
    "singularized_text = []\n",
    "for line in lemma_text:\n",
    "    singularized_text.append(\" \".join(line.words.singularize()))"
   ]
  },
  {
   "cell_type": "code",
   "execution_count": 185,
   "metadata": {},
   "outputs": [
    {
     "data": {
      "text/plain": [
       "['ham To until during point crazy Available only in bori n great world la e buffet Line there got more wat',\n",
       " 'ham K war Joking if u on',\n",
       " \"spasm Free entry in 2 a wily come to win of Up final thi must May 2005 Next of to 87121 to receive entry question st txt rate T C ' apply 08452810075over18 '\",\n",
       " 'ham U dun say so early for U c already then say',\n",
       " \"ham Ah I do n't think he go to u he life around here though\"]"
      ]
     },
     "execution_count": 185,
     "metadata": {},
     "output_type": "execute_result"
    }
   ],
   "source": [
    "singularized_text[:5]"
   ]
  },
  {
   "cell_type": "code",
   "execution_count": 186,
   "metadata": {
    "collapsed": true
   },
   "outputs": [],
   "source": [
    "y = []\n",
    "X = []\n",
    "for line in singularized_text:\n",
    "    line = re.sub(r'(?<=^ham)\\s|(?<=^spasm)\\s', '\\t', line)\n",
    "    line = line.split('\\t')\n",
    "    \n",
    "#     print(line, len(line))\n",
    "    if len(line) == 2:\n",
    "        y.append(line[0].replace('spasm', 'spam'))\n",
    "        X.append(line[1])"
   ]
  },
  {
   "cell_type": "code",
   "execution_count": 187,
   "metadata": {},
   "outputs": [
    {
     "data": {
      "text/plain": [
       "(5572, 5572)"
      ]
     },
     "execution_count": 187,
     "metadata": {},
     "output_type": "execute_result"
    }
   ],
   "source": [
    "len(X), len(y)"
   ]
  },
  {
   "cell_type": "code",
   "execution_count": 188,
   "metadata": {},
   "outputs": [
    {
     "data": {
      "text/plain": [
       "['To until during point crazy Available only in bori n great world la e buffet Line there got more wat',\n",
       " 'K war Joking if u on',\n",
       " \"Free entry in 2 a wily come to win of Up final thi must May 2005 Next of to 87121 to receive entry question st txt rate T C ' apply 08452810075over18 '\",\n",
       " 'U dun say so early for U c already then say',\n",
       " \"Ah I do n't think he go to u he life around here though\"]"
      ]
     },
     "execution_count": 188,
     "metadata": {},
     "output_type": "execute_result"
    }
   ],
   "source": [
    "X[:5]"
   ]
  },
  {
   "cell_type": "code",
   "execution_count": 189,
   "metadata": {},
   "outputs": [
    {
     "data": {
      "text/plain": [
       "['ham', 'ham', 'spam', 'ham', 'ham']"
      ]
     },
     "execution_count": 189,
     "metadata": {},
     "output_type": "execute_result"
    }
   ],
   "source": [
    "y[:5]"
   ]
  },
  {
   "cell_type": "markdown",
   "metadata": {},
   "source": [
    "# Check class imbalance"
   ]
  },
  {
   "cell_type": "code",
   "execution_count": 190,
   "metadata": {},
   "outputs": [
    {
     "name": "stdout",
     "output_type": "stream",
     "text": [
      "ham     4825\n",
      "spam     747\n",
      "dtype: int64\n"
     ]
    },
    {
     "data": {
      "text/plain": [
       "<matplotlib.text.Text at 0x3ee54c550>"
      ]
     },
     "execution_count": 190,
     "metadata": {},
     "output_type": "execute_result"
    },
    {
     "data": {
      "image/png": "[encoded data removed]",
      "text/plain": [
       "<matplotlib.figure.Figure at 0x3ee55ca58>"
      ]
     },
     "metadata": {},
     "output_type": "display_data"
    }
   ],
   "source": [
    "s = pd.Series(y)\n",
    "print(s.value_counts().sort_index())\n",
    "axes = s.value_counts().sort_index().plot(kind='bar')\n",
    "axes.set_xlabel('Ham or Spam')\n",
    "axes.set_ylabel('Prevalance')\n",
    "axes.set_title('Prevalence for Ham/Spam Classes')"
   ]
  },
  {
   "cell_type": "markdown",
   "metadata": {},
   "source": [
    "# EDA"
   ]
  },
  {
   "cell_type": "code",
   "execution_count": 191,
   "metadata": {
    "scrolled": true
   },
   "outputs": [
    {
     "data": {
      "text/plain": [
       "Counter({'to': 2783,\n",
       "         'until': 27,\n",
       "         'during': 9,\n",
       "         'point': 30,\n",
       "         'crazy': 15,\n",
       "         'available': 16,\n",
       "         'only': 218,\n",
       "         'in': 983,\n",
       "         'bori': 9,\n",
       "         'n': 151,\n",
       "         'great': 113,\n",
       "         'world': 42,\n",
       "         'la': 10,\n",
       "         'e': 84,\n",
       "         'buffet': 2,\n",
       "         'line': 64,\n",
       "         'there': 276,\n",
       "         'got': 223,\n",
       "         'more': 115,\n",
       "         'wat': 71,\n",
       "         'k': 247,\n",
       "         'war': 53,\n",
       "         'joking': 6,\n",
       "         'if': 275,\n",
       "         'u': 1269,\n",
       "         'on': 525,\n",
       "         'free': 294,\n",
       "         'entry': 26,\n",
       "         '2': 489,\n",
       "         'a': 1678,\n",
       "         'wily': 10,\n",
       "         'come': 246,\n",
       "         'win': 65,\n",
       "         'of': 1375,\n",
       "         'up': 379,\n",
       "         'final': 18,\n",
       "         'thi': 270,\n",
       "         'must': 160,\n",
       "         'may': 124,\n",
       "         '2005': 3,\n",
       "         'next': 105,\n",
       "         '87121': 4,\n",
       "         'receive': 39,\n",
       "         'question': 33,\n",
       "         'st': 58,\n",
       "         'txt': 182,\n",
       "         'rate': 32,\n",
       "         't': 105,\n",
       "         'c': 115,\n",
       "         'apply': 31,\n",
       "         '08452810075over18': 2,\n",
       "         'dun': 46,\n",
       "         'say': 116,\n",
       "         'so': 344,\n",
       "         'early': 34,\n",
       "         'for': 887,\n",
       "         'already': 91,\n",
       "         'then': 176,\n",
       "         'ah': 103,\n",
       "         'i': 3031,\n",
       "         'do': 458,\n",
       "         \"n't\": 365,\n",
       "         'think': 156,\n",
       "         'he': 436,\n",
       "         'go': 299,\n",
       "         'life': 103,\n",
       "         'around': 67,\n",
       "         'here': 116,\n",
       "         'though': 26,\n",
       "         'freemsg': 14,\n",
       "         'key': 110,\n",
       "         'darling': 16,\n",
       "         'it': 1657,\n",
       "         'been': 137,\n",
       "         '3': 79,\n",
       "         'week': 134,\n",
       "         'now': 673,\n",
       "         'and': 1050,\n",
       "         'no': 166,\n",
       "         'word': 61,\n",
       "         'back': 161,\n",
       "         \"'d\": 27,\n",
       "         'like': 271,\n",
       "         'some': 145,\n",
       "         'fun': 30,\n",
       "         'you': 2259,\n",
       "         'still': 157,\n",
       "         'b': 80,\n",
       "         'ok': 120,\n",
       "         'x': 57,\n",
       "         'cog': 1,\n",
       "         'send': 157,\n",
       "         '£1.50': 18,\n",
       "         'rev': 2,\n",
       "         'even': 68,\n",
       "         'my': 817,\n",
       "         'brother': 25,\n",
       "         'is': 986,\n",
       "         'not': 535,\n",
       "         'speak': 34,\n",
       "         'with': 392,\n",
       "         'me': 757,\n",
       "         'they': 133,\n",
       "         'treat': 16,\n",
       "         'aid': 3,\n",
       "         'patent': 1,\n",
       "         'per': 59,\n",
       "         'ymy': 684,\n",
       "         'request': 11,\n",
       "         \"'selle\": 3,\n",
       "         'selle': 3,\n",
       "         'minnaminunginte': 3,\n",
       "         'nurungu': 3,\n",
       "         'bettah': 4,\n",
       "         'ha': 131,\n",
       "         'set': 19,\n",
       "         'callertune': 10,\n",
       "         'all': 468,\n",
       "         'caller': 5,\n",
       "         'dres': 15,\n",
       "         '9': 27,\n",
       "         'copy': 11,\n",
       "         'friend': 105,\n",
       "         'winner': 15,\n",
       "         'valued': 13,\n",
       "         'network': 32,\n",
       "         'customer': 60,\n",
       "         'have': 611,\n",
       "         'selected': 29,\n",
       "         'received': 6,\n",
       "         '£900': 7,\n",
       "         'prize': 94,\n",
       "         'reward': 10,\n",
       "         'claim': 115,\n",
       "         'call': 441,\n",
       "         '09061701461': 2,\n",
       "         'code': 13,\n",
       "         'kl341': 2,\n",
       "         'valid': 23,\n",
       "         '12': 8,\n",
       "         'hour': 26,\n",
       "         'had': 182,\n",
       "         'mobile': 147,\n",
       "         '11': 8,\n",
       "         'month': 49,\n",
       "         'or': 815,\n",
       "         'r': 153,\n",
       "         'entitled': 8,\n",
       "         'update': 24,\n",
       "         'the': 1493,\n",
       "         'latest': 42,\n",
       "         'colmy': 22,\n",
       "         'camera': 36,\n",
       "         '08002986030': 2,\n",
       "         \"'m\": 395,\n",
       "         'donna': 57,\n",
       "         'be': 375,\n",
       "         'home': 161,\n",
       "         'soon': 65,\n",
       "         'want': 242,\n",
       "         'talk': 51,\n",
       "         'about': 166,\n",
       "         'stuff': 45,\n",
       "         'anymore': 8,\n",
       "         'tonight': 63,\n",
       "         \"'ve\": 90,\n",
       "         'cried': 1,\n",
       "         'enough': 29,\n",
       "         'today': 156,\n",
       "         'six': 11,\n",
       "         'chance': 41,\n",
       "         'cash': 69,\n",
       "         'from': 300,\n",
       "         '100': 17,\n",
       "         '20,000': 2,\n",
       "         'pound': 23,\n",
       "         'csh11': 2,\n",
       "         '87575': 4,\n",
       "         'most': 44,\n",
       "         '150p/day': 2,\n",
       "         'day': 273,\n",
       "         '16': 52,\n",
       "         'sand': 2,\n",
       "         'reply': 159,\n",
       "         '4': 299,\n",
       "         'into': 66,\n",
       "         'urgent': 71,\n",
       "         'won': 78,\n",
       "         '1': 91,\n",
       "         'membership': 3,\n",
       "         '£100,000': 2,\n",
       "         'jackpot': 2,\n",
       "         '81010': 2,\n",
       "         'www.but.net': 2,\n",
       "         'lccltd': 2,\n",
       "         'pobox': 16,\n",
       "         '4403ldnw1a7rw18': 2,\n",
       "         'searching': 5,\n",
       "         'right': 143,\n",
       "         'thank': 104,\n",
       "         'breathe': 3,\n",
       "         'promise': 12,\n",
       "         'wont': 73,\n",
       "         'take': 164,\n",
       "         'help': 53,\n",
       "         'granted': 1,\n",
       "         'will': 403,\n",
       "         'fulfil': 1,\n",
       "         'wonderful': 17,\n",
       "         'blessing': 5,\n",
       "         'at': 447,\n",
       "         'time': 249,\n",
       "         'date': 20,\n",
       "         'sunday': 9,\n",
       "         'xxxmobilemovieclub': 1,\n",
       "         'use': 49,\n",
       "         'credit': 23,\n",
       "         'click': 7,\n",
       "         'wap': 6,\n",
       "         'link': 11,\n",
       "         'message': 109,\n",
       "         'http': 19,\n",
       "         'wa': 374,\n",
       "         'xxxmobilemovieclub.com': 1,\n",
       "         'n=qjkgighjjgcbl': 1,\n",
       "         'oh': 124,\n",
       "         'watching': 37,\n",
       "         'remember': 35,\n",
       "         'how': 157,\n",
       "         'spell': 3,\n",
       "         'hi': 223,\n",
       "         'name': 49,\n",
       "         'ye': 102,\n",
       "         'did': 170,\n",
       "         'v': 53,\n",
       "         'naughty': 6,\n",
       "         'make': 113,\n",
       "         'wet': 4,\n",
       "         'that': 742,\n",
       "         's': 63,\n",
       "         'way': 104,\n",
       "         'feel': 73,\n",
       "         'england': 11,\n",
       "         'macedonium': 1,\n",
       "         'dont': 107,\n",
       "         'mis': 82,\n",
       "         'goals/team': 1,\n",
       "         'news': 19,\n",
       "         'national': 12,\n",
       "         'team': 6,\n",
       "         '87077': 8,\n",
       "         'eg': 11,\n",
       "         'cry': 13,\n",
       "         'wale': 3,\n",
       "         'scotland': 3,\n",
       "         'txt/of.20': 1,\n",
       "         'poboxox36504w45wq': 1,\n",
       "         'seriously': 9,\n",
       "         '‘': 37,\n",
       "         'm': 36,\n",
       "         'going': 196,\n",
       "         'try': 47,\n",
       "         'ü': 173,\n",
       "         'pay': 35,\n",
       "         'first': 63,\n",
       "         'when': 360,\n",
       "         'da': 134,\n",
       "         'stock': 6,\n",
       "         'coming': 65,\n",
       "         'oft': 4,\n",
       "         'finish': 43,\n",
       "         'lunch': 46,\n",
       "         'sir': 25,\n",
       "         'down': 66,\n",
       "         'rd': 19,\n",
       "         'smith': 17,\n",
       "         'ffffffffff': 1,\n",
       "         'alright': 23,\n",
       "         'can': 395,\n",
       "         'meet': 80,\n",
       "         'sooner': 4,\n",
       "         'forced': 1,\n",
       "         'myself': 10,\n",
       "         'eat': 36,\n",
       "         'slouse': 2,\n",
       "         'really': 91,\n",
       "         'hungry': 14,\n",
       "         'suck': 8,\n",
       "         'dark': 10,\n",
       "         'getting': 61,\n",
       "         'worried': 10,\n",
       "         'know': 288,\n",
       "         'sick': 16,\n",
       "         'turn': 9,\n",
       "         'penza': 8,\n",
       "         'vol': 67,\n",
       "         'alway': 60,\n",
       "         'convincing': 1,\n",
       "         'catch': 10,\n",
       "         'bu': 29,\n",
       "         'are': 504,\n",
       "         'trying': 48,\n",
       "         'an': 210,\n",
       "         'egg': 6,\n",
       "         'tea': 7,\n",
       "         'eating': 17,\n",
       "         'mon': 25,\n",
       "         'left': 40,\n",
       "         'over': 82,\n",
       "         'dinner': 37,\n",
       "         'love': 210,\n",
       "         'amp': 88,\n",
       "         'we': 281,\n",
       "         \"'re\": 89,\n",
       "         'packing': 1,\n",
       "         'car': 44,\n",
       "         \"'ll\": 232,\n",
       "         'let': 122,\n",
       "         'room': 41,\n",
       "         'heh': 1,\n",
       "         'work': 110,\n",
       "         'vaguely': 1,\n",
       "         'wait': 64,\n",
       "         'clear': 3,\n",
       "         'were': 66,\n",
       "         'sure': 76,\n",
       "         'being': 45,\n",
       "         'sarcastic': 2,\n",
       "         'why': 86,\n",
       "         'live': 43,\n",
       "         'yeah': 87,\n",
       "         'apologetic': 1,\n",
       "         'fallen': 1,\n",
       "         'out': 269,\n",
       "         'she': 120,\n",
       "         'action': 5,\n",
       "         'spoil': 2,\n",
       "         'child': 12,\n",
       "         'caught': 3,\n",
       "         'but': 456,\n",
       "         'wo': 24,\n",
       "         'doing': 85,\n",
       "         'too': 135,\n",
       "         'badly': 1,\n",
       "         'cheer': 9,\n",
       "         'tell': 126,\n",
       "         'anything': 79,\n",
       "         'fear': 1,\n",
       "         'fainting': 1,\n",
       "         'homework': 1,\n",
       "         'just': 277,\n",
       "         'quick': 8,\n",
       "         'cuba': 1,\n",
       "         'subscription': 6,\n",
       "         'ringtone': 34,\n",
       "         'charged': 13,\n",
       "         '£5/month': 1,\n",
       "         'please': 131,\n",
       "         'confirm': 11,\n",
       "         'by': 311,\n",
       "         'replying': 8,\n",
       "         'look': 40,\n",
       "         'tiding': 1,\n",
       "         'mug': 68,\n",
       "         'again': 65,\n",
       "         'xuhui': 3,\n",
       "         'learn': 7,\n",
       "         'her': 136,\n",
       "         'lesson': 26,\n",
       "         'am': 271,\n",
       "         'top': 33,\n",
       "         'roommate': 8,\n",
       "         'done': 48,\n",
       "         'see': 194,\n",
       "         'letter': 15,\n",
       "         'decide': 9,\n",
       "         'hello': 51,\n",
       "         'saturday': 16,\n",
       "         'testing': 7,\n",
       "         'decided': 16,\n",
       "         'invite': 3,\n",
       "         'ahead': 7,\n",
       "         'wanted': 29,\n",
       "         'weekend': 40,\n",
       "         'abiola': 11,\n",
       "         'forget': 21,\n",
       "         'need': 184,\n",
       "         'grave': 13,\n",
       "         'sweet': 38,\n",
       "         'arabian': 1,\n",
       "         'steed': 1,\n",
       "         'mmmmmm': 2,\n",
       "         'mummy': 8,\n",
       "         '07732584351': 1,\n",
       "         'lodger': 1,\n",
       "         'burn': 6,\n",
       "         'msg': 6,\n",
       "         'tried': 22,\n",
       "         're': 27,\n",
       "         'sum': 52,\n",
       "         'nikitum': 6,\n",
       "         'camcorder': 15,\n",
       "         '08000930705': 16,\n",
       "         'delivery': 22,\n",
       "         'tomorrow': 95,\n",
       "         'who': 127,\n",
       "         'seeing': 14,\n",
       "         'hope': 127,\n",
       "         'man': 96,\n",
       "         'well': 146,\n",
       "         'endowed': 1,\n",
       "         'inch': 7,\n",
       "         'calls..messages..missed': 3,\n",
       "         'get': 367,\n",
       "         'immunisation': 1,\n",
       "         'siberium': 8,\n",
       "         'hair': 25,\n",
       "         'hopefully': 5,\n",
       "         'tyler': 6,\n",
       "         'ca': 56,\n",
       "         'could': 64,\n",
       "         'maybe': 31,\n",
       "         'ask': 98,\n",
       "         'bit': 43,\n",
       "         'stubborn': 1,\n",
       "         'hospital': 12,\n",
       "         'kept': 11,\n",
       "         'telling': 14,\n",
       "         'weak': 5,\n",
       "         'sucked': 1,\n",
       "         'succes': 3,\n",
       "         'thanked': 1,\n",
       "         'saw': 24,\n",
       "         'clas': 46,\n",
       "         'gram': 3,\n",
       "         'usually': 6,\n",
       "         'run': 50,\n",
       "         'half': 38,\n",
       "         'eighth': 3,\n",
       "         'smarter': 1,\n",
       "         'almost': 13,\n",
       "         'whole': 16,\n",
       "         'second': 21,\n",
       "         'fous': 4,\n",
       "         'ride': 4,\n",
       "         'morning': 80,\n",
       "         'crashing': 1,\n",
       "         'place': 67,\n",
       "         'never': 46,\n",
       "         'realized': 3,\n",
       "         'embarrassed': 5,\n",
       "         'accommodation': 2,\n",
       "         'thought': 48,\n",
       "         'liked': 7,\n",
       "         'since': 28,\n",
       "         'best': 43,\n",
       "         'seemed': 4,\n",
       "         'happy': 110,\n",
       "         'cave': 1,\n",
       "         'sorry': 158,\n",
       "         'give': 113,\n",
       "         'offered': 1,\n",
       "         'embarrassing': 1,\n",
       "         'sm': 24,\n",
       "         'ac': 4,\n",
       "         'apt': 6,\n",
       "         'new': 137,\n",
       "         'jersey': 2,\n",
       "         'evil': 2,\n",
       "         'detroit': 2,\n",
       "         'red': 41,\n",
       "         'king': 15,\n",
       "         'play': 32,\n",
       "         'ice': 8,\n",
       "         'jockey': 1,\n",
       "         'correct': 14,\n",
       "         'incorrect': 1,\n",
       "         'end': 98,\n",
       "         'sptv': 1,\n",
       "         'what': 180,\n",
       "         'pallida': 1,\n",
       "         'sherawat': 1,\n",
       "         'yesterday': 24,\n",
       "         'mind': 96,\n",
       "         'url': 3,\n",
       "         'congrat': 17,\n",
       "         'year': 71,\n",
       "         'special': 45,\n",
       "         'cinema': 8,\n",
       "         'pas': 12,\n",
       "         'your': 21,\n",
       "         '09061209465': 3,\n",
       "         'suprman': 3,\n",
       "         'matrix': 4,\n",
       "         'starwars3': 3,\n",
       "         'etc': 14,\n",
       "         'bx420-in-we': 3,\n",
       "         '150pm': 6,\n",
       "         'later': 146,\n",
       "         'meeting': 48,\n",
       "         'where': 69,\n",
       "         'reached': 11,\n",
       "         'yes..antus': 1,\n",
       "         'shag': 2,\n",
       "         'odd': 3,\n",
       "         'series': 6,\n",
       "         'pick': 98,\n",
       "         'burgher': 1,\n",
       "         'yourself': 22,\n",
       "         'move': 26,\n",
       "         'pain': 32,\n",
       "         'killing': 2,\n",
       "         'good': 255,\n",
       "         'joke': 13,\n",
       "         'girl': 56,\n",
       "         'situation': 10,\n",
       "         'seeker': 1,\n",
       "         'part': 35,\n",
       "         'checking': 11,\n",
       "         'took': 30,\n",
       "         'forever': 13,\n",
       "         'double': 23,\n",
       "         'check': 42,\n",
       "         'dresser': 3,\n",
       "         'said': 92,\n",
       "         'cut': 25,\n",
       "         'short': 10,\n",
       "         'nice': 53,\n",
       "         'pleased': 6,\n",
       "         'advise': 3,\n",
       "         'following': 8,\n",
       "         'recent': 3,\n",
       "         'review': 7,\n",
       "         'mob': 28,\n",
       "         'awarded': 38,\n",
       "         '£1500': 3,\n",
       "         'bonu': 21,\n",
       "         '09066364589': 2,\n",
       "         'song': 18,\n",
       "         'dedicated': 2,\n",
       "         'which': 61,\n",
       "         'dedicate': 2,\n",
       "         'valuable': 3,\n",
       "         'fund': 13,\n",
       "         'complimentary': 12,\n",
       "         'trip': 23,\n",
       "         'eurodisinc': 2,\n",
       "         'ran': 12,\n",
       "         'co': 71,\n",
       "         'entry41': 2,\n",
       "         '£1000': 35,\n",
       "         'di': 31,\n",
       "         '18+6*£1.50': 2,\n",
       "         'morefrmmob': 2,\n",
       "         'shracomorsglsuplt': 2,\n",
       "         '10': 18,\n",
       "         'ls1': 2,\n",
       "         '3aj': 2,\n",
       "         'hear': 29,\n",
       "         'divorce': 2,\n",
       "         'marie': 1,\n",
       "         'plane': 5,\n",
       "         'lucky': 17,\n",
       "         'save': 8,\n",
       "         'money': 62,\n",
       "         'finished': 23,\n",
       "         'babe': 83,\n",
       "         'wan': 56,\n",
       "         'na': 14,\n",
       "         'something': 74,\n",
       "         'k..k': 5,\n",
       "         'performed': 1,\n",
       "         'waiting': 57,\n",
       "         'mahan': 5,\n",
       "         'once': 33,\n",
       "         'hat': 23,\n",
       "         'cool': 30,\n",
       "         'gentleman': 3,\n",
       "         'dignity': 3,\n",
       "         'respect': 3,\n",
       "         'people': 1,\n",
       "         'very': 97,\n",
       "         'much': 115,\n",
       "         'shy': 2,\n",
       "         'pa': 25,\n",
       "         'operate': 1,\n",
       "         'after': 94,\n",
       "         'same': 58,\n",
       "         'looking': 35,\n",
       "         'job': 45,\n",
       "         'earn': 2,\n",
       "         'stop': 160,\n",
       "         'real': 39,\n",
       "         'ticket': 14,\n",
       "         'one': 213,\n",
       "         'jacket': 2,\n",
       "         'used': 15,\n",
       "         'multus': 1,\n",
       "         'started': 18,\n",
       "         'came': 27,\n",
       "         'bed': 41,\n",
       "         'coin': 6,\n",
       "         'factory': 1,\n",
       "         'guttum': 14,\n",
       "         'nitric': 2,\n",
       "         'kann': 4,\n",
       "         'il': 6,\n",
       "         'download': 18,\n",
       "         'wen': 14,\n",
       "         'stand': 8,\n",
       "         'close': 20,\n",
       "         'll': 38,\n",
       "         'another': 38,\n",
       "         'night': 113,\n",
       "         'spent': 8,\n",
       "         'late': 72,\n",
       "         'afternoon': 30,\n",
       "         'casualty': 1,\n",
       "         'mean': 46,\n",
       "         'any': 139,\n",
       "         'y': 44,\n",
       "         'stuff42moro': 1,\n",
       "         'include': 5,\n",
       "         'sheet': 4,\n",
       "         'smile': 53,\n",
       "         'pleasure': 8,\n",
       "         'trouble': 8,\n",
       "         'hurt': 31,\n",
       "         'become': 12,\n",
       "         'someone': 66,\n",
       "         'smiling': 20,\n",
       "         'service': 77,\n",
       "         'representative': 10,\n",
       "         '0800': 13,\n",
       "         '169': 2,\n",
       "         '6031': 2,\n",
       "         'between': 31,\n",
       "         'am-pm': 10,\n",
       "         'guaranteed': 50,\n",
       "         '£5000': 20,\n",
       "         'event': 11,\n",
       "         'planning': 8,\n",
       "         'buy': 66,\n",
       "         'lid': 8,\n",
       "         '530': 5,\n",
       "         'show': 60,\n",
       "         'collected': 3,\n",
       "         'simply': 6,\n",
       "         'text': 173,\n",
       "         'password': 9,\n",
       "         'mix': 3,\n",
       "         '85069': 2,\n",
       "         'verify': 3,\n",
       "         'met': 82,\n",
       "         'usher': 2,\n",
       "         'whitney': 2,\n",
       "         'fml': 2,\n",
       "         'box': 38,\n",
       "         '5249': 2,\n",
       "         'mk17': 2,\n",
       "         '92h': 2,\n",
       "         '450ppw': 2,\n",
       "         'deluge': 2,\n",
       "         'movie..wat': 1,\n",
       "         'load': 17,\n",
       "         'loan': 8,\n",
       "         'hold': 18,\n",
       "         'forgot': 31,\n",
       "         'hairdresser': 1,\n",
       "         'appointment': 5,\n",
       "         'fmy': 3,\n",
       "         'shower': 12,\n",
       "         'beforehand': 1,\n",
       "         'cause': 19,\n",
       "         'probe': 18,\n",
       "         'cup': 6,\n",
       "         'coffee': 8,\n",
       "         'animation': 2,\n",
       "         'nothing': 40,\n",
       "         'else': 24,\n",
       "         'okay': 27,\n",
       "         'price': 26,\n",
       "         'long': 50,\n",
       "         'legal': 4,\n",
       "         'them': 83,\n",
       "         'ave': 6,\n",
       "         'xx': 13,\n",
       "         'gone': 20,\n",
       "         'driving': 22,\n",
       "         'test': 25,\n",
       "         'yet': 49,\n",
       "         'gues': 38,\n",
       "         'gave': 10,\n",
       "         'boston': 21,\n",
       "         'changed': 9,\n",
       "         'search': 17,\n",
       "         'location': 7,\n",
       "         'ny': 4,\n",
       "         'kuz': 12,\n",
       "         'signing': 3,\n",
       "         'page': 11,\n",
       "         'emma': 9,\n",
       "         'cava': 8,\n",
       "         'gumma': 5,\n",
       "         'lot': 55,\n",
       "         'dear': 137,\n",
       "         'wish': 65,\n",
       "         'birthday': 38,\n",
       "         'making': 27,\n",
       "         'truly': 5,\n",
       "         'memorable': 1,\n",
       "         'hit': 18,\n",
       "         'would': 91,\n",
       "         'addres': 21,\n",
       "         'considering': 4,\n",
       "         'computer': 13,\n",
       "         'minecraft': 1,\n",
       "         'server': 1,\n",
       "         'grumpy': 1,\n",
       "         'old': 27,\n",
       "         'person': 102,\n",
       "         'better': 37,\n",
       "         'lying': 1,\n",
       "         'worry': 32,\n",
       "         'busy': 23,\n",
       "         'plural': 1,\n",
       "         'noun': 2,\n",
       "         'research': 4,\n",
       "         'dinner.mug': 1,\n",
       "         'thing': 117,\n",
       "         'scared': 5,\n",
       "         'o': 69,\n",
       "         'loud': 3,\n",
       "         'gent': 2,\n",
       "         'contact': 70,\n",
       "         'last': 81,\n",
       "         'draw': 42,\n",
       "         '09064012160': 2,\n",
       "         'rode': 18,\n",
       "         'k52': 3,\n",
       "         '12hr': 17,\n",
       "         '150ppm': 34,\n",
       "         'opening': 4,\n",
       "         'sentence': 3,\n",
       "         'formal': 1,\n",
       "         'anyway': 31,\n",
       "         'fine': 44,\n",
       "         'jug': 19,\n",
       "         'tt': 5,\n",
       "         'putting': 8,\n",
       "         'weight': 8,\n",
       "         'happened': 20,\n",
       "         'entered': 11,\n",
       "         'cabin': 5,\n",
       "         \"b'day\": 10,\n",
       "         'los': 9,\n",
       "         'felt': 13,\n",
       "         'asked': 40,\n",
       "         'invited': 16,\n",
       "         'apartment': 8,\n",
       "         'went': 78,\n",
       "         'specially': 9,\n",
       "         'holiday': 44,\n",
       "         'flight': 8,\n",
       "         'operator': 15,\n",
       "         '0871277810910p/min': 1,\n",
       "         '18': 43,\n",
       "         'friday': 15,\n",
       "         'egg-potato': 1,\n",
       "         'ratio': 1,\n",
       "         'gorilla': 2,\n",
       "         'needed': 3,\n",
       "         'mmm': 32,\n",
       "         'uncle': 16,\n",
       "         'informed': 5,\n",
       "         'paying': 8,\n",
       "         'school': 29,\n",
       "         'directly': 6,\n",
       "         'pu': 49,\n",
       "         'food': 22,\n",
       "         'private': 19,\n",
       "         '2004': 8,\n",
       "         'account': 42,\n",
       "         'statement': 18,\n",
       "         '07742676969': 2,\n",
       "         '786': 4,\n",
       "         'redeemed': 4,\n",
       "         'joint': 4,\n",
       "         '08719180248': 2,\n",
       "         'identified': 16,\n",
       "         '45239': 3,\n",
       "         'expired': 18,\n",
       "         '£2000': 20,\n",
       "         'taller': 11,\n",
       "         '5/9/03': 1,\n",
       "         'handling': 7,\n",
       "         '09064019788': 1,\n",
       "         'box42wr29c': 1,\n",
       "         'apple': 1,\n",
       "         'pair': 1,\n",
       "         'salary': 5,\n",
       "         'soda': 5,\n",
       "         'number': 107,\n",
       "         'ending': 9,\n",
       "         '7548': 1,\n",
       "         '350': 2,\n",
       "         'award': 29,\n",
       "         'match': 18,\n",
       "         '08712300220': 6,\n",
       "         'quoting': 5,\n",
       "         '4041': 1,\n",
       "         'standard': 6,\n",
       "         'pp': 20,\n",
       "         'predict': 1,\n",
       "         'buying': 9,\n",
       "         'retuned': 4,\n",
       "         'sent': 64,\n",
       "         'bother': 7,\n",
       "         'sending': 12,\n",
       "         'involve': 1,\n",
       "         'should': 103,\n",
       "         'imposed': 1,\n",
       "         'apologise': 3,\n",
       "         'hey': 15,\n",
       "         'del': 2,\n",
       "         'bak': 3,\n",
       "         'lucyxx': 1,\n",
       "         'cost': 21,\n",
       "         'morrow.pu': 1,\n",
       "         'accommodate': 1,\n",
       "         'answer': 27,\n",
       "         'sunshine': 9,\n",
       "         'ruin': 12,\n",
       "         'q': 6,\n",
       "         'bony': 8,\n",
       "         'dvd': 7,\n",
       "         'player': 19,\n",
       "         'country': 7,\n",
       "         'algarve': 2,\n",
       "         '82277': 5,\n",
       "         'throne': 4,\n",
       "         'laid': 5,\n",
       "         'logging': 12,\n",
       "         'direct': 12,\n",
       "         'join': 30,\n",
       "         'largest': 4,\n",
       "         'acting': 3,\n",
       "         'gravel': 1,\n",
       "         '69888': 2,\n",
       "         'ecka': 4,\n",
       "         'up.mug': 2,\n",
       "         '150p': 27,\n",
       "         'yijue': 7,\n",
       "         'hotmail.com': 1,\n",
       "         'him': 124,\n",
       "         'before': 70,\n",
       "         'activity': 4,\n",
       "         'leg': 20,\n",
       "         'chat': 47,\n",
       "         'sac': 5,\n",
       "         'hardcore': 2,\n",
       "         '69988': 1,\n",
       "         'age': 24,\n",
       "         'lazy': 9,\n",
       "         'type': 21,\n",
       "         'pouch': 5,\n",
       "         'air': 26,\n",
       "         'mail': 26,\n",
       "         'sat': 29,\n",
       "         'tired': 12,\n",
       "         'little': 30,\n",
       "         'movable': 10,\n",
       "         'oz..sometime': 1,\n",
       "         'those': 29,\n",
       "         'occupy': 2,\n",
       "         'd': 130,\n",
       "         'biggest': 4,\n",
       "         'their': 15,\n",
       "         'heart': 50,\n",
       "         'mud': 58,\n",
       "         'nip': 13,\n",
       "         'open': 18,\n",
       "         'dot': 4,\n",
       "         'staff': 2,\n",
       "         'taking': 31,\n",
       "         'replied': 6,\n",
       "         'bandy': 3,\n",
       "         'sex': 36,\n",
       "         'female': 3,\n",
       "         'local': 8,\n",
       "         'netcollex': 4,\n",
       "         'ltd': 15,\n",
       "         '08700621170150p': 2,\n",
       "         'mamma.will': 1,\n",
       "         'in.my': 1,\n",
       "         'begin': 6,\n",
       "         'pray': 7,\n",
       "         'hard': 16,\n",
       "         'k..i': 1,\n",
       "         'delete': 6,\n",
       "         'hindu': 1,\n",
       "         'soft': 3,\n",
       "         'wine': 7,\n",
       "         'flowing': 2,\n",
       "         'severing': 1,\n",
       "         'typical': 1,\n",
       "         'everywhere': 2,\n",
       "         'dirt': 1,\n",
       "         'floor': 3,\n",
       "         'window': 4,\n",
       "         'shirt': 7,\n",
       "         'sometime': 14,\n",
       "         'mouth': 2,\n",
       "         'dream': 29,\n",
       "         'without': 32,\n",
       "         'shore': 2,\n",
       "         'joy': 6,\n",
       "         'i.ll': 28,\n",
       "         'exist': 1,\n",
       "         'rain': 8,\n",
       "         'hail': 2,\n",
       "         'mist': 1,\n",
       "         'aaooooright': 1,\n",
       "         'leaving': 19,\n",
       "         'house': 36,\n",
       "         'interview': 5,\n",
       "         'boy': 48,\n",
       "         'missing': 20,\n",
       "         'announcement': 7,\n",
       "         '07046744435': 1,\n",
       "         'arrange': 6,\n",
       "         '0871277810810': 2,\n",
       "         'deep': 19,\n",
       "         'safe': 11,\n",
       "         'because': 40,\n",
       "         'envy': 1,\n",
       "         'everyone': 19,\n",
       "         'parent': 21,\n",
       "         'hand': 26,\n",
       "         'excited': 1,\n",
       "         'each': 21,\n",
       "         'spend': 10,\n",
       "         'pl': 1,\n",
       "         'bootydeliou': 1,\n",
       "         '32/f': 1,\n",
       "         'inviting': 6,\n",
       "         'yes-434': 1,\n",
       "         'of-434': 1,\n",
       "         'www.sms.ac/u/bootydeliou': 1,\n",
       "         'frnd': 8,\n",
       "         '62468': 7,\n",
       "         'bangbabe': 1,\n",
       "         'order': 36,\n",
       "         'sg': 10,\n",
       "         'content': 18,\n",
       "         'bang': 3,\n",
       "         'internet/service': 1,\n",
       "         'menu': 7,\n",
       "         'culture': 1,\n",
       "         'module': 2,\n",
       "         '09061701939': 1,\n",
       "         's89': 1,\n",
       "         'find': 84,\n",
       "         'avoid': 3,\n",
       "         'missunderstding': 1,\n",
       "         'wit': 15,\n",
       "         'beloved': 6,\n",
       "         'escape': 4,\n",
       "         'fancy': 17,\n",
       "         'bridge': 1,\n",
       "         'completely': 9,\n",
       "         'form': 7,\n",
       "         'clark': 2,\n",
       "         'also': 72,\n",
       "         'utter': 5,\n",
       "         'waste': 6,\n",
       "         'axi': 1,\n",
       "         'bank': 18,\n",
       "         'hop': 7,\n",
       "         'discus': 5,\n",
       "         'liar': 37,\n",
       "         'bloody': 4,\n",
       "         'hell': 11,\n",
       "         'believe': 22,\n",
       "         'surname': 1,\n",
       "         'clue': 1,\n",
       "         'spanish': 3,\n",
       "         'bath': 16,\n",
       "         'carlo': 9,\n",
       "         'mall': 3,\n",
       "         'staying': 11,\n",
       "         'til': 22,\n",
       "         'smoke': 22,\n",
       "         'worth': 16,\n",
       "         'doesn': 10,\n",
       "         'log': 17,\n",
       "         'spoke': 6,\n",
       "         'maneesha': 3,\n",
       "         'satisfied': 3,\n",
       "         'experience': 7,\n",
       "         ...})"
      ]
     },
     "execution_count": 191,
     "metadata": {},
     "output_type": "execute_result"
    }
   ],
   "source": [
    "# obtain corpus, vocabulary for all spam and ham messages\n",
    "from textblob import TextBlob\n",
    "from collections import Counter\n",
    "\n",
    "corpus = \" \".join(X).lower()\n",
    "document = TextBlob(corpus)\n",
    "vocabulary = Counter(document.words)\n",
    "vocabulary"
   ]
  },
  {
   "cell_type": "code",
   "execution_count": 192,
   "metadata": {},
   "outputs": [
    {
     "data": {
      "text/plain": [
       "(4825, 747, 5572)"
      ]
     },
     "execution_count": 192,
     "metadata": {},
     "output_type": "execute_result"
    }
   ],
   "source": [
    "# ham\n",
    "X_ham = [X[i] for i in range(len(y)) if y[i] == 'ham']\n",
    "X_spam = [X[i] for i in range(len(y)) if y[i] == 'spam']\n",
    "len(X_ham), len(X_spam), len(X)"
   ]
  },
  {
   "cell_type": "code",
   "execution_count": 193,
   "metadata": {
    "collapsed": true
   },
   "outputs": [],
   "source": [
    "# most frequent words of X_ham\n",
    "corpus_X_ham = \" \".join(X_ham).lower().split()\n",
    "document_ham = TextBlob(\" \".join(X_ham).lower())\n",
    "vocabulary_X_ham = Counter(document_ham.words)"
   ]
  },
  {
   "cell_type": "code",
   "execution_count": 194,
   "metadata": {
    "scrolled": false
   },
   "outputs": [
    {
     "data": {
      "text/plain": [
       "[[<matplotlib.text.Text at 0x3e3706b00>,\n",
       "  <matplotlib.text.Text at 0x3e370c160>,\n",
       "  <matplotlib.text.Text at 0x3e376cef0>,\n",
       "  <matplotlib.text.Text at 0x3e3770908>,\n",
       "  <matplotlib.text.Text at 0x3e3776320>,\n",
       "  <matplotlib.text.Text at 0x3e3776cf8>,\n",
       "  <matplotlib.text.Text at 0x3e377c710>,\n",
       "  <matplotlib.text.Text at 0x3e3782128>,\n",
       "  <matplotlib.text.Text at 0x3e3782b00>,\n",
       "  <matplotlib.text.Text at 0x3e3787518>]]"
      ]
     },
     "execution_count": 194,
     "metadata": {},
     "output_type": "execute_result"
    },
    {
     "data": {
      "image/png": "[encoded data removed]",
      "text/plain": [
       "<matplotlib.figure.Figure at 0x3e004f198>"
      ]
     },
     "metadata": {},
     "output_type": "display_data"
    }
   ],
   "source": [
    "ham_counts_sorted = sorted(vocabulary_X_ham.items(), \n",
    "                            key=operator.itemgetter(1),\n",
    "                            reverse=True)\n",
    "\n",
    "labels, values = zip(*ham_counts_sorted[:10])\n",
    "\n",
    "indexes = np.arange(len(labels))\n",
    "width = 1\n",
    "\n",
    "# plt.bar(indexes, values, width)\n",
    "ax = sn.barplot(indexes, values)\n",
    "ax.set(xticklabels=labels)\n"
   ]
  },
  {
   "cell_type": "code",
   "execution_count": 195,
   "metadata": {
    "scrolled": false
   },
   "outputs": [
    {
     "data": {
      "text/plain": [
       "[[<matplotlib.text.Text at 0x3e3ff5b70>,\n",
       "  <matplotlib.text.Text at 0x3e3ffb198>,\n",
       "  <matplotlib.text.Text at 0x3ef6070f0>,\n",
       "  <matplotlib.text.Text at 0x3ef354f28>,\n",
       "  <matplotlib.text.Text at 0x3ef354c50>,\n",
       "  <matplotlib.text.Text at 0x3ee77c9e8>,\n",
       "  <matplotlib.text.Text at 0x3ef8dbc18>,\n",
       "  <matplotlib.text.Text at 0x3efa17f28>,\n",
       "  <matplotlib.text.Text at 0x3ee917898>,\n",
       "  <matplotlib.text.Text at 0x3ee917438>]]"
      ]
     },
     "execution_count": 195,
     "metadata": {},
     "output_type": "execute_result"
    },
    {
     "data": {
      "image/png": "[encoded data removed]",
      "text/plain": [
       "<matplotlib.figure.Figure at 0x3e0084748>"
      ]
     },
     "metadata": {},
     "output_type": "display_data"
    }
   ],
   "source": [
    "# top 10 most frequent words of X_spam\n",
    "corpus_X_spam = \" \".join(X_spam).lower().split()\n",
    "document_spam = TextBlob(\" \".join(X_spam).lower())\n",
    "vocabulary_X_spam = Counter(document_spam.words)\n",
    "spam_counts_sorted = sorted(vocabulary_X_spam.items(), \n",
    "                            key=operator.itemgetter(1),\n",
    "                            reverse=True)\n",
    "\n",
    "labels, values = zip(*spam_counts_sorted[:10])\n",
    "\n",
    "indexes = np.arange(len(labels))\n",
    "width = 1\n",
    "\n",
    "ax = sn.barplot(indexes, values)\n",
    "ax.set(xticklabels=labels)\n",
    "# plt.bar(indexes, values, width)\n",
    "# plt.xticks(indexes + width * 0.5, labels)"
   ]
  },
  {
   "cell_type": "code",
   "execution_count": 196,
   "metadata": {
    "collapsed": true,
    "scrolled": true
   },
   "outputs": [],
   "source": [
    "# union = vocabulary_X_spam & vocabulary_X_ham\n",
    "# union.most_common()[:10]"
   ]
  },
  {
   "cell_type": "code",
   "execution_count": 197,
   "metadata": {},
   "outputs": [
    {
     "data": {
      "image/png": "[encoded data removed]",
      "text/plain": [
       "<matplotlib.figure.Figure at 0x3efa3c4e0>"
      ]
     },
     "metadata": {},
     "output_type": "display_data"
    }
   ],
   "source": [
    "from matplotlib_venn import venn2, venn2_circles\n",
    "\n",
    "plt.figure(figsize=(6,6))\n",
    "venn2([vocabulary_X_spam.keys(), vocabulary_X_ham.keys()], ('Spams', 'Hams'),set_colors=('r', 'g'))\n",
    "plt.show()"
   ]
  },
  {
   "cell_type": "code",
   "execution_count": 198,
   "metadata": {},
   "outputs": [
    {
     "data": {
      "text/plain": [
       "(70558, 17977)"
      ]
     },
     "execution_count": 198,
     "metadata": {},
     "output_type": "execute_result"
    }
   ],
   "source": [
    "len(corpus_X_ham), len(corpus_X_spam)"
   ]
  },
  {
   "cell_type": "code",
   "execution_count": 199,
   "metadata": {
    "collapsed": true
   },
   "outputs": [],
   "source": [
    "# X_h = set(corpus_X_ham)\n",
    "# X_s = set(corpus_X_spam)\n",
    "# # differences\n",
    "# diff = X_h.difference(X_s)"
   ]
  },
  {
   "cell_type": "code",
   "execution_count": 200,
   "metadata": {
    "scrolled": true
   },
   "outputs": [
    {
     "data": {
      "image/png": "[encoded data removed]",
      "text/plain": [
       "<matplotlib.figure.Figure at 0x3eff68a20>"
      ]
     },
     "metadata": {},
     "output_type": "display_data"
    }
   ],
   "source": [
    "from matplotlib_venn_wordcloud import venn2_wordcloud\n",
    "\n",
    "# create visualisation\n",
    "venn2_wordcloud([set(vocabulary_X_spam.keys()), set(vocabulary_X_ham.keys())], ('Spams', 'Hams'),set_colors=['w','w'], set_edgecolors=['r','g'])\n",
    "plt.show()"
   ]
  },
  {
   "cell_type": "code",
   "execution_count": 201,
   "metadata": {
    "collapsed": true
   },
   "outputs": [],
   "source": [
    "spam_keys = set(vocabulary_X_spam).difference(set(vocabulary_X_ham))\n",
    "ham_keys = set(vocabulary_X_ham).difference(set(vocabulary_X_spam))"
   ]
  },
  {
   "cell_type": "code",
   "execution_count": 202,
   "metadata": {
    "collapsed": true
   },
   "outputs": [],
   "source": [
    "ham_words = [(i,v) for i,v in vocabulary_X_ham.items() for j in ham_keys if i == j]\n",
    "labels = [i for i,v in ham_words]\n",
    "values = [v for i,v in ham_words]"
   ]
  },
  {
   "cell_type": "code",
   "execution_count": 203,
   "metadata": {
    "collapsed": true
   },
   "outputs": [],
   "source": [
    "dh = pd.DataFrame({'labels': labels, 'values': values})\n",
    "dh = dh.sort_values(by='values', axis=0, ascending=False, inplace=False)"
   ]
  },
  {
   "cell_type": "code",
   "execution_count": 204,
   "metadata": {},
   "outputs": [
    {
     "data": {
      "text/plain": [
       "[[<matplotlib.text.Text at 0x3ee04ae48>,\n",
       "  <matplotlib.text.Text at 0x3ec94ef28>,\n",
       "  <matplotlib.text.Text at 0x12cfe82b0>,\n",
       "  <matplotlib.text.Text at 0x12d0beb00>,\n",
       "  <matplotlib.text.Text at 0x12d010748>,\n",
       "  <matplotlib.text.Text at 0x12cfe9470>,\n",
       "  <matplotlib.text.Text at 0x12d0e7160>,\n",
       "  <matplotlib.text.Text at 0x12d042e10>,\n",
       "  <matplotlib.text.Text at 0x12d006e48>,\n",
       "  <matplotlib.text.Text at 0x12d088f60>]]"
      ]
     },
     "execution_count": 204,
     "metadata": {},
     "output_type": "execute_result"
    },
    {
     "data": {
      "image/png": "[encoded data removed]",
      "text/plain": [
       "<matplotlib.figure.Figure at 0x12dde5908>"
      ]
     },
     "metadata": {},
     "output_type": "display_data"
    }
   ],
   "source": [
    "labels, values = np.array(list(dh['labels'])[:10]), list(dh['values'])[:10]\n",
    "indexes = np.arange(len(labels))\n",
    "plt.figure(figsize=(8,4))\n",
    "ax = sn.barplot(indexes, values)\n",
    "ax.set(xticklabels=labels)\n"
   ]
  },
  {
   "cell_type": "code",
   "execution_count": 225,
   "metadata": {
    "collapsed": true
   },
   "outputs": [],
   "source": [
    "spam_words = [(i,v) for i,v in vocabulary_X_spam.items() for j in spam_keys if i == j]\n",
    "spam_labels = [i for i,v in spam_words]\n",
    "spam_values = [v for i,v in spam_words]"
   ]
  },
  {
   "cell_type": "code",
   "execution_count": 226,
   "metadata": {
    "collapsed": true
   },
   "outputs": [],
   "source": [
    "dh = pd.DataFrame({'labels': spam_labels, 'values': spam_values})\n",
    "dh = dh.sort_values(by='values', axis=0, ascending=False, inplace=False)"
   ]
  },
  {
   "cell_type": "code",
   "execution_count": 227,
   "metadata": {},
   "outputs": [
    {
     "data": {
      "text/plain": [
       "[[<matplotlib.text.Text at 0x130e3ef28>,\n",
       "  <matplotlib.text.Text at 0x130e3df98>,\n",
       "  <matplotlib.text.Text at 0x130dff048>,\n",
       "  <matplotlib.text.Text at 0x130dfccf8>,\n",
       "  <matplotlib.text.Text at 0x12ff32a20>,\n",
       "  <matplotlib.text.Text at 0x12ff31588>,\n",
       "  <matplotlib.text.Text at 0x12ff2e748>,\n",
       "  <matplotlib.text.Text at 0x12ff2cb70>,\n",
       "  <matplotlib.text.Text at 0x12ff2ba58>,\n",
       "  <matplotlib.text.Text at 0x12ff2a080>]]"
      ]
     },
     "execution_count": 227,
     "metadata": {},
     "output_type": "execute_result"
    },
    {
     "data": {
      "image/png": "[encoded data removed]",
      "text/plain": [
       "<matplotlib.figure.Figure at 0x130e532e8>"
      ]
     },
     "metadata": {},
     "output_type": "display_data"
    }
   ],
   "source": [
    "labels, values = np.array(list(dh['labels'])[:10]), list(dh['values'])[:10]\n",
    "indexes = np.arange(len(labels))\n",
    "plt.figure(figsize=(8,4))\n",
    "ax = sn.barplot(indexes, values)\n",
    "ax.set(xticklabels=labels)\n"
   ]
  },
  {
   "cell_type": "code",
   "execution_count": 228,
   "metadata": {},
   "outputs": [
    {
     "data": {
      "text/plain": [
       "[27, 24, 28, 26, 25, 22, 29, 23, 30, 19]"
      ]
     },
     "execution_count": 228,
     "metadata": {},
     "output_type": "execute_result"
    }
   ],
   "source": [
    "spam_sentence_size = [len(sentence.split()) for sentence in X_spam]\n",
    "spam_sentence_size = [ i for i,v in Counter(spam_sentence_size).most_common()]\n",
    "spam_sentence_size[:10]"
   ]
  },
  {
   "cell_type": "code",
   "execution_count": 229,
   "metadata": {},
   "outputs": [
    {
     "data": {
      "text/plain": [
       "[6, 7, 5, 8, 9, 10, 11, 12, 14, 4]"
      ]
     },
     "execution_count": 229,
     "metadata": {},
     "output_type": "execute_result"
    }
   ],
   "source": [
    "ham_sentence_size = [len(sentence.split()) for sentence in X_ham]\n",
    "ham_sentence_size = [ i for i,v in Counter(ham_sentence_size).most_common()]\n",
    "ham_sentence_size[:10]"
   ]
  },
  {
   "cell_type": "code",
   "execution_count": 230,
   "metadata": {},
   "outputs": [
    {
     "name": "stdout",
     "output_type": "stream",
     "text": [
      "The last thing i ever wanted to do wa hurt you And i did n't think it would have You 'd laugh be embarrassed delete the tag and keep going But a far a i knew it wa n't even up The fact that you even felt like i would do it to hurt you show you really do n't know me at all It wa mes wednesday but it wa n't bad The problem i have with it is you HAVE the time to clean it but you choose not to You type you take picture you sleep you want to go out I do n't mind a few thing here and there but when you do n't make the bed when you throw sundry on top of it when i ca n't have a friend in the house because i 'm embarrassed that there ' underwear and bras strewn on the bed pillow on the floor that ' something else You used to be good about at least making the bed\n"
     ]
    }
   ],
   "source": [
    "for sentence in X_ham:\n",
    "    if len(sentence.split()) == 173:\n",
    "        phrase = sentence\n",
    "        print(sentence)"
   ]
  },
  {
   "cell_type": "markdown",
   "metadata": {},
   "source": [
    "The last thing i ever wanted to do wa hurt you And i did n't think it would have You 'd laugh be embarrassed delete the tag and keep going But a far a i knew it wa n't even up The fact that you even felt like i would do it to hurt you show you really do n't know me at all It wa mes wednesday but it wa n't bad The problem i have with it is you HAVE the time to clean it but you choose not to You type you take picture you sleep you want to go out I do n't mind a few thing here and there but when you do n't make the bed when you throw sundry on top of it when i ca n't have a friend in the house because i 'm embarrassed that there ' underwear and bras strewn on the bed pillow on the floor that ' something else You used to be good about at least makiing the bed"
   ]
  },
  {
   "cell_type": "code",
   "execution_count": 231,
   "metadata": {},
   "outputs": [
    {
     "name": "stdout",
     "output_type": "stream",
     "text": [
      "The last thing i ever wanted to do wa hurt you And i did n't think it would have You 'd laugh be embarrassed delete the tag and keep going But a far a i knew it wa n't even up The fact that you even felt like i would do it to hurt you show you really do n't know me at all It wa mes wednesday but it wa n't bad The problem i have with it is you HAVE the time to clean it but you choose not to You type you take picture you sleep you want to go out I do n't mind a few thing here and there but when you do n't make the bed when you throw sundry on top of it when i ca n't have a friend in the house because i 'm embarrassed that there ' underwear and bras strewn on the bed pillow on the floor that ' something else You used to be good about at least making the bed\n"
     ]
    }
   ],
   "source": [
    "import string\n",
    "alphabet = string.ascii_lowercase\n",
    "print(phrase)"
   ]
  },
  {
   "cell_type": "code",
   "execution_count": 232,
   "metadata": {},
   "outputs": [
    {
     "data": {
      "text/plain": [
       "(173, 36)"
      ]
     },
     "execution_count": 232,
     "metadata": {},
     "output_type": "execute_result"
    }
   ],
   "source": [
    "max(ham_sentence_size), max(spam_sentence_size)"
   ]
  },
  {
   "cell_type": "code",
   "execution_count": 233,
   "metadata": {
    "collapsed": true
   },
   "outputs": [],
   "source": [
    "# len(X_h), len(X_s), len(diff)"
   ]
  },
  {
   "cell_type": "code",
   "execution_count": 234,
   "metadata": {
    "collapsed": true
   },
   "outputs": [],
   "source": [
    "# Fit linear model\n",
    "freq_rank = ((index+1, item[1]) for index, item in enumerate(ham_counts_sorted))\n",
    "ham_ranks, ham_frequency = zip(*freq_rank)\n",
    "coeffs = np.polyfit(np.log(ham_ranks), np.log(ham_frequency), deg=1) #Note: Log transform data\n",
    "poly = np.poly1d(coeffs) \n",
    "\n",
    "ham_yfit = lambda x: np.exp(poly(np.log(ham_ranks))) # Define a function that exponentiates the polynomial"
   ]
  },
  {
   "cell_type": "code",
   "execution_count": 235,
   "metadata": {},
   "outputs": [
    {
     "data": {
      "image/png": "[encoded data removed]",
      "text/plain": [
       "<matplotlib.figure.Figure at 0x130e584a8>"
      ]
     },
     "metadata": {},
     "output_type": "display_data"
    }
   ],
   "source": [
    "plt.loglog(ham_ranks, ham_frequency) # Plot data\n",
    "plt.loglog(ham_ranks, ham_yfit(ham_ranks)) # Plot fit line\n",
    "plt.xlabel('word rank', fontsize=14, fontweight='bold')\n",
    "plt.ylabel('word frequency', fontsize=14, fontweight='bold')\n",
    "plt.grid(True)\n",
    "plt.show()"
   ]
  },
  {
   "cell_type": "code",
   "execution_count": 236,
   "metadata": {
    "collapsed": true
   },
   "outputs": [],
   "source": [
    "# Fit linear model\n",
    "freq_rank = ((index+1, item[1]) for index, item in enumerate(spam_counts_sorted))\n",
    "ranks, frequency = zip(*freq_rank)\n",
    "coeffs = np.polyfit(np.log(ranks), np.log(frequency), deg=1) #Note: Log transform data\n",
    "poly = np.poly1d(coeffs) \n",
    "\n",
    "yfit = lambda x: np.exp(poly(np.log(ranks))) # Define a function that exponentiates the polynomial"
   ]
  },
  {
   "cell_type": "code",
   "execution_count": 237,
   "metadata": {},
   "outputs": [
    {
     "data": {
      "image/png": "[encoded data removed]",
      "text/plain": [
       "<matplotlib.figure.Figure at 0x130d4f748>"
      ]
     },
     "metadata": {},
     "output_type": "display_data"
    }
   ],
   "source": [
    "plt.loglog(ranks, frequency) # Plot data\n",
    "plt.loglog(ranks, yfit(ranks)) # Plot fit line\n",
    "plt.xlabel('word rank', fontsize=14, fontweight='bold')\n",
    "plt.ylabel('word frequency', fontsize=14, fontweight='bold')\n",
    "plt.grid(True)\n",
    "plt.show()"
   ]
  },
  {
   "cell_type": "markdown",
   "metadata": {},
   "source": [
    "## NER"
   ]
  },
  {
   "cell_type": "code",
   "execution_count": 238,
   "metadata": {
    "collapsed": true
   },
   "outputs": [],
   "source": [
    "from nltk.tag.stanford import StanfordNERTagger\n",
    "import os"
   ]
  },
  {
   "cell_type": "code",
   "execution_count": 239,
   "metadata": {
    "collapsed": true
   },
   "outputs": [],
   "source": [
    "#Use standford NER Tagger as the baseline for identifying LOCATIONS, PERSONS, ORGANIZATIONS\n",
    "base_path = \"./stanford-ner-2014-06-16\"\n",
    "st = StanfordNERTagger(base_path+'/classifiers/all.3class.distsim.crf.ser.gz',\n",
    "                       base_path+'/stanford-ner.jar')"
   ]
  },
  {
   "cell_type": "code",
   "execution_count": 240,
   "metadata": {
    "collapsed": true
   },
   "outputs": [],
   "source": [
    "# Ner spam\n",
    "ner_spam = st.tag(nltk.word_tokenize(\" \".join(\" \".join(X_spam).split())))\n",
    "# ner_spam = st.tag(spam_keys)\n",
    "\n",
    "spam_others = [i for i,v in ner_spam if v == 'O']\n",
    "spam_organizations = [i for i,v in ner_spam if v == 'ORGANIZATION']\n",
    "spam_persons = [i for i,v in ner_spam if v == 'PERSON']\n",
    "\n",
    "#Ner ham \n",
    "ner_ham = st.tag(nltk.word_tokenize(\" \".join(\" \".join(X_ham).split())))\n",
    "# ner_ham = st.tag(ham_keys)\n",
    "others = [i for i,v in ner_ham if v == 'O']\n",
    "organizations = [i for i,v in ner_ham if v == 'ORGANIZATION']\n",
    "persons = [i for i,v in ner_ham if v == 'PERSON']\n"
   ]
  },
  {
   "cell_type": "code",
   "execution_count": 241,
   "metadata": {
    "scrolled": true
   },
   "outputs": [
    {
     "name": "stdout",
     "output_type": "stream",
     "text": [
      "---- Spam tags ----\n",
      "Organization: 240\n",
      "Persons:      72\n",
      "Others:       17615\n",
      "---- Ham tags ----\n",
      "Organization: 124\n",
      "Persons:      223\n",
      "Others:       70189\n",
      "---- Spam/Ham ----\n",
      "Organization: 1.92\n",
      "Persons:      0.32286995515695066\n",
      "Others:       0.25096525096525096\n"
     ]
    }
   ],
   "source": [
    "print(\"---- Spam tags ----\")\n",
    "print('Organization:', len(spam_organizations))\n",
    "print('Persons:     ', len(spam_persons))\n",
    "print('Others:      ', len(spam_others))\n",
    "print(\"---- Ham tags ----\")\n",
    "print('Organization:', len(organizations))\n",
    "print('Persons:     ', len(persons))\n",
    "print('Others:      ', len(others))\n",
    "print(\"---- Spam/Ham ----\")\n",
    "print('Organization:', len(spam_organizations)/(len(organizations)+1))\n",
    "print('Persons:     ', len(spam_persons)/len(persons))\n",
    "print('Others:      ', len(spam_others)/len(others))"
   ]
  },
  {
   "cell_type": "markdown",
   "metadata": {},
   "source": [
    "* Having less data, however, the propotional ratio between spam and ham showed that spam message usually includes more organizations than a regular message."
   ]
  },
  {
   "cell_type": "code",
   "execution_count": 242,
   "metadata": {},
   "outputs": [
    {
     "data": {
      "image/png": "[encoded data removed]",
      "text/plain": [
       "<matplotlib.figure.Figure at 0x127596908>"
      ]
     },
     "metadata": {},
     "output_type": "display_data"
    }
   ],
   "source": [
    "N = 2\n",
    "ham = [len(organizations),len(persons)]\n",
    "spam = [len(spam_organizations),len(spam_persons)]\n",
    "plt.figure(figsize=(6,6))\n",
    "plt.bar(np.arange(N), ham, width=0.2, label='HAM', align='center')\n",
    "plt.bar(np.arange(N)+0.2, spam, width=0.2, label='SPAM', align='center')\n",
    "plt.ylabel('Frequency')\n",
    "plt.title('Tags frequency')\n",
    "plt.xticks(np.arange(N)+0.1, ('ORGANIZATIONS', 'PERSONS'))\n",
    "\n",
    "plt.legend(loc='best')\n",
    "plt.show()"
   ]
  },
  {
   "cell_type": "markdown",
   "metadata": {},
   "source": [
    "## Bigram modeling"
   ]
  },
  {
   "cell_type": "code",
   "execution_count": 243,
   "metadata": {
    "collapsed": true
   },
   "outputs": [],
   "source": [
    "# our interest is to see how bigram model is able to expose the probability distributions\n",
    "# of the word given the previous word\n",
    "import nltk\n",
    "\n",
    "cfd_spam = nltk.ConditionalFreqDist(nltk.bigrams(corpus_X_spam))\n",
    "cfd_ham = nltk.ConditionalFreqDist(nltk.bigrams(corpus_X_ham))"
   ]
  },
  {
   "cell_type": "code",
   "execution_count": 244,
   "metadata": {
    "collapsed": true
   },
   "outputs": [],
   "source": [
    "# Calculate frequency, MLE and Laplace Smooth Probability\n",
    "word1 = []\n",
    "word2 = []\n",
    "frequency = []\n",
    "MLE = []\n",
    "Laplace = []\n",
    "for word_1, word_2 in nltk.bigrams(corpus_X_spam):\n",
    "    word1.append(word_1)\n",
    "    word2.append(word_2)\n",
    "    frequency.append(cfd_spam[word_1][word_2])\n",
    "    MLE.append(cfd_spam[word_1].freq(word_2))\n",
    "    Laplace.append((1+cfd_spam[word_1][word_2]) / (len(vocabulary_X_spam)+cfd_spam[word_1].N()))\n",
    "\n",
    "df = pd.DataFrame({'frequency': frequency, 'word_2': word2, 'word_1': word1,\n",
    "                   'MLE': MLE, 'Laplace Smooth Probability': Laplace})\n",
    "df['word_1_2']= df.word_1 + \" \" + df.word_2\n",
    "df = df[['word_1', 'word_2', 'word_1_2', 'frequency', 'MLE', 'Laplace Smooth Probability']]"
   ]
  },
  {
   "cell_type": "code",
   "execution_count": 245,
   "metadata": {
    "collapsed": true
   },
   "outputs": [],
   "source": [
    "df = df.drop_duplicates(keep='last')\n",
    "df = df.sort_values('frequency', ascending=False).reset_index(drop=True)"
   ]
  },
  {
   "cell_type": "code",
   "execution_count": 246,
   "metadata": {
    "scrolled": true
   },
   "outputs": [
    {
     "data": {
      "text/html": [
       "<div>\n",
       "<style>\n",
       "    .dataframe thead tr:only-child th {\n",
       "        text-align: right;\n",
       "    }\n",
       "\n",
       "    .dataframe thead th {\n",
       "        text-align: left;\n",
       "    }\n",
       "\n",
       "    .dataframe tbody tr th {\n",
       "        vertical-align: top;\n",
       "    }\n",
       "</style>\n",
       "<table border=\"1\" class=\"dataframe\">\n",
       "  <thead>\n",
       "    <tr style=\"text-align: right;\">\n",
       "      <th></th>\n",
       "      <th>word_1</th>\n",
       "      <th>word_2</th>\n",
       "      <th>word_1_2</th>\n",
       "      <th>frequency</th>\n",
       "      <th>MLE</th>\n",
       "      <th>Laplace Smooth Probability</th>\n",
       "    </tr>\n",
       "  </thead>\n",
       "  <tbody>\n",
       "    <tr>\n",
       "      <th>0</th>\n",
       "      <td>you</td>\n",
       "      <td>have</td>\n",
       "      <td>you have</td>\n",
       "      <td>75</td>\n",
       "      <td>0.251678</td>\n",
       "      <td>0.024861</td>\n",
       "    </tr>\n",
       "    <tr>\n",
       "      <th>1</th>\n",
       "      <td>have</td>\n",
       "      <td>won</td>\n",
       "      <td>have won</td>\n",
       "      <td>54</td>\n",
       "      <td>0.380282</td>\n",
       "      <td>0.018959</td>\n",
       "    </tr>\n",
       "    <tr>\n",
       "      <th>2</th>\n",
       "      <td>ymy</td>\n",
       "      <td>mobile</td>\n",
       "      <td>ymy mobile</td>\n",
       "      <td>49</td>\n",
       "      <td>0.185606</td>\n",
       "      <td>0.016540</td>\n",
       "    </tr>\n",
       "    <tr>\n",
       "      <th>3</th>\n",
       "      <td>to</td>\n",
       "      <td>claim</td>\n",
       "      <td>to claim</td>\n",
       "      <td>46</td>\n",
       "      <td>0.061170</td>\n",
       "      <td>0.013386</td>\n",
       "    </tr>\n",
       "    <tr>\n",
       "      <th>4</th>\n",
       "      <td>please</td>\n",
       "      <td>call</td>\n",
       "      <td>please call</td>\n",
       "      <td>45</td>\n",
       "      <td>0.833333</td>\n",
       "      <td>0.016353</td>\n",
       "    </tr>\n",
       "    <tr>\n",
       "      <th>5</th>\n",
       "      <td>won</td>\n",
       "      <td>a</td>\n",
       "      <td>won a</td>\n",
       "      <td>40</td>\n",
       "      <td>0.555556</td>\n",
       "      <td>0.014483</td>\n",
       "    </tr>\n",
       "    <tr>\n",
       "      <th>6</th>\n",
       "      <td>to</td>\n",
       "      <td>contact</td>\n",
       "      <td>to contact</td>\n",
       "      <td>37</td>\n",
       "      <td>0.049202</td>\n",
       "      <td>0.010823</td>\n",
       "    </tr>\n",
       "    <tr>\n",
       "      <th>7</th>\n",
       "      <td>you</td>\n",
       "      <td>are</td>\n",
       "      <td>you are</td>\n",
       "      <td>36</td>\n",
       "      <td>0.120805</td>\n",
       "      <td>0.012103</td>\n",
       "    </tr>\n",
       "    <tr>\n",
       "      <th>8</th>\n",
       "      <td>hi</td>\n",
       "      <td>is</td>\n",
       "      <td>hi is</td>\n",
       "      <td>31</td>\n",
       "      <td>0.659574</td>\n",
       "      <td>0.011404</td>\n",
       "    </tr>\n",
       "    <tr>\n",
       "      <th>9</th>\n",
       "      <td>t</td>\n",
       "      <td>is</td>\n",
       "      <td>t is</td>\n",
       "      <td>31</td>\n",
       "      <td>0.442857</td>\n",
       "      <td>0.011311</td>\n",
       "    </tr>\n",
       "    <tr>\n",
       "      <th>10</th>\n",
       "      <td>u</td>\n",
       "      <td>have</td>\n",
       "      <td>u have</td>\n",
       "      <td>30</td>\n",
       "      <td>0.177515</td>\n",
       "      <td>0.010587</td>\n",
       "    </tr>\n",
       "    <tr>\n",
       "      <th>11</th>\n",
       "      <td>stop</td>\n",
       "      <td>to</td>\n",
       "      <td>stop to</td>\n",
       "      <td>29</td>\n",
       "      <td>0.241667</td>\n",
       "      <td>0.010420</td>\n",
       "    </tr>\n",
       "    <tr>\n",
       "      <th>12</th>\n",
       "      <td>contact</td>\n",
       "      <td>u</td>\n",
       "      <td>contact u</td>\n",
       "      <td>27</td>\n",
       "      <td>0.482143</td>\n",
       "      <td>0.009947</td>\n",
       "    </tr>\n",
       "    <tr>\n",
       "      <th>13</th>\n",
       "      <td>of</td>\n",
       "      <td>box</td>\n",
       "      <td>of box</td>\n",
       "      <td>27</td>\n",
       "      <td>0.079882</td>\n",
       "      <td>0.009041</td>\n",
       "    </tr>\n",
       "    <tr>\n",
       "      <th>14</th>\n",
       "      <td>customer</td>\n",
       "      <td>service</td>\n",
       "      <td>customer service</td>\n",
       "      <td>27</td>\n",
       "      <td>0.529412</td>\n",
       "      <td>0.009964</td>\n",
       "    </tr>\n",
       "    <tr>\n",
       "      <th>15</th>\n",
       "      <td>cash</td>\n",
       "      <td>or</td>\n",
       "      <td>cash or</td>\n",
       "      <td>25</td>\n",
       "      <td>0.438596</td>\n",
       "      <td>0.009233</td>\n",
       "    </tr>\n",
       "    <tr>\n",
       "      <th>16</th>\n",
       "      <td>or</td>\n",
       "      <td>a</td>\n",
       "      <td>or a</td>\n",
       "      <td>25</td>\n",
       "      <td>0.076220</td>\n",
       "      <td>0.008422</td>\n",
       "    </tr>\n",
       "    <tr>\n",
       "      <th>17</th>\n",
       "      <td>will</td>\n",
       "      <td>be</td>\n",
       "      <td>will be</td>\n",
       "      <td>25</td>\n",
       "      <td>0.568182</td>\n",
       "      <td>0.009276</td>\n",
       "    </tr>\n",
       "    <tr>\n",
       "      <th>18</th>\n",
       "      <td>is</td>\n",
       "      <td>a</td>\n",
       "      <td>is a</td>\n",
       "      <td>24</td>\n",
       "      <td>0.111628</td>\n",
       "      <td>0.008406</td>\n",
       "    </tr>\n",
       "    <tr>\n",
       "      <th>19</th>\n",
       "      <td>t</td>\n",
       "      <td>c</td>\n",
       "      <td>t c</td>\n",
       "      <td>24</td>\n",
       "      <td>0.342857</td>\n",
       "      <td>0.008837</td>\n",
       "    </tr>\n",
       "    <tr>\n",
       "      <th>20</th>\n",
       "      <td>to</td>\n",
       "      <td>to</td>\n",
       "      <td>to to</td>\n",
       "      <td>23</td>\n",
       "      <td>0.030585</td>\n",
       "      <td>0.006836</td>\n",
       "    </tr>\n",
       "    <tr>\n",
       "      <th>21</th>\n",
       "      <td>£1000</td>\n",
       "      <td>cash</td>\n",
       "      <td>£1000 cash</td>\n",
       "      <td>23</td>\n",
       "      <td>0.657143</td>\n",
       "      <td>0.008590</td>\n",
       "    </tr>\n",
       "    <tr>\n",
       "      <th>22</th>\n",
       "      <td>guaranteed</td>\n",
       "      <td>all</td>\n",
       "      <td>guaranteed all</td>\n",
       "      <td>22</td>\n",
       "      <td>0.440000</td>\n",
       "      <td>0.008188</td>\n",
       "    </tr>\n",
       "    <tr>\n",
       "      <th>23</th>\n",
       "      <td>for</td>\n",
       "      <td>ymy</td>\n",
       "      <td>for ymy</td>\n",
       "      <td>22</td>\n",
       "      <td>0.107317</td>\n",
       "      <td>0.007760</td>\n",
       "    </tr>\n",
       "    <tr>\n",
       "      <th>24</th>\n",
       "      <td>to</td>\n",
       "      <td>you</td>\n",
       "      <td>to you</td>\n",
       "      <td>22</td>\n",
       "      <td>0.029255</td>\n",
       "      <td>0.006551</td>\n",
       "    </tr>\n",
       "    <tr>\n",
       "      <th>25</th>\n",
       "      <td>prize</td>\n",
       "      <td>guaranteed</td>\n",
       "      <td>prize guaranteed</td>\n",
       "      <td>22</td>\n",
       "      <td>0.234043</td>\n",
       "      <td>0.008062</td>\n",
       "    </tr>\n",
       "    <tr>\n",
       "      <th>26</th>\n",
       "      <td>with</td>\n",
       "      <td>a</td>\n",
       "      <td>with a</td>\n",
       "      <td>22</td>\n",
       "      <td>0.194690</td>\n",
       "      <td>0.008008</td>\n",
       "    </tr>\n",
       "    <tr>\n",
       "      <th>27</th>\n",
       "      <td>have</td>\n",
       "      <td>a</td>\n",
       "      <td>have a</td>\n",
       "      <td>22</td>\n",
       "      <td>0.154930</td>\n",
       "      <td>0.007928</td>\n",
       "    </tr>\n",
       "    <tr>\n",
       "      <th>28</th>\n",
       "      <td>to</td>\n",
       "      <td>receive</td>\n",
       "      <td>to receive</td>\n",
       "      <td>21</td>\n",
       "      <td>0.027926</td>\n",
       "      <td>0.006266</td>\n",
       "    </tr>\n",
       "    <tr>\n",
       "      <th>29</th>\n",
       "      <td>a</td>\n",
       "      <td>new</td>\n",
       "      <td>a new</td>\n",
       "      <td>21</td>\n",
       "      <td>0.051852</td>\n",
       "      <td>0.006953</td>\n",
       "    </tr>\n",
       "    <tr>\n",
       "      <th>...</th>\n",
       "      <td>...</td>\n",
       "      <td>...</td>\n",
       "      <td>...</td>\n",
       "      <td>...</td>\n",
       "      <td>...</td>\n",
       "      <td>...</td>\n",
       "    </tr>\n",
       "    <tr>\n",
       "      <th>8766</th>\n",
       "      <td>call</td>\n",
       "      <td>09061701444</td>\n",
       "      <td>call 09061701444</td>\n",
       "      <td>1</td>\n",
       "      <td>0.004630</td>\n",
       "      <td>0.000672</td>\n",
       "    </tr>\n",
       "    <tr>\n",
       "      <th>8767</th>\n",
       "      <td>09061701444</td>\n",
       "      <td>valid</td>\n",
       "      <td>09061701444 valid</td>\n",
       "      <td>1</td>\n",
       "      <td>1.000000</td>\n",
       "      <td>0.000725</td>\n",
       "    </tr>\n",
       "    <tr>\n",
       "      <th>8768</th>\n",
       "      <td>valid</td>\n",
       "      <td>24</td>\n",
       "      <td>valid 24</td>\n",
       "      <td>1</td>\n",
       "      <td>0.043478</td>\n",
       "      <td>0.000719</td>\n",
       "    </tr>\n",
       "    <tr>\n",
       "      <th>8769</th>\n",
       "      <td>24</td>\n",
       "      <td>hour</td>\n",
       "      <td>24 hour</td>\n",
       "      <td>1</td>\n",
       "      <td>0.500000</td>\n",
       "      <td>0.000724</td>\n",
       "    </tr>\n",
       "    <tr>\n",
       "      <th>8770</th>\n",
       "      <td>txt82228.co.up</td>\n",
       "      <td>freemsg</td>\n",
       "      <td>txt82228.co.up freemsg</td>\n",
       "      <td>1</td>\n",
       "      <td>1.000000</td>\n",
       "      <td>0.000725</td>\n",
       "    </tr>\n",
       "    <tr>\n",
       "      <th>8771</th>\n",
       "      <td>into</td>\n",
       "      <td>txt82228.co.up</td>\n",
       "      <td>into txt82228.co.up</td>\n",
       "      <td>1</td>\n",
       "      <td>0.041667</td>\n",
       "      <td>0.000719</td>\n",
       "    </tr>\n",
       "    <tr>\n",
       "      <th>8772</th>\n",
       "      <td>question</td>\n",
       "      <td>into</td>\n",
       "      <td>question into</td>\n",
       "      <td>1</td>\n",
       "      <td>0.083333</td>\n",
       "      <td>0.000722</td>\n",
       "    </tr>\n",
       "    <tr>\n",
       "      <th>8773</th>\n",
       "      <td>www.txt82228.com</td>\n",
       "      <td>question</td>\n",
       "      <td>www.txt82228.com question</td>\n",
       "      <td>1</td>\n",
       "      <td>1.000000</td>\n",
       "      <td>0.000725</td>\n",
       "    </tr>\n",
       "    <tr>\n",
       "      <th>8774</th>\n",
       "      <td>from</td>\n",
       "      <td>www.txt82228.com</td>\n",
       "      <td>from www.txt82228.com</td>\n",
       "      <td>1</td>\n",
       "      <td>0.007407</td>\n",
       "      <td>0.000691</td>\n",
       "    </tr>\n",
       "    <tr>\n",
       "      <th>8775</th>\n",
       "      <td>and</td>\n",
       "      <td>game</td>\n",
       "      <td>and game</td>\n",
       "      <td>1</td>\n",
       "      <td>0.006173</td>\n",
       "      <td>0.000685</td>\n",
       "    </tr>\n",
       "    <tr>\n",
       "      <th>8776</th>\n",
       "      <td>log</td>\n",
       "      <td>and</td>\n",
       "      <td>log and</td>\n",
       "      <td>1</td>\n",
       "      <td>0.083333</td>\n",
       "      <td>0.000722</td>\n",
       "    </tr>\n",
       "    <tr>\n",
       "      <th>8777</th>\n",
       "      <td>ringtone</td>\n",
       "      <td>log</td>\n",
       "      <td>ringtone log</td>\n",
       "      <td>1</td>\n",
       "      <td>0.029412</td>\n",
       "      <td>0.000716</td>\n",
       "    </tr>\n",
       "    <tr>\n",
       "      <th>8778</th>\n",
       "      <td>more</td>\n",
       "      <td>ringtone</td>\n",
       "      <td>more ringtone</td>\n",
       "      <td>1</td>\n",
       "      <td>0.032258</td>\n",
       "      <td>0.000717</td>\n",
       "    </tr>\n",
       "    <tr>\n",
       "      <th>8779</th>\n",
       "      <td>met</td>\n",
       "      <td>more</td>\n",
       "      <td>met more</td>\n",
       "      <td>1</td>\n",
       "      <td>0.027778</td>\n",
       "      <td>0.000716</td>\n",
       "    </tr>\n",
       "    <tr>\n",
       "      <th>8780</th>\n",
       "      <td>text82228</td>\n",
       "      <td>met</td>\n",
       "      <td>text82228 met</td>\n",
       "      <td>1</td>\n",
       "      <td>1.000000</td>\n",
       "      <td>0.000725</td>\n",
       "    </tr>\n",
       "    <tr>\n",
       "      <th>8781</th>\n",
       "      <td>www.txttowin.co.up</td>\n",
       "      <td>text82228</td>\n",
       "      <td>www.txttowin.co.up text82228</td>\n",
       "      <td>1</td>\n",
       "      <td>0.500000</td>\n",
       "      <td>0.000724</td>\n",
       "    </tr>\n",
       "    <tr>\n",
       "      <th>8782</th>\n",
       "      <td>pobox114/14tcr/of</td>\n",
       "      <td>16</td>\n",
       "      <td>pobox114/14tcr/of 16</td>\n",
       "      <td>1</td>\n",
       "      <td>1.000000</td>\n",
       "      <td>0.000725</td>\n",
       "    </tr>\n",
       "    <tr>\n",
       "      <th>8783</th>\n",
       "      <td>now</td>\n",
       "      <td>pobox114/14tcr/of</td>\n",
       "      <td>now pobox114/14tcr/of</td>\n",
       "      <td>1</td>\n",
       "      <td>0.004785</td>\n",
       "      <td>0.000674</td>\n",
       "    </tr>\n",
       "    <tr>\n",
       "      <th>8784</th>\n",
       "      <td>83383</td>\n",
       "      <td>now</td>\n",
       "      <td>83383 now</td>\n",
       "      <td>1</td>\n",
       "      <td>0.500000</td>\n",
       "      <td>0.000724</td>\n",
       "    </tr>\n",
       "    <tr>\n",
       "      <th>8785</th>\n",
       "      <td>send</td>\n",
       "      <td>nokium</td>\n",
       "      <td>send nokium</td>\n",
       "      <td>1</td>\n",
       "      <td>0.021277</td>\n",
       "      <td>0.000713</td>\n",
       "    </tr>\n",
       "    <tr>\n",
       "      <th>8786</th>\n",
       "      <td>u</td>\n",
       "      <td>win</td>\n",
       "      <td>u win</td>\n",
       "      <td>1</td>\n",
       "      <td>0.005917</td>\n",
       "      <td>0.000683</td>\n",
       "    </tr>\n",
       "    <tr>\n",
       "      <th>8787</th>\n",
       "      <td>what</td>\n",
       "      <td>u</td>\n",
       "      <td>what u</td>\n",
       "      <td>1</td>\n",
       "      <td>0.071429</td>\n",
       "      <td>0.000721</td>\n",
       "    </tr>\n",
       "    <tr>\n",
       "      <th>8788</th>\n",
       "      <td>camera</td>\n",
       "      <td>hi</td>\n",
       "      <td>camera hi</td>\n",
       "      <td>1</td>\n",
       "      <td>0.030303</td>\n",
       "      <td>0.000716</td>\n",
       "    </tr>\n",
       "    <tr>\n",
       "      <th>8789</th>\n",
       "      <td>free</td>\n",
       "      <td>digital</td>\n",
       "      <td>free digital</td>\n",
       "      <td>1</td>\n",
       "      <td>0.004525</td>\n",
       "      <td>0.000671</td>\n",
       "    </tr>\n",
       "    <tr>\n",
       "      <th>8790</th>\n",
       "      <td>6230</td>\n",
       "      <td>plu</td>\n",
       "      <td>6230 plu</td>\n",
       "      <td>1</td>\n",
       "      <td>1.000000</td>\n",
       "      <td>0.000725</td>\n",
       "    </tr>\n",
       "    <tr>\n",
       "      <th>8791</th>\n",
       "      <td>nikitum</td>\n",
       "      <td>6230</td>\n",
       "      <td>nikitum 6230</td>\n",
       "      <td>1</td>\n",
       "      <td>0.250000</td>\n",
       "      <td>0.000724</td>\n",
       "    </tr>\n",
       "    <tr>\n",
       "      <th>8792</th>\n",
       "      <td>a</td>\n",
       "      <td>nikitum</td>\n",
       "      <td>a nikitum</td>\n",
       "      <td>1</td>\n",
       "      <td>0.002469</td>\n",
       "      <td>0.000632</td>\n",
       "    </tr>\n",
       "    <tr>\n",
       "      <th>8793</th>\n",
       "      <td>acl03530150pm</td>\n",
       "      <td>u</td>\n",
       "      <td>acl03530150pm u</td>\n",
       "      <td>1</td>\n",
       "      <td>0.500000</td>\n",
       "      <td>0.000724</td>\n",
       "    </tr>\n",
       "    <tr>\n",
       "      <th>8794</th>\n",
       "      <td>only</td>\n",
       "      <td>acl03530150pm</td>\n",
       "      <td>only acl03530150pm</td>\n",
       "      <td>1</td>\n",
       "      <td>0.011905</td>\n",
       "      <td>0.000703</td>\n",
       "    </tr>\n",
       "    <tr>\n",
       "      <th>8795</th>\n",
       "      <td>have</td>\n",
       "      <td>£</td>\n",
       "      <td>have £</td>\n",
       "      <td>1</td>\n",
       "      <td>0.007042</td>\n",
       "      <td>0.000689</td>\n",
       "    </tr>\n",
       "  </tbody>\n",
       "</table>\n",
       "<p>8796 rows × 6 columns</p>\n",
       "</div>"
      ],
      "text/plain": [
       "                  word_1             word_2                      word_1_2  \\\n",
       "0                    you               have                      you have   \n",
       "1                   have                won                      have won   \n",
       "2                    ymy             mobile                    ymy mobile   \n",
       "3                     to              claim                      to claim   \n",
       "4                 please               call                   please call   \n",
       "5                    won                  a                         won a   \n",
       "6                     to            contact                    to contact   \n",
       "7                    you                are                       you are   \n",
       "8                     hi                 is                         hi is   \n",
       "9                      t                 is                          t is   \n",
       "10                     u               have                        u have   \n",
       "11                  stop                 to                       stop to   \n",
       "12               contact                  u                     contact u   \n",
       "13                    of                box                        of box   \n",
       "14              customer            service              customer service   \n",
       "15                  cash                 or                       cash or   \n",
       "16                    or                  a                          or a   \n",
       "17                  will                 be                       will be   \n",
       "18                    is                  a                          is a   \n",
       "19                     t                  c                           t c   \n",
       "20                    to                 to                         to to   \n",
       "21                 £1000               cash                    £1000 cash   \n",
       "22            guaranteed                all                guaranteed all   \n",
       "23                   for                ymy                       for ymy   \n",
       "24                    to                you                        to you   \n",
       "25                 prize         guaranteed              prize guaranteed   \n",
       "26                  with                  a                        with a   \n",
       "27                  have                  a                        have a   \n",
       "28                    to            receive                    to receive   \n",
       "29                     a                new                         a new   \n",
       "...                  ...                ...                           ...   \n",
       "8766                call        09061701444              call 09061701444   \n",
       "8767         09061701444              valid             09061701444 valid   \n",
       "8768               valid                 24                      valid 24   \n",
       "8769                  24               hour                       24 hour   \n",
       "8770      txt82228.co.up            freemsg        txt82228.co.up freemsg   \n",
       "8771                into     txt82228.co.up           into txt82228.co.up   \n",
       "8772            question               into                 question into   \n",
       "8773    www.txt82228.com           question     www.txt82228.com question   \n",
       "8774                from   www.txt82228.com         from www.txt82228.com   \n",
       "8775                 and               game                      and game   \n",
       "8776                 log                and                       log and   \n",
       "8777            ringtone                log                  ringtone log   \n",
       "8778                more           ringtone                 more ringtone   \n",
       "8779                 met               more                      met more   \n",
       "8780           text82228                met                 text82228 met   \n",
       "8781  www.txttowin.co.up          text82228  www.txttowin.co.up text82228   \n",
       "8782   pobox114/14tcr/of                 16          pobox114/14tcr/of 16   \n",
       "8783                 now  pobox114/14tcr/of         now pobox114/14tcr/of   \n",
       "8784               83383                now                     83383 now   \n",
       "8785                send             nokium                   send nokium   \n",
       "8786                   u                win                         u win   \n",
       "8787                what                  u                        what u   \n",
       "8788              camera                 hi                     camera hi   \n",
       "8789                free            digital                  free digital   \n",
       "8790                6230                plu                      6230 plu   \n",
       "8791             nikitum               6230                  nikitum 6230   \n",
       "8792                   a            nikitum                     a nikitum   \n",
       "8793       acl03530150pm                  u               acl03530150pm u   \n",
       "8794                only      acl03530150pm            only acl03530150pm   \n",
       "8795                have                  £                        have £   \n",
       "\n",
       "      frequency       MLE  Laplace Smooth Probability  \n",
       "0            75  0.251678                    0.024861  \n",
       "1            54  0.380282                    0.018959  \n",
       "2            49  0.185606                    0.016540  \n",
       "3            46  0.061170                    0.013386  \n",
       "4            45  0.833333                    0.016353  \n",
       "5            40  0.555556                    0.014483  \n",
       "6            37  0.049202                    0.010823  \n",
       "7            36  0.120805                    0.012103  \n",
       "8            31  0.659574                    0.011404  \n",
       "9            31  0.442857                    0.011311  \n",
       "10           30  0.177515                    0.010587  \n",
       "11           29  0.241667                    0.010420  \n",
       "12           27  0.482143                    0.009947  \n",
       "13           27  0.079882                    0.009041  \n",
       "14           27  0.529412                    0.009964  \n",
       "15           25  0.438596                    0.009233  \n",
       "16           25  0.076220                    0.008422  \n",
       "17           25  0.568182                    0.009276  \n",
       "18           24  0.111628                    0.008406  \n",
       "19           24  0.342857                    0.008837  \n",
       "20           23  0.030585                    0.006836  \n",
       "21           23  0.657143                    0.008590  \n",
       "22           22  0.440000                    0.008188  \n",
       "23           22  0.107317                    0.007760  \n",
       "24           22  0.029255                    0.006551  \n",
       "25           22  0.234043                    0.008062  \n",
       "26           22  0.194690                    0.008008  \n",
       "27           22  0.154930                    0.007928  \n",
       "28           21  0.027926                    0.006266  \n",
       "29           21  0.051852                    0.006953  \n",
       "...         ...       ...                         ...  \n",
       "8766          1  0.004630                    0.000672  \n",
       "8767          1  1.000000                    0.000725  \n",
       "8768          1  0.043478                    0.000719  \n",
       "8769          1  0.500000                    0.000724  \n",
       "8770          1  1.000000                    0.000725  \n",
       "8771          1  0.041667                    0.000719  \n",
       "8772          1  0.083333                    0.000722  \n",
       "8773          1  1.000000                    0.000725  \n",
       "8774          1  0.007407                    0.000691  \n",
       "8775          1  0.006173                    0.000685  \n",
       "8776          1  0.083333                    0.000722  \n",
       "8777          1  0.029412                    0.000716  \n",
       "8778          1  0.032258                    0.000717  \n",
       "8779          1  0.027778                    0.000716  \n",
       "8780          1  1.000000                    0.000725  \n",
       "8781          1  0.500000                    0.000724  \n",
       "8782          1  1.000000                    0.000725  \n",
       "8783          1  0.004785                    0.000674  \n",
       "8784          1  0.500000                    0.000724  \n",
       "8785          1  0.021277                    0.000713  \n",
       "8786          1  0.005917                    0.000683  \n",
       "8787          1  0.071429                    0.000721  \n",
       "8788          1  0.030303                    0.000716  \n",
       "8789          1  0.004525                    0.000671  \n",
       "8790          1  1.000000                    0.000725  \n",
       "8791          1  0.250000                    0.000724  \n",
       "8792          1  0.002469                    0.000632  \n",
       "8793          1  0.500000                    0.000724  \n",
       "8794          1  0.011905                    0.000703  \n",
       "8795          1  0.007042                    0.000689  \n",
       "\n",
       "[8796 rows x 6 columns]"
      ]
     },
     "execution_count": 246,
     "metadata": {},
     "output_type": "execute_result"
    }
   ],
   "source": [
    "df"
   ]
  },
  {
   "cell_type": "code",
   "execution_count": 247,
   "metadata": {},
   "outputs": [
    {
     "data": {
      "text/plain": [
       "<matplotlib.text.Text at 0x12ba4ac50>"
      ]
     },
     "execution_count": 247,
     "metadata": {},
     "output_type": "execute_result"
    },
    {
     "data": {
      "image/png": "[encoded data removed]",
      "text/plain": [
       "<matplotlib.figure.Figure at 0x12bedf128>"
      ]
     },
     "metadata": {},
     "output_type": "display_data"
    }
   ],
   "source": [
    "plt.figure(figsize=(18,6))\n",
    "\n",
    "plt.scatter(np.arange(len(df.MLE[df.MLE >= 0.95][:1000])), df.MLE[df.MLE >= 0.95].values[:1000])\n",
    "plt.scatter(np.arange(len(df.MLE[df.MLE >= 0.75][df.MLE < 0.95][:1000])), df.MLE[df.MLE >= 0.75][df.MLE < 0.95].values[:1000])\n",
    "plt.scatter(np.arange(len(df.MLE[df.MLE >= 0.5][df.MLE < 0.75][:1000])), df.MLE[df.MLE >= 0.5][df.MLE < 0.75].values[:1000])\n",
    "plt.scatter(np.arange(len(df.MLE[df.MLE < 0.5][:1000])), df.MLE[df.MLE < 0.5].values[:1000])\n",
    "\n",
    "plt.ylabel('MLE')\n",
    "plt.xlabel('Values')\n",
    "\n",
    "plt.title('MLE distributions for first sorted descending 1000 data  ')"
   ]
  },
  {
   "cell_type": "code",
   "execution_count": 248,
   "metadata": {},
   "outputs": [
    {
     "data": {
      "image/png": "[encoded data removed]",
      "text/plain": [
       "<matplotlib.figure.Figure at 0x12c24c4e0>"
      ]
     },
     "metadata": {},
     "output_type": "display_data"
    }
   ],
   "source": [
    "plt.figure(figsize=(6,6))\n",
    "level1 = df.MLE[df.MLE > 0][df.MLE <= 0.25].sum()\n",
    "level2 = df.MLE[df.MLE > 0.25][df.MLE <= 0.5].sum() \n",
    "level3 = df.MLE[df.MLE > 0.5][df.MLE < 1].sum()\n",
    "level4 = df.MLE[df.MLE == 1].sum()\n",
    "\n",
    "plt.bar(np.arange(len([level1])), level1, width=0.1, align='center', label='0-25%')\n",
    "plt.bar(np.arange(len([level2]))+0.2, level2, width=0.1, align='center', label='25-50%')\n",
    "plt.bar(np.arange(len([level3]))+0.4, level3, width=0.1, align='center', label='50-75%')\n",
    "\n",
    "plt.bar(np.arange(len([level4]))+.6, level4, width=0.1, align='center', label='75-100%', tick_label='75-100%')\n",
    "\n",
    "# plt.ylabel('Frequency')\n",
    "# plt.title('Tags frequency')\n",
    "# plt.xticks(np.arange(N))\n",
    "# plt.ticklabel_format(axis='x')\n",
    "plt.legend(loc='best')\n",
    "# plt.show()\n",
    "plt.ylabel('Counts')\n",
    "plt.xlabel('Clusters')\n",
    "\n",
    "plt.title('MLE distributions in 4 segmenation ')\n",
    "plt.show()"
   ]
  },
  {
   "cell_type": "code",
   "execution_count": 256,
   "metadata": {},
   "outputs": [
    {
     "data": {
      "text/plain": [
       "<matplotlib.text.Text at 0x126e54240>"
      ]
     },
     "execution_count": 256,
     "metadata": {},
     "output_type": "execute_result"
    },
    {
     "data": {
      "image/png": "[encoded data removed]",
      "text/plain": [
       "<matplotlib.figure.Figure at 0x126c4e860>"
      ]
     },
     "metadata": {},
     "output_type": "display_data"
    }
   ],
   "source": [
    "# plt.figure(figsize=(18,6))\n",
    "labels, values = np.array(list(df['word_1_2'])[:10]), list(df['frequency'])[:10]\n",
    "indexes = np.arange(len(labels))\n",
    "plt.figure(figsize=(10,5))\n",
    "ax = sn.barplot(indexes,values)\n",
    "ax.set(xticklabels=labels)\n",
    "plt.ylabel('Laplace Smooth Probability')\n",
    "plt.xlabel('Spam Bigram')\n",
    "\n",
    "plt.title('Laplace Smooth Probability distributions for first sorted descending 1000 data  ')"
   ]
  },
  {
   "cell_type": "code",
   "execution_count": 250,
   "metadata": {
    "collapsed": true
   },
   "outputs": [],
   "source": [
    "# most frequent words of X_ham\n",
    "corpus_X_ham = \" \".join(X_ham).lower().split()\n",
    "document_ham = TextBlob(\" \".join(X_ham).lower())\n",
    "vocabulary_X_ham = Counter(document_ham.words)"
   ]
  },
  {
   "cell_type": "code",
   "execution_count": 72,
   "metadata": {
    "collapsed": true
   },
   "outputs": [],
   "source": [
    "# import pylab as p\n",
    "# import scipy\n",
    "# # plt.scatter(df['frequency'], df['MLE'])\n",
    "# plt.figure(figsize=(12,6))\n",
    "# x = np.arange(len(df[:50]))\n",
    "# y = df.frequency.values[:50]\n",
    "# plt.scatter(x,y, linewidths=.1)\n",
    "# d = scipy.zeros(len(y))\n",
    "# plt.fill_between(x, y, where=y>=d, interpolate=True, color='black', alpha=0.1)"
   ]
  },
  {
   "cell_type": "code",
   "execution_count": 73,
   "metadata": {},
   "outputs": [
    {
     "data": {
      "text/plain": [
       "<seaborn.axisgrid.PairGrid at 0x132c4a2b0>"
      ]
     },
     "execution_count": 73,
     "metadata": {},
     "output_type": "execute_result"
    },
    {
     "data": {
      "image/png": "[encoded data removed]",
      "text/plain": [
       "<matplotlib.figure.Figure at 0x132c4a198>"
      ]
     },
     "metadata": {},
     "output_type": "display_data"
    }
   ],
   "source": [
    "import seaborn as sns\n",
    "\n",
    "sns.pairplot(df)"
   ]
  },
  {
   "cell_type": "code",
   "execution_count": 943,
   "metadata": {
    "collapsed": true
   },
   "outputs": [],
   "source": [
    "# numerics_only = df.select_dtypes(['int64', 'float64'])\n",
    "# sms.graphics.plot_corr(numerics_only.corr(), xnames=numerics_only.columns.tolist());"
   ]
  },
  {
   "cell_type": "code",
   "execution_count": 944,
   "metadata": {
    "scrolled": true
   },
   "outputs": [
    {
     "name": "stdout",
     "output_type": "stream",
     "text": [
      "\n",
      "\u001b[93m    Warning: no model found for 'en'\u001b[0m\n",
      "\n",
      "    Only loading the 'en' tokenizer.\n",
      "\n",
      "to  0 0\n",
      "until  0 0\n",
      "during  0 0\n",
      "point  0 0\n",
      "crazy  0 0\n",
      "available  0 0\n",
      "only  0 0\n",
      "in  0 0\n",
      "bori  0 0\n",
      "n  0 0\n"
     ]
    }
   ],
   "source": [
    "import spacy\n",
    "nlp = spacy.load('en')\n",
    "doc = nlp(\" \".join(X_ham).lower())\n",
    "for word in doc[:10]:\n",
    "    print(word.text, word.tag_,  word.tag,  word.pos)"
   ]
  },
  {
   "cell_type": "code",
   "execution_count": 251,
   "metadata": {
    "collapsed": true
   },
   "outputs": [],
   "source": [
    "# The corpus counts of each bigram in the ham corpus:\n",
    "word1 = []\n",
    "word2 = []\n",
    "frequency = []\n",
    "MLE = []\n",
    "Laplace = []\n",
    "for word_1, word_2 in nltk.bigrams(corpus_X_ham):\n",
    "    word1.append(word_1)\n",
    "    word2.append(word_2)\n",
    "    frequency.append(cfd_ham[word_1][word_2])\n",
    "    MLE.append(cfd_ham[word_1].freq(word_2))\n",
    "    Laplace.append((1+cfd_ham[word_1][word_2]) / (len(vocabulary_X_ham)+cfd_ham[word_1].N()))\n",
    "\n",
    "\n",
    "df1 = pd.DataFrame({'frequency': frequency, 'word_2': word2, 'word_1': word1,\n",
    "                    'MLE': MLE,'Laplace Smooth Probability': Laplace})\n",
    "df1['word_1_2']= df1.word_1 + \" \" + df1.word_2\n",
    "df1 = df1[['word_1', 'word_2', 'word_1_2', 'frequency', 'MLE', 'Laplace Smooth Probability']]"
   ]
  },
  {
   "cell_type": "code",
   "execution_count": 252,
   "metadata": {
    "collapsed": true
   },
   "outputs": [],
   "source": [
    "df1 = df1.drop_duplicates(keep='last')\n",
    "df1 = df1.sort_values('frequency', ascending=False).reset_index(drop=True)"
   ]
  },
  {
   "cell_type": "code",
   "execution_count": 253,
   "metadata": {
    "scrolled": true
   },
   "outputs": [
    {
     "data": {
      "text/html": [
       "<div>\n",
       "<style>\n",
       "    .dataframe thead tr:only-child th {\n",
       "        text-align: right;\n",
       "    }\n",
       "\n",
       "    .dataframe thead th {\n",
       "        text-align: left;\n",
       "    }\n",
       "\n",
       "    .dataframe tbody tr th {\n",
       "        vertical-align: top;\n",
       "    }\n",
       "</style>\n",
       "<table border=\"1\" class=\"dataframe\">\n",
       "  <thead>\n",
       "    <tr style=\"text-align: right;\">\n",
       "      <th></th>\n",
       "      <th>word_1</th>\n",
       "      <th>word_2</th>\n",
       "      <th>word_1_2</th>\n",
       "      <th>frequency</th>\n",
       "      <th>MLE</th>\n",
       "      <th>Laplace Smooth Probability</th>\n",
       "    </tr>\n",
       "  </thead>\n",
       "  <tbody>\n",
       "    <tr>\n",
       "      <th>0</th>\n",
       "      <td>i</td>\n",
       "      <td>'m</td>\n",
       "      <td>i 'm</td>\n",
       "      <td>377</td>\n",
       "      <td>0.127494</td>\n",
       "      <td>0.043933</td>\n",
       "    </tr>\n",
       "    <tr>\n",
       "      <th>1</th>\n",
       "      <td>it</td>\n",
       "      <td>it</td>\n",
       "      <td>it it</td>\n",
       "      <td>290</td>\n",
       "      <td>0.180348</td>\n",
       "      <td>0.040110</td>\n",
       "    </tr>\n",
       "    <tr>\n",
       "      <th>2</th>\n",
       "      <td>are</td>\n",
       "      <td>you</td>\n",
       "      <td>are you</td>\n",
       "      <td>177</td>\n",
       "      <td>0.419431</td>\n",
       "      <td>0.029329</td>\n",
       "    </tr>\n",
       "    <tr>\n",
       "      <th>3</th>\n",
       "      <td>i</td>\n",
       "      <td>'ll</td>\n",
       "      <td>i 'll</td>\n",
       "      <td>168</td>\n",
       "      <td>0.056814</td>\n",
       "      <td>0.019642</td>\n",
       "    </tr>\n",
       "    <tr>\n",
       "      <th>4</th>\n",
       "      <td>i</td>\n",
       "      <td>am</td>\n",
       "      <td>i am</td>\n",
       "      <td>130</td>\n",
       "      <td>0.043963</td>\n",
       "      <td>0.015225</td>\n",
       "    </tr>\n",
       "    <tr>\n",
       "      <th>5</th>\n",
       "      <td>do</td>\n",
       "      <td>n't</td>\n",
       "      <td>do n't</td>\n",
       "      <td>125</td>\n",
       "      <td>0.287356</td>\n",
       "      <td>0.020717</td>\n",
       "    </tr>\n",
       "    <tr>\n",
       "      <th>6</th>\n",
       "      <td>have</td>\n",
       "      <td>a</td>\n",
       "      <td>have a</td>\n",
       "      <td>111</td>\n",
       "      <td>0.236674</td>\n",
       "      <td>0.018313</td>\n",
       "    </tr>\n",
       "    <tr>\n",
       "      <th>7</th>\n",
       "      <td>i</td>\n",
       "      <td>will</td>\n",
       "      <td>i will</td>\n",
       "      <td>110</td>\n",
       "      <td>0.037200</td>\n",
       "      <td>0.012901</td>\n",
       "    </tr>\n",
       "    <tr>\n",
       "      <th>8</th>\n",
       "      <td>to</td>\n",
       "      <td>you</td>\n",
       "      <td>to you</td>\n",
       "      <td>103</td>\n",
       "      <td>0.050714</td>\n",
       "      <td>0.013545</td>\n",
       "    </tr>\n",
       "    <tr>\n",
       "      <th>9</th>\n",
       "      <td>i</td>\n",
       "      <td>can</td>\n",
       "      <td>i can</td>\n",
       "      <td>98</td>\n",
       "      <td>0.033142</td>\n",
       "      <td>0.011506</td>\n",
       "    </tr>\n",
       "    <tr>\n",
       "      <th>10</th>\n",
       "      <td>you</td>\n",
       "      <td>are</td>\n",
       "      <td>you are</td>\n",
       "      <td>96</td>\n",
       "      <td>0.048955</td>\n",
       "      <td>0.012750</td>\n",
       "    </tr>\n",
       "    <tr>\n",
       "      <th>11</th>\n",
       "      <td>i</td>\n",
       "      <td>have</td>\n",
       "      <td>i have</td>\n",
       "      <td>93</td>\n",
       "      <td>0.031451</td>\n",
       "      <td>0.010925</td>\n",
       "    </tr>\n",
       "    <tr>\n",
       "      <th>12</th>\n",
       "      <td>it</td>\n",
       "      <td>'</td>\n",
       "      <td>it '</td>\n",
       "      <td>92</td>\n",
       "      <td>0.057214</td>\n",
       "      <td>0.012819</td>\n",
       "    </tr>\n",
       "    <tr>\n",
       "      <th>13</th>\n",
       "      <td>and</td>\n",
       "      <td>i</td>\n",
       "      <td>and i</td>\n",
       "      <td>92</td>\n",
       "      <td>0.103604</td>\n",
       "      <td>0.014231</td>\n",
       "    </tr>\n",
       "    <tr>\n",
       "      <th>14</th>\n",
       "      <td>in</td>\n",
       "      <td>the</td>\n",
       "      <td>in the</td>\n",
       "      <td>91</td>\n",
       "      <td>0.102941</td>\n",
       "      <td>0.014087</td>\n",
       "    </tr>\n",
       "    <tr>\n",
       "      <th>15</th>\n",
       "      <td>but</td>\n",
       "      <td>i</td>\n",
       "      <td>but i</td>\n",
       "      <td>91</td>\n",
       "      <td>0.205418</td>\n",
       "      <td>0.015107</td>\n",
       "    </tr>\n",
       "    <tr>\n",
       "      <th>16</th>\n",
       "      <td>want</td>\n",
       "      <td>to</td>\n",
       "      <td>want to</td>\n",
       "      <td>90</td>\n",
       "      <td>0.434783</td>\n",
       "      <td>0.015545</td>\n",
       "    </tr>\n",
       "    <tr>\n",
       "      <th>17</th>\n",
       "      <td>i</td>\n",
       "      <td>wa</td>\n",
       "      <td>i wa</td>\n",
       "      <td>84</td>\n",
       "      <td>0.028407</td>\n",
       "      <td>0.009879</td>\n",
       "    </tr>\n",
       "    <tr>\n",
       "      <th>18</th>\n",
       "      <td>going</td>\n",
       "      <td>to</td>\n",
       "      <td>going to</td>\n",
       "      <td>78</td>\n",
       "      <td>0.406250</td>\n",
       "      <td>0.013530</td>\n",
       "    </tr>\n",
       "    <tr>\n",
       "      <th>19</th>\n",
       "      <td>have</td>\n",
       "      <td>to</td>\n",
       "      <td>have to</td>\n",
       "      <td>72</td>\n",
       "      <td>0.153518</td>\n",
       "      <td>0.011936</td>\n",
       "    </tr>\n",
       "    <tr>\n",
       "      <th>20</th>\n",
       "      <td>in</td>\n",
       "      <td>a</td>\n",
       "      <td>in a</td>\n",
       "      <td>72</td>\n",
       "      <td>0.081448</td>\n",
       "      <td>0.011177</td>\n",
       "    </tr>\n",
       "    <tr>\n",
       "      <th>21</th>\n",
       "      <td>that</td>\n",
       "      <td>'</td>\n",
       "      <td>that '</td>\n",
       "      <td>71</td>\n",
       "      <td>0.101140</td>\n",
       "      <td>0.011340</td>\n",
       "    </tr>\n",
       "    <tr>\n",
       "      <th>22</th>\n",
       "      <td>sorry</td>\n",
       "      <td>i</td>\n",
       "      <td>sorry i</td>\n",
       "      <td>67</td>\n",
       "      <td>0.432258</td>\n",
       "      <td>0.011720</td>\n",
       "    </tr>\n",
       "    <tr>\n",
       "      <th>23</th>\n",
       "      <td>to</td>\n",
       "      <td>get</td>\n",
       "      <td>to get</td>\n",
       "      <td>66</td>\n",
       "      <td>0.032496</td>\n",
       "      <td>0.008726</td>\n",
       "    </tr>\n",
       "    <tr>\n",
       "      <th>24</th>\n",
       "      <td>to</td>\n",
       "      <td>be</td>\n",
       "      <td>to be</td>\n",
       "      <td>65</td>\n",
       "      <td>0.032004</td>\n",
       "      <td>0.008596</td>\n",
       "    </tr>\n",
       "    <tr>\n",
       "      <th>25</th>\n",
       "      <td>need</td>\n",
       "      <td>to</td>\n",
       "      <td>need to</td>\n",
       "      <td>65</td>\n",
       "      <td>0.375723</td>\n",
       "      <td>0.011340</td>\n",
       "    </tr>\n",
       "    <tr>\n",
       "      <th>26</th>\n",
       "      <td>when</td>\n",
       "      <td>you</td>\n",
       "      <td>when you</td>\n",
       "      <td>64</td>\n",
       "      <td>0.185507</td>\n",
       "      <td>0.010848</td>\n",
       "    </tr>\n",
       "    <tr>\n",
       "      <th>27</th>\n",
       "      <td>i</td>\n",
       "      <td>'ve</td>\n",
       "      <td>i 've</td>\n",
       "      <td>64</td>\n",
       "      <td>0.021644</td>\n",
       "      <td>0.007555</td>\n",
       "    </tr>\n",
       "    <tr>\n",
       "      <th>28</th>\n",
       "      <td>when</td>\n",
       "      <td>i</td>\n",
       "      <td>when i</td>\n",
       "      <td>63</td>\n",
       "      <td>0.182609</td>\n",
       "      <td>0.010681</td>\n",
       "    </tr>\n",
       "    <tr>\n",
       "      <th>29</th>\n",
       "      <td>i</td>\n",
       "      <td>do</td>\n",
       "      <td>i do</td>\n",
       "      <td>61</td>\n",
       "      <td>0.020629</td>\n",
       "      <td>0.007206</td>\n",
       "    </tr>\n",
       "    <tr>\n",
       "      <th>...</th>\n",
       "      <td>...</td>\n",
       "      <td>...</td>\n",
       "      <td>...</td>\n",
       "      <td>...</td>\n",
       "      <td>...</td>\n",
       "      <td>...</td>\n",
       "    </tr>\n",
       "    <tr>\n",
       "      <th>37674</th>\n",
       "      <td>wish</td>\n",
       "      <td>all</td>\n",
       "      <td>wish all</td>\n",
       "      <td>1</td>\n",
       "      <td>0.015873</td>\n",
       "      <td>0.000350</td>\n",
       "    </tr>\n",
       "    <tr>\n",
       "      <th>37675</th>\n",
       "      <td>china</td>\n",
       "      <td>had</td>\n",
       "      <td>china had</td>\n",
       "      <td>1</td>\n",
       "      <td>0.200000</td>\n",
       "      <td>0.000354</td>\n",
       "    </tr>\n",
       "    <tr>\n",
       "      <th>37676</th>\n",
       "      <td>dresser</td>\n",
       "      <td>fr</td>\n",
       "      <td>dresser fr</td>\n",
       "      <td>1</td>\n",
       "      <td>0.333333</td>\n",
       "      <td>0.000354</td>\n",
       "    </tr>\n",
       "    <tr>\n",
       "      <th>37677</th>\n",
       "      <td>of</td>\n",
       "      <td>hair</td>\n",
       "      <td>of hair</td>\n",
       "      <td>1</td>\n",
       "      <td>0.000964</td>\n",
       "      <td>0.000299</td>\n",
       "    </tr>\n",
       "    <tr>\n",
       "      <th>37678</th>\n",
       "      <td>got</td>\n",
       "      <td>lot</td>\n",
       "      <td>got lot</td>\n",
       "      <td>1</td>\n",
       "      <td>0.004673</td>\n",
       "      <td>0.000341</td>\n",
       "    </tr>\n",
       "    <tr>\n",
       "      <th>37679</th>\n",
       "      <td>drop</td>\n",
       "      <td>off</td>\n",
       "      <td>drop off</td>\n",
       "      <td>1</td>\n",
       "      <td>0.055556</td>\n",
       "      <td>0.000353</td>\n",
       "    </tr>\n",
       "    <tr>\n",
       "      <th>37680</th>\n",
       "      <td>out</td>\n",
       "      <td>heading</td>\n",
       "      <td>out heading</td>\n",
       "      <td>1</td>\n",
       "      <td>0.004673</td>\n",
       "      <td>0.000341</td>\n",
       "    </tr>\n",
       "    <tr>\n",
       "      <th>37681</th>\n",
       "      <td>checked</td>\n",
       "      <td>out</td>\n",
       "      <td>checked out</td>\n",
       "      <td>1</td>\n",
       "      <td>0.166667</td>\n",
       "      <td>0.000354</td>\n",
       "    </tr>\n",
       "    <tr>\n",
       "      <th>37682</th>\n",
       "      <td>must</td>\n",
       "      <td>checked</td>\n",
       "      <td>must checked</td>\n",
       "      <td>1</td>\n",
       "      <td>0.008403</td>\n",
       "      <td>0.000347</td>\n",
       "    </tr>\n",
       "    <tr>\n",
       "      <th>37683</th>\n",
       "      <td>dream</td>\n",
       "      <td>must</td>\n",
       "      <td>dream must</td>\n",
       "      <td>1</td>\n",
       "      <td>0.038462</td>\n",
       "      <td>0.000353</td>\n",
       "    </tr>\n",
       "    <tr>\n",
       "      <th>37684</th>\n",
       "      <td>and</td>\n",
       "      <td>sweet</td>\n",
       "      <td>and sweet</td>\n",
       "      <td>1</td>\n",
       "      <td>0.001126</td>\n",
       "      <td>0.000306</td>\n",
       "    </tr>\n",
       "    <tr>\n",
       "      <th>37685</th>\n",
       "      <td>nip</td>\n",
       "      <td>and</td>\n",
       "      <td>nip and</td>\n",
       "      <td>1</td>\n",
       "      <td>0.076923</td>\n",
       "      <td>0.000353</td>\n",
       "    </tr>\n",
       "    <tr>\n",
       "      <th>37686</th>\n",
       "      <td>lie</td>\n",
       "      <td>god</td>\n",
       "      <td>lie god</td>\n",
       "      <td>1</td>\n",
       "      <td>0.111111</td>\n",
       "      <td>0.000354</td>\n",
       "    </tr>\n",
       "    <tr>\n",
       "      <th>37687</th>\n",
       "      <td>never</td>\n",
       "      <td>comfort</td>\n",
       "      <td>never comfort</td>\n",
       "      <td>1</td>\n",
       "      <td>0.022222</td>\n",
       "      <td>0.000351</td>\n",
       "    </tr>\n",
       "    <tr>\n",
       "      <th>37688</th>\n",
       "      <td>ll</td>\n",
       "      <td>on</td>\n",
       "      <td>ll on</td>\n",
       "      <td>1</td>\n",
       "      <td>0.027027</td>\n",
       "      <td>0.000352</td>\n",
       "    </tr>\n",
       "    <tr>\n",
       "      <th>37689</th>\n",
       "      <td>but</td>\n",
       "      <td>never</td>\n",
       "      <td>but never</td>\n",
       "      <td>1</td>\n",
       "      <td>0.002257</td>\n",
       "      <td>0.000328</td>\n",
       "    </tr>\n",
       "    <tr>\n",
       "      <th>37690</th>\n",
       "      <td>my</td>\n",
       "      <td>someone</td>\n",
       "      <td>my someone</td>\n",
       "      <td>1</td>\n",
       "      <td>0.001393</td>\n",
       "      <td>0.000314</td>\n",
       "    </tr>\n",
       "    <tr>\n",
       "      <th>37691</th>\n",
       "      <td>tolerate.bu</td>\n",
       "      <td>or</td>\n",
       "      <td>tolerate.bu or</td>\n",
       "      <td>1</td>\n",
       "      <td>1.000000</td>\n",
       "      <td>0.000354</td>\n",
       "    </tr>\n",
       "    <tr>\n",
       "      <th>37692</th>\n",
       "      <td>will</td>\n",
       "      <td>tolerate.bu</td>\n",
       "      <td>will tolerate.bu</td>\n",
       "      <td>1</td>\n",
       "      <td>0.002786</td>\n",
       "      <td>0.000333</td>\n",
       "    </tr>\n",
       "    <tr>\n",
       "      <th>37693</th>\n",
       "      <td>truth</td>\n",
       "      <td>i</td>\n",
       "      <td>truth i</td>\n",
       "      <td>1</td>\n",
       "      <td>0.083333</td>\n",
       "      <td>0.000353</td>\n",
       "    </tr>\n",
       "    <tr>\n",
       "      <th>37694</th>\n",
       "      <td>line</td>\n",
       "      <td>hurt</td>\n",
       "      <td>line hurt</td>\n",
       "      <td>1</td>\n",
       "      <td>0.037037</td>\n",
       "      <td>0.000352</td>\n",
       "    </tr>\n",
       "    <tr>\n",
       "      <th>37695</th>\n",
       "      <td>thi</td>\n",
       "      <td>line</td>\n",
       "      <td>thi line</td>\n",
       "      <td>1</td>\n",
       "      <td>0.004566</td>\n",
       "      <td>0.000341</td>\n",
       "    </tr>\n",
       "    <tr>\n",
       "      <th>37696</th>\n",
       "      <td>love</td>\n",
       "      <td>thi</td>\n",
       "      <td>love thi</td>\n",
       "      <td>1</td>\n",
       "      <td>0.005000</td>\n",
       "      <td>0.000342</td>\n",
       "    </tr>\n",
       "    <tr>\n",
       "      <th>37697</th>\n",
       "      <td>just</td>\n",
       "      <td>love</td>\n",
       "      <td>just love</td>\n",
       "      <td>1</td>\n",
       "      <td>0.004367</td>\n",
       "      <td>0.000340</td>\n",
       "    </tr>\n",
       "    <tr>\n",
       "      <th>37698</th>\n",
       "      <td>playing</td>\n",
       "      <td>much</td>\n",
       "      <td>playing much</td>\n",
       "      <td>1</td>\n",
       "      <td>0.166667</td>\n",
       "      <td>0.000354</td>\n",
       "    </tr>\n",
       "    <tr>\n",
       "      <th>37699</th>\n",
       "      <td>role</td>\n",
       "      <td>playing</td>\n",
       "      <td>role playing</td>\n",
       "      <td>1</td>\n",
       "      <td>0.142857</td>\n",
       "      <td>0.000354</td>\n",
       "    </tr>\n",
       "    <tr>\n",
       "      <th>37700</th>\n",
       "      <td>enjoy</td>\n",
       "      <td>role</td>\n",
       "      <td>enjoy role</td>\n",
       "      <td>1</td>\n",
       "      <td>0.034483</td>\n",
       "      <td>0.000352</td>\n",
       "    </tr>\n",
       "    <tr>\n",
       "      <th>37701</th>\n",
       "      <td>vol</td>\n",
       "      <td>enjoy</td>\n",
       "      <td>vol enjoy</td>\n",
       "      <td>1</td>\n",
       "      <td>0.017544</td>\n",
       "      <td>0.000351</td>\n",
       "    </tr>\n",
       "    <tr>\n",
       "      <th>37702</th>\n",
       "      <td>sun</td>\n",
       "      <td>vol</td>\n",
       "      <td>sun vol</td>\n",
       "      <td>1</td>\n",
       "      <td>0.071429</td>\n",
       "      <td>0.000353</td>\n",
       "    </tr>\n",
       "    <tr>\n",
       "      <th>37703</th>\n",
       "      <td>it</td>\n",
       "      <td>name</td>\n",
       "      <td>it name</td>\n",
       "      <td>1</td>\n",
       "      <td>0.000622</td>\n",
       "      <td>0.000276</td>\n",
       "    </tr>\n",
       "  </tbody>\n",
       "</table>\n",
       "<p>37704 rows × 6 columns</p>\n",
       "</div>"
      ],
      "text/plain": [
       "            word_1       word_2          word_1_2  frequency       MLE  \\\n",
       "0                i           'm              i 'm        377  0.127494   \n",
       "1               it           it             it it        290  0.180348   \n",
       "2              are          you           are you        177  0.419431   \n",
       "3                i          'll             i 'll        168  0.056814   \n",
       "4                i           am              i am        130  0.043963   \n",
       "5               do          n't            do n't        125  0.287356   \n",
       "6             have            a            have a        111  0.236674   \n",
       "7                i         will            i will        110  0.037200   \n",
       "8               to          you            to you        103  0.050714   \n",
       "9                i          can             i can         98  0.033142   \n",
       "10             you          are           you are         96  0.048955   \n",
       "11               i         have            i have         93  0.031451   \n",
       "12              it            '              it '         92  0.057214   \n",
       "13             and            i             and i         92  0.103604   \n",
       "14              in          the            in the         91  0.102941   \n",
       "15             but            i             but i         91  0.205418   \n",
       "16            want           to           want to         90  0.434783   \n",
       "17               i           wa              i wa         84  0.028407   \n",
       "18           going           to          going to         78  0.406250   \n",
       "19            have           to           have to         72  0.153518   \n",
       "20              in            a              in a         72  0.081448   \n",
       "21            that            '            that '         71  0.101140   \n",
       "22           sorry            i           sorry i         67  0.432258   \n",
       "23              to          get            to get         66  0.032496   \n",
       "24              to           be             to be         65  0.032004   \n",
       "25            need           to           need to         65  0.375723   \n",
       "26            when          you          when you         64  0.185507   \n",
       "27               i          've             i 've         64  0.021644   \n",
       "28            when            i            when i         63  0.182609   \n",
       "29               i           do              i do         61  0.020629   \n",
       "...            ...          ...               ...        ...       ...   \n",
       "37674         wish          all          wish all          1  0.015873   \n",
       "37675        china          had         china had          1  0.200000   \n",
       "37676      dresser           fr        dresser fr          1  0.333333   \n",
       "37677           of         hair           of hair          1  0.000964   \n",
       "37678          got          lot           got lot          1  0.004673   \n",
       "37679         drop          off          drop off          1  0.055556   \n",
       "37680          out      heading       out heading          1  0.004673   \n",
       "37681      checked          out       checked out          1  0.166667   \n",
       "37682         must      checked      must checked          1  0.008403   \n",
       "37683        dream         must        dream must          1  0.038462   \n",
       "37684          and        sweet         and sweet          1  0.001126   \n",
       "37685          nip          and           nip and          1  0.076923   \n",
       "37686          lie          god           lie god          1  0.111111   \n",
       "37687        never      comfort     never comfort          1  0.022222   \n",
       "37688           ll           on             ll on          1  0.027027   \n",
       "37689          but        never         but never          1  0.002257   \n",
       "37690           my      someone        my someone          1  0.001393   \n",
       "37691  tolerate.bu           or    tolerate.bu or          1  1.000000   \n",
       "37692         will  tolerate.bu  will tolerate.bu          1  0.002786   \n",
       "37693        truth            i           truth i          1  0.083333   \n",
       "37694         line         hurt         line hurt          1  0.037037   \n",
       "37695          thi         line          thi line          1  0.004566   \n",
       "37696         love          thi          love thi          1  0.005000   \n",
       "37697         just         love         just love          1  0.004367   \n",
       "37698      playing         much      playing much          1  0.166667   \n",
       "37699         role      playing      role playing          1  0.142857   \n",
       "37700        enjoy         role        enjoy role          1  0.034483   \n",
       "37701          vol        enjoy         vol enjoy          1  0.017544   \n",
       "37702          sun          vol           sun vol          1  0.071429   \n",
       "37703           it         name           it name          1  0.000622   \n",
       "\n",
       "       Laplace Smooth Probability  \n",
       "0                        0.043933  \n",
       "1                        0.040110  \n",
       "2                        0.029329  \n",
       "3                        0.019642  \n",
       "4                        0.015225  \n",
       "5                        0.020717  \n",
       "6                        0.018313  \n",
       "7                        0.012901  \n",
       "8                        0.013545  \n",
       "9                        0.011506  \n",
       "10                       0.012750  \n",
       "11                       0.010925  \n",
       "12                       0.012819  \n",
       "13                       0.014231  \n",
       "14                       0.014087  \n",
       "15                       0.015107  \n",
       "16                       0.015545  \n",
       "17                       0.009879  \n",
       "18                       0.013530  \n",
       "19                       0.011936  \n",
       "20                       0.011177  \n",
       "21                       0.011340  \n",
       "22                       0.011720  \n",
       "23                       0.008726  \n",
       "24                       0.008596  \n",
       "25                       0.011340  \n",
       "26                       0.010848  \n",
       "27                       0.007555  \n",
       "28                       0.010681  \n",
       "29                       0.007206  \n",
       "...                           ...  \n",
       "37674                    0.000350  \n",
       "37675                    0.000354  \n",
       "37676                    0.000354  \n",
       "37677                    0.000299  \n",
       "37678                    0.000341  \n",
       "37679                    0.000353  \n",
       "37680                    0.000341  \n",
       "37681                    0.000354  \n",
       "37682                    0.000347  \n",
       "37683                    0.000353  \n",
       "37684                    0.000306  \n",
       "37685                    0.000353  \n",
       "37686                    0.000354  \n",
       "37687                    0.000351  \n",
       "37688                    0.000352  \n",
       "37689                    0.000328  \n",
       "37690                    0.000314  \n",
       "37691                    0.000354  \n",
       "37692                    0.000333  \n",
       "37693                    0.000353  \n",
       "37694                    0.000352  \n",
       "37695                    0.000341  \n",
       "37696                    0.000342  \n",
       "37697                    0.000340  \n",
       "37698                    0.000354  \n",
       "37699                    0.000354  \n",
       "37700                    0.000352  \n",
       "37701                    0.000351  \n",
       "37702                    0.000353  \n",
       "37703                    0.000276  \n",
       "\n",
       "[37704 rows x 6 columns]"
      ]
     },
     "execution_count": 253,
     "metadata": {},
     "output_type": "execute_result"
    }
   ],
   "source": [
    "df1"
   ]
  },
  {
   "cell_type": "code",
   "execution_count": 254,
   "metadata": {},
   "outputs": [
    {
     "data": {
      "text/plain": [
       "<matplotlib.text.Text at 0x126c3e5c0>"
      ]
     },
     "execution_count": 254,
     "metadata": {},
     "output_type": "execute_result"
    },
    {
     "data": {
      "image/png": "[encoded data removed]",
      "text/plain": [
       "<matplotlib.figure.Figure at 0x126c616a0>"
      ]
     },
     "metadata": {},
     "output_type": "display_data"
    }
   ],
   "source": [
    "plt.figure(figsize=(18,6))\n",
    "\n",
    "plt.scatter(np.arange(len(df1.MLE[df1.MLE >= 0.95][:1000])), df1.MLE[df1.MLE >= 0.95].values[:1000])\n",
    "plt.scatter(np.arange(len(df1.MLE[df1.MLE >= 0.75][df1.MLE < 0.95][:1000])), df1.MLE[df1.MLE >= 0.75][df1.MLE < 0.95].values[:1000])\n",
    "plt.scatter(np.arange(len(df1.MLE[df1.MLE >= 0.5][df1.MLE < 0.75][:1000])), df1.MLE[df1.MLE >= 0.5][df1.MLE < 0.75].values[:1000])\n",
    "plt.scatter(np.arange(len(df1.MLE[df1.MLE < 0.5][:1000])), df1.MLE[df1.MLE < 0.5].values[:1000])\n",
    "\n",
    "plt.ylabel('MLE')\n",
    "plt.xlabel('Values')\n",
    "\n",
    "plt.title('MLE distributions for first sorted descending 1000 data  ')"
   ]
  },
  {
   "cell_type": "code",
   "execution_count": 255,
   "metadata": {},
   "outputs": [
    {
     "data": {
      "image/png": "[encoded data removed]",
      "text/plain": [
       "<matplotlib.figure.Figure at 0x121ab31d0>"
      ]
     },
     "metadata": {},
     "output_type": "display_data"
    }
   ],
   "source": [
    "plt.figure(figsize=(6,6))\n",
    "level1 = df1.MLE[df1.MLE > 0][df1.MLE <= 0.25].sum()\n",
    "level2 = df1.MLE[df1.MLE > 0.25][df1.MLE <= 0.5].sum() \n",
    "level3 = df1.MLE[df1.MLE > 0.5][df1.MLE < 1].sum()\n",
    "level4 = df1.MLE[df1.MLE == 1].sum()\n",
    "\n",
    "plt.bar(np.arange(len([level1])), level1, width=0.1, align='center', label='0-25%')\n",
    "plt.bar(np.arange(len([level2]))+0.2, level2, width=0.1, align='center', label='25-50%')\n",
    "plt.bar(np.arange(len([level3]))+0.4, level3, width=0.1, align='center', label='50-75%')\n",
    "\n",
    "plt.bar(np.arange(len([level4]))+.6, level4, width=0.1, align='center', label='75-100%', tick_label='75-100%')\n",
    "\n",
    "# plt.ylabel('Frequency')\n",
    "# plt.title('Tags frequency')\n",
    "# plt.xticks(np.arange(N))\n",
    "# plt.ticklabel_format(axis='x')\n",
    "plt.legend(loc='best')\n",
    "# plt.show()\n",
    "plt.ylabel('Counts')\n",
    "plt.xlabel('Clusters')\n",
    "\n",
    "plt.title('MLE distributions in 4 segmenation ')\n",
    "plt.show()"
   ]
  },
  {
   "cell_type": "code",
   "execution_count": 258,
   "metadata": {},
   "outputs": [
    {
     "data": {
      "text/plain": [
       "<matplotlib.text.Text at 0x128a24710>"
      ]
     },
     "execution_count": 258,
     "metadata": {},
     "output_type": "execute_result"
    },
    {
     "data": {
      "image/png": "[encoded data removed]",
      "text/plain": [
       "<matplotlib.figure.Figure at 0x12e52aa58>"
      ]
     },
     "metadata": {},
     "output_type": "display_data"
    }
   ],
   "source": [
    "# plt.figure(figsize=(18,6))\n",
    "labels, values = np.array(list(df1['word_1_2'])[:10]), list(df1['frequency'])[:10]\n",
    "indexes = np.arange(len(labels))\n",
    "plt.figure(figsize=(10,5))\n",
    "ax = sn.barplot(indexes,values)\n",
    "ax.set(xticklabels=labels)\n",
    "plt.ylabel('Laplace Smooth Probability')\n",
    "plt.xlabel('Ham Bigram')\n",
    "\n",
    "plt.title('Laplace Smooth Probability distributions for first sorted descending 1000 data  ')"
   ]
  },
  {
   "cell_type": "code",
   "execution_count": 79,
   "metadata": {
    "collapsed": true
   },
   "outputs": [],
   "source": [
    "l = 100\n",
    "x, y_ = np.indices((l, l))\n",
    "center1 = (28, 24)\n",
    "center2 = (40, 50)\n",
    "center3 = (67, 58)\n",
    "center4 = (24, 70)\n",
    "radius1, radius2, radius3, radius4 = 16, 14, 15, 14\n",
    "\n",
    "circle1 = (x - center1[0]) ** 2 + (y_ - center1[1]) ** 2 < radius1 ** 2\n",
    "circle2 = (x - center2[0]) ** 2 + (y_ - center2[1]) ** 2 < radius2 ** 2\n",
    "circle3 = (x - center3[0]) ** 2 + (y_ - center3[1]) ** 2 < radius3 ** 2\n",
    "circle4 = (x - center4[0]) ** 2 + (y_ - center4[1]) ** 2 < radius4 ** 2\n"
   ]
  },
  {
   "cell_type": "code",
   "execution_count": 80,
   "metadata": {
    "collapsed": true
   },
   "outputs": [],
   "source": [
    "A=df1.MLE.values"
   ]
  },
  {
   "cell_type": "code",
   "execution_count": 81,
   "metadata": {
    "collapsed": true
   },
   "outputs": [],
   "source": [
    "B = np.reshape(A, (-1, 2))"
   ]
  },
  {
   "cell_type": "code",
   "execution_count": 82,
   "metadata": {
    "collapsed": true
   },
   "outputs": [],
   "source": [
    "zeros_matrix = np.zeros([len(A),len(A)])"
   ]
  },
  {
   "cell_type": "code",
   "execution_count": 83,
   "metadata": {
    "collapsed": true
   },
   "outputs": [],
   "source": [
    "zeros_matrix.fill(0)"
   ]
  },
  {
   "cell_type": "code",
   "execution_count": 96,
   "metadata": {
    "collapsed": true
   },
   "outputs": [],
   "source": [
    "dim = 2678\n",
    "MLE_values = np.zeros([dim,dim])"
   ]
  },
  {
   "cell_type": "code",
   "execution_count": 97,
   "metadata": {},
   "outputs": [
    {
     "data": {
      "text/plain": [
       "array([[ 0.12749408,  0.        ,  0.        , ...,  0.        ,\n",
       "         0.        ,  0.        ],\n",
       "       [ 0.        ,  0.18034826,  0.        , ...,  0.        ,\n",
       "         0.        ,  0.        ],\n",
       "       [ 0.        ,  0.        ,  0.41943128, ...,  0.        ,\n",
       "         0.        ,  0.        ],\n",
       "       ..., \n",
       "       [ 0.        ,  0.        ,  0.        , ...,  0.00196947,\n",
       "         0.        ,  0.        ],\n",
       "       [ 0.        ,  0.        ,  0.        , ...,  0.        ,\n",
       "         0.02424242,  0.        ],\n",
       "       [ 0.        ,  0.        ,  0.        , ...,  0.        ,\n",
       "         0.        ,  0.0058651 ]])"
      ]
     },
     "execution_count": 97,
     "metadata": {},
     "output_type": "execute_result"
    }
   ],
   "source": [
    "row,col = np.diag_indices(MLE_values.shape[0])\n",
    "MLE_values[row,col] = np.array(df1.MLE.values[:dim])\n",
    "MLE_values"
   ]
  },
  {
   "cell_type": "code",
   "execution_count": 98,
   "metadata": {},
   "outputs": [
    {
     "name": "stderr",
     "output_type": "stream",
     "text": [
      "/Users/Tai/anaconda3/envs/nlp/lib/python3.6/site-packages/sklearn/manifold/spectral_embedding_.py:234: UserWarning: Graph is not fully connected, spectral embedding may not work as expected.\n",
      "  warnings.warn(\"Graph is not fully connected, spectral embedding\"\n"
     ]
    },
    {
     "data": {
      "text/plain": [
       "<matplotlib.image.AxesImage at 0x1324777b8>"
      ]
     },
     "execution_count": 98,
     "metadata": {},
     "output_type": "execute_result"
    },
    {
     "data": {
      "image/png": "[encoded data removed]",
      "text/plain": [
       "<matplotlib.figure.Figure at 0x1324b64a8>"
      ]
     },
     "metadata": {},
     "output_type": "display_data"
    },
    {
     "data": {
      "image/png": "[encoded data removed]",
      "text/plain": [
       "<matplotlib.figure.Figure at 0x1324b6400>"
      ]
     },
     "metadata": {},
     "output_type": "display_data"
    }
   ],
   "source": [
    "from sklearn.feature_extraction import image\n",
    "from sklearn.cluster import spectral_clustering\n",
    "\n",
    "\n",
    "# #############################################################################\n",
    "# 4 circles\n",
    "img = circle1 + circle2 + circle3 + circle4\n",
    "\n",
    "# We use a mask that limits to the foreground: the problem that we are\n",
    "# interested in here is not separating the objects from the background,\n",
    "# but separating them one from the other.\n",
    "mask = img.astype(bool)\n",
    "\n",
    "img = img.astype(float)\n",
    "img += 1 + 0.2 * np.random.randn(*img.shape)\n",
    "\n",
    "# Convert the image into a graph with the value of the gradient on the\n",
    "# edges.\n",
    "graph = image.img_to_graph(img, mask=mask)\n",
    "\n",
    "# Take a decreasing function of the gradient: we take it weakly\n",
    "# dependent from the gradient the segmentation is close to a voronoi\n",
    "graph.data = np.exp(-graph.data / graph.data.std())\n",
    "\n",
    "# Force the solver to be arpack, since amg is numerically\n",
    "# unstable on this example\n",
    "labels = spectral_clustering(MLE_values, n_clusters=4, eigen_solver='arpack')\n",
    "label_im = -np.ones(mask.shape)\n",
    "label_im[mask] = labels\n",
    "\n",
    "plt.matshow(img)\n",
    "plt.matshow(label_im)\n"
   ]
  },
  {
   "cell_type": "code",
   "execution_count": 1498,
   "metadata": {},
   "outputs": [
    {
     "data": {
      "text/plain": [
       "matrix([[ 0.05331274,  0.38952499,  0.        , ...,  0.        ,\n",
       "          0.        ,  0.        ],\n",
       "        [ 0.38952499,  0.13686602,  0.49382915, ...,  0.        ,\n",
       "          0.        ,  0.        ],\n",
       "        [ 0.        ,  0.49382915,  0.06758843, ...,  0.        ,\n",
       "          0.        ,  0.        ],\n",
       "        ..., \n",
       "        [ 0.        ,  0.        ,  0.        , ...,  0.0820313 ,\n",
       "          0.75135424,  0.        ],\n",
       "        [ 0.        ,  0.        ,  0.        , ...,  0.75135424,\n",
       "          0.06163456,  0.95601563],\n",
       "        [ 0.        ,  0.        ,  0.        , ...,  0.        ,\n",
       "          0.95601563,  0.05892361]])"
      ]
     },
     "execution_count": 1498,
     "metadata": {},
     "output_type": "execute_result"
    }
   ],
   "source": [
    "graph.todense()"
   ]
  },
  {
   "cell_type": "code",
   "execution_count": 948,
   "metadata": {
    "scrolled": false
   },
   "outputs": [
    {
     "data": {
      "text/plain": [
       "<seaborn.axisgrid.FacetGrid at 0x16f9afc88>"
      ]
     },
     "execution_count": 948,
     "metadata": {},
     "output_type": "execute_result"
    },
    {
     "data": {
      "image/png": "[encoded data removed]",
      "text/plain": [
       "<matplotlib.figure.Figure at 0x16f9af898>"
      ]
     },
     "metadata": {},
     "output_type": "display_data"
    }
   ],
   "source": [
    "sn.lmplot('frequency', 'Laplace Smooth Probability', df1)"
   ]
  },
  {
   "cell_type": "code",
   "execution_count": 949,
   "metadata": {
    "scrolled": false
   },
   "outputs": [
    {
     "data": {
      "text/plain": [
       "(37704, 6)"
      ]
     },
     "execution_count": 949,
     "metadata": {},
     "output_type": "execute_result"
    }
   ],
   "source": [
    "df1.shape"
   ]
  },
  {
   "cell_type": "code",
   "execution_count": 169,
   "metadata": {},
   "outputs": [
    {
     "data": {
      "image/png": "[encoded data removed]",
      "text/plain": [
       "<matplotlib.figure.Figure at 0x3efb66a90>"
      ]
     },
     "metadata": {},
     "output_type": "display_data"
    }
   ],
   "source": [
    "plt.figure(figsize=(6,6))\n",
    "venn2([set(df.word_1_2.values), set(df1.word_1_2.values)], ('Spams', 'Hams'),set_colors=('r', 'g'))\n",
    "plt.show()"
   ]
  },
  {
   "cell_type": "code",
   "execution_count": 950,
   "metadata": {
    "collapsed": true
   },
   "outputs": [],
   "source": [
    "# # plt.scatter(df['frequency'], df['MLE'])\n",
    "# plt.figure(figsize=(12,4))\n",
    "# x = np.arange(len(df1[:50]))\n",
    "# y = df1.frequency.values[:50]\n",
    "# plt.scatter(x,y, linewidths=0.01)\n",
    "# d = scipy.zeros(len(y))\n",
    "# plt.fill_between(x, y, where=y>=d, interpolate=True, color='black', alpha=0.1)"
   ]
  },
  {
   "cell_type": "code",
   "execution_count": 951,
   "metadata": {
    "collapsed": true
   },
   "outputs": [],
   "source": [
    "# df.sort_values('frequency', ascending=False)"
   ]
  },
  {
   "cell_type": "code",
   "execution_count": 952,
   "metadata": {
    "collapsed": true
   },
   "outputs": [],
   "source": [
    "# # The corpus counts for each word in the sentence:\n",
    "# word_ = []\n",
    "# frequency1 = []\n",
    "# for word in corpus_X_spam:\n",
    "#     word_.append(word)\n",
    "#     frequency1.append(cfd[word].N())\n",
    "# #     print(f\"{word:<8} {cfd[word].N():<8}\") \n",
    "# corpus_X_spam_count_unigram = [cfd[word].N() for word in corpus_X_spam]\n",
    "# df1 = pd.DataFrame({'frequency': frequency1, 'word': word_})\n",
    "# df1 = df1[['word', 'frequency']]\n",
    "# df1.word.value_counts()[:20]"
   ]
  },
  {
   "cell_type": "markdown",
   "metadata": {},
   "source": [
    "## CRF model"
   ]
  },
  {
   "cell_type": "code",
   "execution_count": 953,
   "metadata": {
    "collapsed": true
   },
   "outputs": [],
   "source": [
    "st_spam_tagged = st.tag(nltk.word_tokenize(\" \".join(\" \".join(X_spam).split())))\n",
    "pos_tagged = nltk.pos_tag(nltk.word_tokenize(\" \".join(\" \".join(X_spam).split())))"
   ]
  },
  {
   "cell_type": "code",
   "execution_count": 1172,
   "metadata": {
    "collapsed": true
   },
   "outputs": [],
   "source": [
    "st_ham_tagged = st.tag(nltk.word_tokenize(\" \".join(\" \".join(X_ham).split())))\n",
    "pos_ham_tagged = nltk.pos_tag(nltk.word_tokenize(\" \".join(\" \".join(X_ham).split())))"
   ]
  },
  {
   "cell_type": "code",
   "execution_count": 954,
   "metadata": {},
   "outputs": [
    {
     "data": {
      "text/plain": [
       "[('Free', 'O'), ('entry', 'O'), ('in', 'O'), ('2', 'O'), ('a', 'O')]"
      ]
     },
     "execution_count": 954,
     "metadata": {},
     "output_type": "execute_result"
    }
   ],
   "source": [
    "st_spam_tagged[:5]"
   ]
  },
  {
   "cell_type": "code",
   "execution_count": 1175,
   "metadata": {
    "scrolled": true
   },
   "outputs": [
    {
     "data": {
      "text/plain": [
       "[('To', 'O'), ('until', 'O'), ('during', 'O'), ('point', 'O'), ('crazy', 'O')]"
      ]
     },
     "execution_count": 1175,
     "metadata": {},
     "output_type": "execute_result"
    }
   ],
   "source": [
    "st_ham_tagged[:5]"
   ]
  },
  {
   "cell_type": "code",
   "execution_count": 955,
   "metadata": {
    "collapsed": true
   },
   "outputs": [],
   "source": [
    "spam_tagged = []\n",
    "for i,v in enumerate(st_spam_tagged):\n",
    "    x = v\n",
    "    if st_spam_tagged[i][1] == 'O':\n",
    "        x = (st_spam_tagged[i][0], st_spam_tagged[i][1].replace('O',tagged[i][1]))\n",
    "    spam_tagged.append(x)"
   ]
  },
  {
   "cell_type": "code",
   "execution_count": 1174,
   "metadata": {},
   "outputs": [
    {
     "ename": "IndexError",
     "evalue": "list index out of range",
     "output_type": "error",
     "traceback": [
      "\u001b[0;31m-------\u001b[0m",
      "\u001b[0;31mIndexError\u001b[0mTraceback (most recent call last)",
      "\u001b[0;32m<ipython-input-1174-e68c28f4364b>\u001b[0m in \u001b[0;36m<module>\u001b[0;34m()\u001b[0m\n\u001b[1;32m      3\u001b[0m     \u001b[0mx\u001b[0m \u001b[0;34m=\u001b[0m \u001b[0mv\u001b[0m\u001b[0;34m\u001b[0m\u001b[0m\n\u001b[1;32m      4\u001b[0m     \u001b[0;32mif\u001b[0m \u001b[0mst_ham_tagged\u001b[0m\u001b[0;34m[\u001b[0m\u001b[0mi\u001b[0m\u001b[0;34m]\u001b[0m\u001b[0;34m[\u001b[0m\u001b[0;36m1\u001b[0m\u001b[0;34m]\u001b[0m \u001b[0;34m==\u001b[0m \u001b[0;34m'O'\u001b[0m\u001b[0;34m:\u001b[0m\u001b[0;34m\u001b[0m\u001b[0m\n\u001b[0;32m----> 5\u001b[0;31m         \u001b[0mx\u001b[0m \u001b[0;34m=\u001b[0m \u001b[0;34m(\u001b[0m\u001b[0mst_ham_tagged\u001b[0m\u001b[0;34m[\u001b[0m\u001b[0mi\u001b[0m\u001b[0;34m]\u001b[0m\u001b[0;34m[\u001b[0m\u001b[0;36m0\u001b[0m\u001b[0;34m]\u001b[0m\u001b[0;34m,\u001b[0m \u001b[0mst_ham_tagged\u001b[0m\u001b[0;34m[\u001b[0m\u001b[0mi\u001b[0m\u001b[0;34m]\u001b[0m\u001b[0;34m[\u001b[0m\u001b[0;36m1\u001b[0m\u001b[0;34m]\u001b[0m\u001b[0;34m.\u001b[0m\u001b[0mreplace\u001b[0m\u001b[0;34m(\u001b[0m\u001b[0;34m'O'\u001b[0m\u001b[0;34m,\u001b[0m\u001b[0mtagged\u001b[0m\u001b[0;34m[\u001b[0m\u001b[0mi\u001b[0m\u001b[0;34m]\u001b[0m\u001b[0;34m[\u001b[0m\u001b[0;36m1\u001b[0m\u001b[0;34m]\u001b[0m\u001b[0;34m)\u001b[0m\u001b[0;34m)\u001b[0m\u001b[0;34m\u001b[0m\u001b[0m\n\u001b[0m\u001b[1;32m      6\u001b[0m     \u001b[0mham_tagged\u001b[0m\u001b[0;34m.\u001b[0m\u001b[0mappend\u001b[0m\u001b[0;34m(\u001b[0m\u001b[0mx\u001b[0m\u001b[0;34m)\u001b[0m\u001b[0;34m\u001b[0m\u001b[0m\n",
      "\u001b[0;31mIndexError\u001b[0m: list index out of range"
     ]
    }
   ],
   "source": [
    "ham_tagged = []\n",
    "for i,v in enumerate(st_ham_tagged):\n",
    "    x = v\n",
    "    if st_ham_tagged[i][1] == 'O':\n",
    "        x = (st_ham_tagged[i][0], st_ham_tagged[i][1].replace('O',tagged[i][1]))\n",
    "    ham_tagged.append(x)"
   ]
  },
  {
   "cell_type": "code",
   "execution_count": 956,
   "metadata": {},
   "outputs": [
    {
     "data": {
      "text/plain": [
       "[('Free', 'JJ'), ('entry', 'NN'), ('in', 'IN'), ('2', 'CD'), ('a', 'DT')]"
      ]
     },
     "execution_count": 956,
     "metadata": {},
     "output_type": "execute_result"
    }
   ],
   "source": [
    "spam_tagged[:5]"
   ]
  },
  {
   "cell_type": "code",
   "execution_count": 1161,
   "metadata": {
    "collapsed": true
   },
   "outputs": [],
   "source": [
    "spam_X = [x for x,y in st_spam_tagged]\n",
    "spam_y = [y for x,y in st_spam_tagged]"
   ]
  },
  {
   "cell_type": "code",
   "execution_count": 1162,
   "metadata": {
    "collapsed": true
   },
   "outputs": [],
   "source": [
    "from sklearn.model_selection import train_test_split\n",
    "\n",
    "spam_X_train, spam_X_test, spam_y_train, spam_y_test = train_test_split(spam_X,\n",
    "                                                    spam_y,\n",
    "                                                    random_state=42)"
   ]
  },
  {
   "cell_type": "code",
   "execution_count": 1163,
   "metadata": {},
   "outputs": [
    {
     "data": {
      "text/plain": [
       "(13482, 4495, 13482, 4495)"
      ]
     },
     "execution_count": 1163,
     "metadata": {},
     "output_type": "execute_result"
    }
   ],
   "source": [
    "len(spam_X_train), len(spam_X_test), len(spam_y_train), len(spam_y_test)"
   ]
  },
  {
   "cell_type": "code",
   "execution_count": 1164,
   "metadata": {
    "collapsed": true
   },
   "outputs": [],
   "source": [
    "spam_train_set = list(zip(spam_X_train, spam_y_train))\n",
    "spam_test_set = list(zip(spam_X_test, spam_y_test))"
   ]
  },
  {
   "cell_type": "code",
   "execution_count": 1165,
   "metadata": {
    "collapsed": true
   },
   "outputs": [],
   "source": [
    "def word2features(sent, i):\n",
    "    word = sent[0]\n",
    "    postag = sent[1]\n",
    "\n",
    "    features = {\n",
    "        'bias': 1.0,\n",
    "        'word.lower()': word.lower(),\n",
    "        'word[-3:]': word[-3:],\n",
    "        'word[-2:]': word[-2:],\n",
    "        'word.isupper()': word.isupper(),\n",
    "        'word.istitle()': word.istitle(),\n",
    "        'word.isdigit()': word.isdigit(),\n",
    "        'postag': postag,\n",
    "        'postag[:2]': postag[:2],\n",
    "    }\n",
    "    if i > 0:\n",
    "        word1 = sent[0]\n",
    "        postag1 = sent[1]\n",
    "        features.update({\n",
    "            '-1:word.lower()': word1.lower(),\n",
    "            '-1:word.istitle()': word1.istitle(),\n",
    "            '-1:word.isupper()': word1.isupper(),\n",
    "            '-1:postag': postag1,\n",
    "            '-1:postag[:2]': postag1[:2],\n",
    "        })\n",
    "    else:\n",
    "        features['BOS'] = True # is word at beginning of sentence\n",
    "\n",
    "    if i < len(sent)-1:\n",
    "        word1 = sent[0]\n",
    "        postag1 = sent[1]\n",
    "        features.update({\n",
    "            '+1:word.lower()': word1.lower(),\n",
    "            '+1:word.istitle()': word1.istitle(),\n",
    "            '+1:word.isupper()': word1.isupper(),\n",
    "            '+1:postag': postag1,\n",
    "            '+1:postag[:2]': postag1[:2],\n",
    "        })\n",
    "    else:\n",
    "        features['EOS'] = True # is word at the end of sentence\n",
    "\n",
    "    return features\n",
    "\n",
    "\n",
    "def sent2features(sent):\n",
    "    return [word2features(sent, i) for i in range(len(sent))]\n",
    "\n",
    "def sent2labels(sent):\n",
    "    return [sent[1] for _ in range(len(sent))]\n",
    "\n",
    "def sent2tokens(sent):\n",
    "    return [sent[0] for _ in range(len(sent))]"
   ]
  },
  {
   "cell_type": "markdown",
   "metadata": {},
   "source": [
    "#### Train tags for each message token"
   ]
  },
  {
   "cell_type": "code",
   "execution_count": 1166,
   "metadata": {},
   "outputs": [
    {
     "name": "stdout",
     "output_type": "stream",
     "text": [
      "CPU times: user 306 ms, sys: 27.4 ms, total: 333 ms\n",
      "Wall time: 342 ms\n"
     ]
    }
   ],
   "source": [
    "%%time\n",
    "X_train = [sent2features(s) for s in spam_train_set]\n",
    "y_train = [sent2labels(s) for s in spam_train_set]\n",
    "\n",
    "X_test = [sent2features(s) for s in spam_train_set]\n",
    "y_test = [sent2labels(s) for s in spam_train_set]"
   ]
  },
  {
   "cell_type": "code",
   "execution_count": 1167,
   "metadata": {},
   "outputs": [
    {
     "name": "stdout",
     "output_type": "stream",
     "text": [
      "CPU times: user 996 ms, sys: 8.31 ms, total: 1 s\n",
      "Wall time: 1 s\n"
     ]
    }
   ],
   "source": [
    "%%time\n",
    "crf = sklearn_crfsuite.CRF(\n",
    "    algorithm='lbfgs',\n",
    "    c1=0.1,\n",
    "    c2=0.1,\n",
    "    max_iterations=100,\n",
    "    all_possible_transitions=True\n",
    ")\n",
    "crf.fit(X_train, y_train)"
   ]
  },
  {
   "cell_type": "markdown",
   "metadata": {},
   "source": [
    "#### Predict tags"
   ]
  },
  {
   "cell_type": "code",
   "execution_count": 1168,
   "metadata": {},
   "outputs": [
    {
     "data": {
      "text/plain": [
       "1.0"
      ]
     },
     "execution_count": 1168,
     "metadata": {},
     "output_type": "execute_result"
    }
   ],
   "source": [
    "labels = list(crf.classes_)\n",
    "\n",
    "y_pred = crf.predict(X_test)\n",
    "metrics.flat_f1_score(y_test, y_pred,\n",
    "                      average='weighted', labels=labels)"
   ]
  },
  {
   "cell_type": "markdown",
   "metadata": {},
   "source": [
    "#### Evaluate predictions"
   ]
  },
  {
   "cell_type": "code",
   "execution_count": 1169,
   "metadata": {
    "scrolled": true
   },
   "outputs": [
    {
     "name": "stdout",
     "output_type": "stream",
     "text": [
      "              precision    recall  f1-score   support\n",
      "\n",
      "           O      1.000     1.000     1.000     26444\n",
      "      PERSON      1.000     1.000     1.000       106\n",
      "    LOCATION      1.000     1.000     1.000        60\n",
      "ORGANIZATION      1.000     1.000     1.000       354\n",
      "\n",
      " avg / total      1.000     1.000     1.000     26964\n",
      "\n"
     ]
    }
   ],
   "source": [
    "# group B and I results\n",
    "sorted_labels = sorted(\n",
    "    labels,\n",
    "    key=lambda name: (name[1:], name[0])\n",
    ")\n",
    "print(metrics.flat_classification_report(\n",
    "    y_test, y_pred, labels=sorted_labels, digits=3\n",
    "))"
   ]
  },
  {
   "cell_type": "code",
   "execution_count": 1170,
   "metadata": {},
   "outputs": [
    {
     "name": "stdout",
     "output_type": "stream",
     "text": [
      "Top likely transitions:\n",
      "O      -> O       2.697421\n",
      "ORG    -> ORG     1.895641\n",
      "PER    -> PER     1.598967\n",
      "LOC    -> LOC     1.485815\n",
      "LOC    -> PER     -0.173622\n",
      "PER    -> LOC     -0.173622\n",
      "LOC    -> ORG     -0.209752\n",
      "ORG    -> LOC     -0.209752\n",
      "ORG    -> PER     -0.245017\n",
      "PER    -> ORG     -0.245017\n",
      "\n",
      "Top unlikely transitions:\n",
      "LOC    -> ORG     -0.209752\n",
      "ORG    -> LOC     -0.209752\n",
      "ORG    -> PER     -0.245017\n",
      "PER    -> ORG     -0.245017\n",
      "O      -> LOC     -0.371498\n",
      "LOC    -> O       -0.371498\n",
      "O      -> PER     -0.398018\n",
      "PER    -> O       -0.398018\n",
      "O      -> ORG     -0.441130\n",
      "ORG    -> O       -0.441130\n"
     ]
    }
   ],
   "source": [
    "from collections import Counter\n",
    "\n",
    "def print_transitions(trans_features):\n",
    "    for (label_from, label_to), weight in trans_features:\n",
    "        print(\"%-6s -> %-7s %0.6f\" % (label_from[:3], label_to[:3], weight))\n",
    "\n",
    "print(\"Top likely transitions:\")\n",
    "print_transitions(Counter(crf.transition_features_).most_common(10))\n",
    "\n",
    "print(\"\\nTop unlikely transitions:\")\n",
    "print_transitions(Counter(crf.transition_features_).most_common()[-10:])"
   ]
  },
  {
   "cell_type": "code",
   "execution_count": 1171,
   "metadata": {},
   "outputs": [
    {
     "name": "stdout",
     "output_type": "stream",
     "text": [
      "Top positive:\n",
      "2.893024 O        postag:O\n",
      "2.893024 O        postag[:2]:O\n",
      "2.018257 ORGANIZATION postag:ORGANIZATION\n",
      "2.018257 ORGANIZATION postag[:2]:OR\n",
      "1.750264 PERSON   postag:PERSON\n",
      "1.750264 PERSON   postag[:2]:PE\n",
      "1.664704 LOCATION postag:LOCATION\n",
      "1.664704 LOCATION postag[:2]:LO\n",
      "1.196596 O        +1:postag:O\n",
      "1.196596 O        +1:postag[:2]:O\n",
      "\n",
      "Top negative:\n",
      "0.582505 LOCATION -1:postag:LOCATION\n",
      "0.582505 LOCATION -1:postag[:2]:LO\n",
      "0.472668 O        bias\n",
      "0.088709 LOCATION word.lower():england\n",
      "0.064668 PERSON   word.lower():foka\n",
      "0.064578 PERSON   word[-3:]:oka\n",
      "0.064239 PERSON   word[-2:]:ka\n",
      "0.020295 LOCATION word[-2:]:on\n",
      "-0.037150 LOCATION bias\n",
      "-0.432541 O        word.istitle()\n"
     ]
    }
   ],
   "source": [
    "def print_state_features(state_features):\n",
    "    for (attr, label), weight in state_features:\n",
    "        print(\"%0.6f %-8s %s\" % (weight, label, attr))\n",
    "\n",
    "print(\"Top positive:\")\n",
    "print_state_features(Counter(crf.state_features_).most_common(10))\n",
    "\n",
    "print(\"\\nTop negative:\")\n",
    "print_state_features(Counter(crf.state_features_).most_common()[-10:])"
   ]
  },
  {
   "cell_type": "code",
   "execution_count": 1170,
   "metadata": {},
   "outputs": [
    {
     "name": "stdout",
     "output_type": "stream",
     "text": [
      "Top likely transitions:\n",
      "O      -> O       2.697421\n",
      "ORG    -> ORG     1.895641\n",
      "PER    -> PER     1.598967\n",
      "LOC    -> LOC     1.485815\n",
      "LOC    -> PER     -0.173622\n",
      "PER    -> LOC     -0.173622\n",
      "LOC    -> ORG     -0.209752\n",
      "ORG    -> LOC     -0.209752\n",
      "ORG    -> PER     -0.245017\n",
      "PER    -> ORG     -0.245017\n",
      "\n",
      "Top unlikely transitions:\n",
      "LOC    -> ORG     -0.209752\n",
      "ORG    -> LOC     -0.209752\n",
      "ORG    -> PER     -0.245017\n",
      "PER    -> ORG     -0.245017\n",
      "O      -> LOC     -0.371498\n",
      "LOC    -> O       -0.371498\n",
      "O      -> PER     -0.398018\n",
      "PER    -> O       -0.398018\n",
      "O      -> ORG     -0.441130\n",
      "ORG    -> O       -0.441130\n"
     ]
    }
   ],
   "source": [
    "from collections import Counter\n",
    "\n",
    "def print_transitions(trans_features):\n",
    "    for (label_from, label_to), weight in trans_features:\n",
    "        print(\"%-6s -> %-7s %0.6f\" % (label_from[:3], label_to[:3], weight))\n",
    "\n",
    "print(\"Top likely transitions:\")\n",
    "print_transitions(Counter(crf.transition_features_).most_common(10))\n",
    "\n",
    "print(\"\\nTop unlikely transitions:\")\n",
    "print_transitions(Counter(crf.transition_features_).most_common()[-10:])"
   ]
  },
  {
   "cell_type": "code",
   "execution_count": 1171,
   "metadata": {},
   "outputs": [
    {
     "name": "stdout",
     "output_type": "stream",
     "text": [
      "Top positive:\n",
      "2.893024 O        postag:O\n",
      "2.893024 O        postag[:2]:O\n",
      "2.018257 ORGANIZATION postag:ORGANIZATION\n",
      "2.018257 ORGANIZATION postag[:2]:OR\n",
      "1.750264 PERSON   postag:PERSON\n",
      "1.750264 PERSON   postag[:2]:PE\n",
      "1.664704 LOCATION postag:LOCATION\n",
      "1.664704 LOCATION postag[:2]:LO\n",
      "1.196596 O        +1:postag:O\n",
      "1.196596 O        +1:postag[:2]:O\n",
      "\n",
      "Top negative:\n",
      "0.582505 LOCATION -1:postag:LOCATION\n",
      "0.582505 LOCATION -1:postag[:2]:LO\n",
      "0.472668 O        bias\n",
      "0.088709 LOCATION word.lower():england\n",
      "0.064668 PERSON   word.lower():foka\n",
      "0.064578 PERSON   word[-3:]:oka\n",
      "0.064239 PERSON   word[-2:]:ka\n",
      "0.020295 LOCATION word[-2:]:on\n",
      "-0.037150 LOCATION bias\n",
      "-0.432541 O        word.istitle()\n"
     ]
    }
   ],
   "source": [
    "def print_state_features(state_features):\n",
    "    for (attr, label), weight in state_features:\n",
    "        print(\"%0.6f %-8s %s\" % (weight, label, attr))\n",
    "\n",
    "print(\"Top positive:\")\n",
    "print_state_features(Counter(crf.state_features_).most_common(10))\n",
    "\n",
    "print(\"\\nTop negative:\")\n",
    "print_state_features(Counter(crf.state_features_).most_common()[-10:])"
   ]
  },
  {
   "cell_type": "markdown",
   "metadata": {},
   "source": [
    "## Training w/ CountVectorizer"
   ]
  },
  {
   "cell_type": "code",
   "execution_count": 1516,
   "metadata": {},
   "outputs": [
    {
     "data": {
      "text/plain": [
       "(4179, 4179, 1393, 1393)"
      ]
     },
     "execution_count": 1516,
     "metadata": {},
     "output_type": "execute_result"
    }
   ],
   "source": [
    "from sklearn.model_selection import train_test_split\n",
    "from sklearn.feature_extraction.text import CountVectorizer,TfidfVectorizer\n",
    "from sklearn.naive_bayes import MultinomialNB, GaussianNB\n",
    "from sklearn.metrics import precision_score, recall_score\n",
    "from sklearn.linear_model import SGDClassifier, LogisticRegression\n",
    "from sklearn.metrics import f1_score\n",
    "from sklearn.metrics import confusion_matrix\n",
    "\n",
    "X_train, X_test, y_train, y_test = train_test_split(X,y,random_state=42)\n",
    "len(X_train), len(y_train), len(X_test), len(y_test)"
   ]
  },
  {
   "cell_type": "code",
   "execution_count": 1517,
   "metadata": {},
   "outputs": [
    {
     "data": {
      "text/plain": [
       "['In u r hurt by d ran who s close 2 u do fight wit dem Oz sometime di fight save a relation it being quiet leaf nothing in a relation Mud even',\n",
       " \"To how ' scotland Hope you are not over showing ymy JJC tendency Take care Give the dream\",\n",
       " 'Never y let I v lazy Not wat At day ü send me da curl can work one',\n",
       " \"Right femme know what ' up\",\n",
       " 'To we are watching a movie on netflix']"
      ]
     },
     "execution_count": 1517,
     "metadata": {},
     "output_type": "execute_result"
    }
   ],
   "source": [
    "X_train[:5]"
   ]
  },
  {
   "cell_type": "code",
   "execution_count": 1045,
   "metadata": {
    "collapsed": true
   },
   "outputs": [],
   "source": [
    "vectorizer = CountVectorizer()\n",
    "transformed_X_train = vectorizer.fit_transform(X_train)"
   ]
  },
  {
   "cell_type": "code",
   "execution_count": 1056,
   "metadata": {},
   "outputs": [
    {
     "data": {
      "text/plain": [
       "matrix([[0, 0, 0, ..., 0, 0, 0],\n",
       "        [0, 0, 0, ..., 0, 0, 0],\n",
       "        [0, 0, 0, ..., 0, 0, 0],\n",
       "        [0, 0, 0, ..., 0, 0, 0],\n",
       "        [0, 0, 0, ..., 0, 0, 0]], dtype=int64)"
      ]
     },
     "execution_count": 1056,
     "metadata": {},
     "output_type": "execute_result"
    }
   ],
   "source": [
    "transformed_X_train.todense()[0:5]"
   ]
  },
  {
   "cell_type": "code",
   "execution_count": 1057,
   "metadata": {},
   "outputs": [
    {
     "data": {
      "text/plain": [
       "(4179, 5766)"
      ]
     },
     "execution_count": 1057,
     "metadata": {},
     "output_type": "execute_result"
    }
   ],
   "source": [
    "transformed_X_train.shape"
   ]
  },
  {
   "cell_type": "markdown",
   "metadata": {},
   "source": [
    "### SVM"
   ]
  },
  {
   "cell_type": "code",
   "execution_count": 1103,
   "metadata": {},
   "outputs": [
    {
     "name": "stderr",
     "output_type": "stream",
     "text": [
      "/Users/Tai/anaconda3/envs/nlp/lib/python3.6/site-packages/sklearn/linear_model/stochastic_gradient.py:84: FutureWarning: max_iter and tol parameters have been added in <class 'sklearn.linear_model.stochastic_gradient.SGDClassifier'> in 0.19. If both are left unset, they default to max_iter=5 and tol=None. If tol is not None, max_iter defaults to max_iter=1000. From 0.21, default max_iter will be 1000, and default tol will be 1e-3.\n",
      "  \"and default tol will be 1e-3.\" % type(self), FutureWarning)\n"
     ]
    },
    {
     "data": {
      "text/plain": [
       "SGDClassifier(alpha=0.0001, average=False, class_weight=None, epsilon=0.1,\n",
       "       eta0=0.0, fit_intercept=True, l1_ratio=0.15,\n",
       "       learning_rate='optimal', loss='hinge', max_iter=5, n_iter=None,\n",
       "       n_jobs=1, penalty='l2', power_t=0.5, random_state=None,\n",
       "       shuffle=True, tol=None, verbose=0, warm_start=False)"
      ]
     },
     "execution_count": 1103,
     "metadata": {},
     "output_type": "execute_result"
    }
   ],
   "source": [
    "count_vect = CountVectorizer()\n",
    "count_vect.fit(X_train)\n",
    "svm_clf = SGDClassifier()\n",
    "svm_clf.fit(count_vect.transform(X_train), y_train)"
   ]
  },
  {
   "cell_type": "code",
   "execution_count": 1104,
   "metadata": {
    "collapsed": true
   },
   "outputs": [],
   "source": [
    "svm_predictions = svm_clf.predict(count_vect.transform(X_test))"
   ]
  },
  {
   "cell_type": "code",
   "execution_count": 1105,
   "metadata": {
    "collapsed": true
   },
   "outputs": [],
   "source": [
    "svm_precision = precision_score(y_test, svm_predictions , pos_label='ham')\n",
    "svm_recall = recall_score(y_test, svm_predictions, pos_label='ham')\n",
    "svm_f1 = f1_score(y_test, svm_predictions, pos_label='ham')\n",
    "svm_confusion_table = confusion_matrix(y_test, svm_predictions)"
   ]
  },
  {
   "cell_type": "markdown",
   "metadata": {},
   "source": [
    "### MultinomialNB"
   ]
  },
  {
   "cell_type": "code",
   "execution_count": 1078,
   "metadata": {
    "collapsed": true,
    "scrolled": true
   },
   "outputs": [],
   "source": [
    "# print(\"There are {:,} words in the vocabulary.\".format(len(vectorizer.vocabulary_)))\n",
    "# print(\"'{}' appers {:,} times.\".format('daddy', vectorizer.vocabulary_['daddy']))"
   ]
  },
  {
   "cell_type": "code",
   "execution_count": 1096,
   "metadata": {
    "collapsed": true
   },
   "outputs": [],
   "source": [
    "multinomialNB = MultinomialNB()\n",
    "multinomialNB.fit(transformed_X_train, y_train)\n",
    "nb_predictions = multinomialNB.predict(vectorizer.transform(X_test))"
   ]
  },
  {
   "cell_type": "code",
   "execution_count": 1097,
   "metadata": {
    "collapsed": true
   },
   "outputs": [],
   "source": [
    "nb_precision = precision_score(y_test, prediction, pos_label='ham')\n",
    "nb_recall = recall_score(y_test, prediction, pos_label='ham')\n",
    "nb_f1 = f1_score(y_test, prediction, pos_label='ham')\n",
    "nb_confusion_table = confusion_matrix(y_test, nb_predictions)"
   ]
  },
  {
   "cell_type": "markdown",
   "metadata": {},
   "source": [
    "### Logistic Regression"
   ]
  },
  {
   "cell_type": "code",
   "execution_count": 1075,
   "metadata": {
    "collapsed": true
   },
   "outputs": [],
   "source": [
    "lr = LogisticRegression()\n",
    "lr.fit(transformed_X_train, y_train)\n",
    "lr_predictions = lr.predict(vectorizer.transform(X_test))"
   ]
  },
  {
   "cell_type": "code",
   "execution_count": 1086,
   "metadata": {
    "collapsed": true
   },
   "outputs": [],
   "source": [
    "lr_precision = precision_score(y_test, lr_predictions, pos_label='ham')\n",
    "lr_recall = recall_score(y_test, lr_predictions, pos_label='ham')\n",
    "lr_f1 = f1_score(y_test, lr_predictions, pos_label='ham')\n",
    "lr_confusion_table = confusion_matrix(y_test, lr_predictions)"
   ]
  },
  {
   "cell_type": "markdown",
   "metadata": {},
   "source": [
    "## Evaluation"
   ]
  },
  {
   "cell_type": "code",
   "execution_count": 1110,
   "metadata": {
    "scrolled": false
   },
   "outputs": [
    {
     "name": "stdout",
     "output_type": "stream",
     "text": [
      "-----------MultinomialNB-----------\n",
      "Precision: 0.9884009942\n",
      "Recall   : 0.993338884263\n",
      "F1_score : 0.990863787375\n",
      "\n",
      "-----------Logistic Regression-----------\n",
      "Precision: 0.979575163399\n",
      "Recall   : 0.998334721066\n",
      "F1_score : 0.988865979381\n",
      "\n",
      "-----------SVM-----------\n",
      "Precision: 0.974776240846\n",
      "Recall   : 0.997502081599\n",
      "F1_score : 0.986008230453\n"
     ]
    },
    {
     "data": {
      "image/png": "[encoded data removed]",
      "text/plain": [
       "<matplotlib.figure.Figure at 0x168406ac8>"
      ]
     },
     "metadata": {},
     "output_type": "display_data"
    },
    {
     "data": {
      "image/png": "[encoded data removed]",
      "text/plain": [
       "<matplotlib.figure.Figure at 0x13b20b0b8>"
      ]
     },
     "metadata": {},
     "output_type": "display_data"
    },
    {
     "data": {
      "image/png": "[encoded data removed]",
      "text/plain": [
       "<matplotlib.figure.Figure at 0x16a059470>"
      ]
     },
     "metadata": {},
     "output_type": "display_data"
    }
   ],
   "source": [
    "print(\"-----------MultinomialNB-----------\")\n",
    "print(\"Precision:\", nb_precision)\n",
    "print(\"Recall   :\", nb_recall)\n",
    "print(\"F1_score :\", nb_f1)\n",
    "plt.figure()\n",
    "plot_confusion_matrix(nb_confusion_table, classes=['ham','spam'],\n",
    "                      title='MultinomialNB')\n",
    "print(\"\\n-----------Logistic Regression-----------\")\n",
    "print(\"Precision:\", lr_precision)\n",
    "print(\"Recall   :\", lr_recall)\n",
    "print(\"F1_score :\", lr_f1)\n",
    "# print(\"Confusion table:\\n\", lr_confusion_table)\n",
    "plt.figure()\n",
    "plot_confusion_matrix(lr_confusion_table, classes=['ham','spam'],\n",
    "                      title='Logistic Regression')\n",
    "print(\"\\n-----------SVM-----------\")\n",
    "print(\"Precision:\", svm_precision)\n",
    "print(\"Recall   :\", svm_recall)\n",
    "print(\"F1_score :\", svm_f1)\n",
    "plt.figure()\n",
    "plot_confusion_matrix(svm_confusion_table, classes=['ham','spam'],\n",
    "                      title='SVM')"
   ]
  },
  {
   "cell_type": "code",
   "execution_count": 1015,
   "metadata": {
    "collapsed": true
   },
   "outputs": [],
   "source": [
    "# import matplotlib.pyplot as plt\n",
    "\n",
    "# df_cm = pd.DataFrame(confusion_table, index = [i for i in ['Actual ham', 'Actual spam']],\n",
    "#                   columns = [i for i in ['ham','spam']])\n",
    "# plt.figure(figsize = (10,7))\n",
    "# sn.heatmap(df_cm, annot=True)"
   ]
  },
  {
   "cell_type": "code",
   "execution_count": 1111,
   "metadata": {
    "collapsed": true
   },
   "outputs": [],
   "source": [
    "def plot_confusion_matrix(cm, classes,\n",
    "                          normalize=False,\n",
    "                          title='Confusion matrix',\n",
    "                          cmap=plt.cm.Blues):\n",
    "    \"\"\"\n",
    "    This function prints and plots the confusion matrix.\n",
    "    Normalization can be applied by setting `normalize=True`.\n",
    "    \"\"\"\n",
    "    if normalize:\n",
    "        cm = cm.astype('float') / cm.sum(axis=1)[:, np.newaxis]\n",
    "#         print(\"Normalized confusion matrix\")\n",
    "#     else:\n",
    "#         print('Confusion matrix, without normalization')\n",
    "\n",
    "#     print(cm)\n",
    "\n",
    "    plt.imshow(cm, interpolation='nearest', cmap=cmap)\n",
    "    plt.title(title)\n",
    "    plt.colorbar()\n",
    "    tick_marks = np.arange(len(classes))\n",
    "    plt.xticks(tick_marks, classes, rotation=45)\n",
    "    plt.yticks(tick_marks, classes)\n",
    "\n",
    "    fmt = '.2f' if normalize else 'd'\n",
    "    thresh = cm.max() / 2.\n",
    "    for i, j in itertools.product(range(cm.shape[0]), range(cm.shape[1])):\n",
    "        plt.text(j, i, format(cm[i, j], fmt),\n",
    "                 horizontalalignment=\"center\",\n",
    "                 color=\"white\" if cm[i, j] > thresh else \"black\")\n",
    "\n",
    "    plt.tight_layout()\n",
    "    plt.ylabel('True label')\n",
    "    plt.xlabel('Predicted label')"
   ]
  },
  {
   "cell_type": "markdown",
   "metadata": {},
   "source": [
    "## K-fold cv / Undersampling"
   ]
  },
  {
   "cell_type": "code",
   "execution_count": 1147,
   "metadata": {},
   "outputs": [
    {
     "name": "stderr",
     "output_type": "stream",
     "text": [
      "/Users/Tai/anaconda3/envs/nlp/lib/python3.6/site-packages/sklearn/linear_model/stochastic_gradient.py:84: FutureWarning: max_iter and tol parameters have been added in <class 'sklearn.linear_model.stochastic_gradient.SGDClassifier'> in 0.19. If both are left unset, they default to max_iter=5 and tol=None. If tol is not None, max_iter defaults to max_iter=1000. From 0.21, default max_iter will be 1000, and default tol will be 1e-3.\n",
      "  \"and default tol will be 1e-3.\" % type(self), FutureWarning)\n"
     ]
    },
    {
     "name": "stdout",
     "output_type": "stream",
     "text": [
      "----------------------------------------- MultinomialNB ----------------------------------------------------\n",
      "          | Accuracy:\t\t | Precision score:\t | Recall score:\t | F1 score:   \n",
      "-------------------------------------------------------------------------------------------------\n",
      "K-Fold 0 :| 0.982078853047 \t | 0.995762711864 \t | 0.983263598326 \t | 0.989473684211\n",
      "K-Fold 1 :| 0.985663082437 \t | 0.99358974359 \t | 0.989361702128 \t | 0.991471215352\n",
      "K-Fold 2 :| 0.982046678636 \t | 0.987755102041 \t | 0.991803278689 \t | 0.989775051125\n",
      "K-Fold 3 :| 0.985637342908 \t | 0.993788819876 \t | 0.989690721649 \t | 0.99173553719\n",
      "K-Fold 4 :| 0.971274685817 \t | 0.981519507187 \t | 0.985567010309 \t | 0.98353909465\n",
      "K-Fold 5 :| 0.983842010772 \t | 0.993865030675 \t | 0.987804878049 \t | 0.990825688073\n",
      "K-Fold 6 :| 0.978456014363 \t | 0.985596707819 \t | 0.989669421488 \t | 0.987628865979\n",
      "K-Fold 7 :| 0.983842010772 \t | 0.989473684211 \t | 0.991561181435 \t | 0.990516332982\n",
      "K-Fold 8 :| 0.96947935368 \t | 0.989517819706 \t | 0.97520661157 \t | 0.982310093652\n",
      "K-Fold 9 :| 0.985637342908 \t | 0.99175257732 \t | 0.99175257732 \t | 0.99175257732\n",
      "-------------------------------------------------------------------------------------------------\n",
      "    Mean :| 0.980795737534 \t |  0.990262170429 \t |  0.987568098096 \t |  0.988902814053\n",
      "\n",
      "----------------------------------------- SVM ----------------------------------------------------\n",
      "          | Accuracy:\t\t | Precision score:\t | Recall score:\t | F1 score:   \n",
      "-------------------------------------------------------------------------------------------------\n",
      "K-Fold 0 :| 0.987455197133 \t | 0.989604989605 \t | 0.995815899582 \t | 0.992700729927\n",
      "K-Fold 1 :| 0.980286738351 \t | 0.979123173278 \t | 0.997872340426 \t | 0.988408851423\n",
      "K-Fold 2 :| 0.982046678636 \t | 0.987755102041 \t | 0.991803278689 \t | 0.989775051125\n",
      "K-Fold 3 :| 0.987432675045 \t | 0.989754098361 \t | 0.99587628866 \t | 0.992805755396\n",
      "K-Fold 4 :| 0.97486535009 \t | 0.97384305835 \t | 0.99793814433 \t | 0.985743380855\n",
      "K-Fold 5 :| 0.983842010772 \t | 0.982035928144 \t | 1.0 \t | 0.990936555891\n",
      "K-Fold 6 :| 0.983842010772 \t | 0.983706720978 \t | 0.997933884298 \t | 0.990769230769\n",
      "K-Fold 7 :| 0.989228007181 \t | 0.989539748954 \t | 0.997890295359 \t | 0.993697478992\n",
      "K-Fold 8 :| 0.976660682226 \t | 0.975757575758 \t | 0.997933884298 \t | 0.986721144025\n",
      "K-Fold 9 :| 0.985637342908 \t | 0.98773006135 \t | 0.99587628866 \t | 0.991786447639\n",
      "-------------------------------------------------------------------------------------------------\n",
      "    Mean :| 0.983129669311 \t |  0.983885045682 \t |  0.99689403043 \t |  0.990334462604\n",
      "\n",
      "----------------------------------------- Logistic Regression ----------------------------------------------------\n",
      "          | Accuracy:\t\t | Precision score:\t | Recall score:\t | F1 score:   \n",
      "-------------------------------------------------------------------------------------------------\n",
      "K-Fold 0 :| 0.989247311828 \t | 0.987603305785 \t | 1.0 \t | 0.993762993763\n",
      "K-Fold 1 :| 0.976702508961 \t | 0.973084886128 \t | 1.0 \t | 0.986358866737\n",
      "K-Fold 2 :| 0.978456014363 \t | 0.979838709677 \t | 0.995901639344 \t | 0.987804878049\n",
      "K-Fold 3 :| 0.991023339318 \t | 0.989795918367 \t | 1.0 \t | 0.994871794872\n",
      "K-Fold 4 :| 0.980251346499 \t | 0.981707317073 \t | 0.99587628866 \t | 0.988741044012\n",
      "K-Fold 5 :| 0.983842010772 \t | 0.982035928144 \t | 1.0 \t | 0.990936555891\n",
      "K-Fold 6 :| 0.983842010772 \t | 0.985685071575 \t | 0.995867768595 \t | 0.990750256937\n",
      "K-Fold 7 :| 0.976660682226 \t | 0.973305954825 \t | 1.0 \t | 0.986472424558\n",
      "K-Fold 8 :| 0.97486535009 \t | 0.977642276423 \t | 0.993801652893 \t | 0.985655737705\n",
      "K-Fold 9 :| 0.985637342908 \t | 0.985743380855 \t | 0.99793814433 \t | 0.991803278689\n",
      "-------------------------------------------------------------------------------------------------\n",
      "    Mean :| 0.982052791774 \t |  0.981644274885 \t |  0.997938549382 \t |  0.989715783121\n",
      "\n"
     ]
    }
   ],
   "source": [
    "from sklearn import cross_validation\n",
    "from sklearn.naive_bayes import MultinomialNB\n",
    "\n",
    "vectorizer = CountVectorizer()\n",
    "transformed_X = vectorizer.fit_transform(X)\n",
    "target = np.array(y)\n",
    "train = transformed_X\n",
    "clf1 = MultinomialNB()\n",
    "clf2 = SGDClassifier()\n",
    "clf3 = LogisticRegression()\n",
    "\n",
    "#Simple K-Fold cross validation. 10 folds.\n",
    "cv = cross_validation.KFold(len(target), n_folds=10)\n",
    "for clf,name in [(clf1, 'MultinomialNB'), (clf2, 'SVM'), (clf3, 'Logistic Regression')]:\n",
    "    results = []\n",
    "    a, p,r,f1_ = [], [], [], []\n",
    "    i=0\n",
    "    print(\"-----------------------------------------\",name,\"----------------------------------------------------\")\n",
    "    print(\"          | Accuracy:\\t\\t | Precision score:\\t | Recall score:\\t | F1 score:   \")\n",
    "    print(\"-------------------------------------------------------------------------------------------------\")\n",
    "    for traincv, testcv in cv:\n",
    "        X_t = train[traincv]\n",
    "        y_t = target[traincv]\n",
    "        probas = clf.fit(X_t, y_t)\n",
    "        predictions = probas.predict(train[testcv])\n",
    "        acc = sum(target[testcv] == predictions)/len(predictions)\n",
    "        p_score = precision_score(target[testcv], predictions, pos_label='ham')\n",
    "        r_score = recall_score(target[testcv], predictions, pos_label='ham')\n",
    "        f1 = f1_score(target[testcv], predictions, pos_label='ham')\n",
    "        a.append(acc)\n",
    "        p.append(p_score)\n",
    "        r.append(r_score)\n",
    "        f1_.append(f1)\n",
    "        print(\"K-Fold\", i, \":|\", acc, \"\\t\",\"|\", p_score ,\"\\t\", \"|\",r_score, \"\\t\", \"|\", f1)\n",
    "        i+=1\n",
    "    print(\"-------------------------------------------------------------------------------------------------\")\n",
    "    print(\"    Mean :|\", np.mean(a),\"\\t | \", np.mean(p),\"\\t | \", np.mean(r), \"\\t | \", np.mean(f1_))\n",
    "    print()"
   ]
  },
  {
   "cell_type": "markdown",
   "metadata": {},
   "source": [
    "## Training w/ tf-idf vectorizer"
   ]
  },
  {
   "cell_type": "code",
   "execution_count": 979,
   "metadata": {
    "collapsed": true
   },
   "outputs": [],
   "source": [
    "# vectorizer = CountVectorizer()\n",
    "# transformed_X_train = vectorizer.fit_transform(X_train)"
   ]
  },
  {
   "cell_type": "code",
   "execution_count": 1115,
   "metadata": {
    "collapsed": true
   },
   "outputs": [],
   "source": [
    "vectorizer = TfidfVectorizer()\n",
    "transformed_X_train = vectorizer.fit_transform(X_train)"
   ]
  },
  {
   "cell_type": "code",
   "execution_count": 1021,
   "metadata": {
    "scrolled": true
   },
   "outputs": [
    {
     "name": "stdout",
     "output_type": "stream",
     "text": [
      "There are 5,766 words in the vocabulary.\n",
      "'daddy' appers 1,641 times.\n"
     ]
    }
   ],
   "source": [
    "print(\"There are {:,} words in the vocabulary.\".format(len(vectorizer.vocabulary_)))\n",
    "print(\"'{}' appers {:,} times.\".format('daddy', vectorizer.vocabulary_['daddy']))"
   ]
  },
  {
   "cell_type": "code",
   "execution_count": 1022,
   "metadata": {
    "collapsed": true
   },
   "outputs": [],
   "source": [
    "multinomialNB = MultinomialNB()\n",
    "gaussianNB = GaussianNB()\n",
    "gaussianNB.fit(transformed_X_train.toarray(), y_train)\n",
    "prediction = gaussianNB.predict(vectorizer.transform(X_test).toarray())\n"
   ]
  },
  {
   "cell_type": "markdown",
   "metadata": {},
   "source": [
    "### SVM"
   ]
  },
  {
   "cell_type": "code",
   "execution_count": 1112,
   "metadata": {},
   "outputs": [
    {
     "name": "stderr",
     "output_type": "stream",
     "text": [
      "/Users/Tai/anaconda3/envs/nlp/lib/python3.6/site-packages/sklearn/linear_model/stochastic_gradient.py:84: FutureWarning: max_iter and tol parameters have been added in <class 'sklearn.linear_model.stochastic_gradient.SGDClassifier'> in 0.19. If both are left unset, they default to max_iter=5 and tol=None. If tol is not None, max_iter defaults to max_iter=1000. From 0.21, default max_iter will be 1000, and default tol will be 1e-3.\n",
      "  \"and default tol will be 1e-3.\" % type(self), FutureWarning)\n"
     ]
    },
    {
     "data": {
      "text/plain": [
       "SGDClassifier(alpha=0.0001, average=False, class_weight=None, epsilon=0.1,\n",
       "       eta0=0.0, fit_intercept=True, l1_ratio=0.15,\n",
       "       learning_rate='optimal', loss='hinge', max_iter=5, n_iter=None,\n",
       "       n_jobs=1, penalty='l2', power_t=0.5, random_state=None,\n",
       "       shuffle=True, tol=None, verbose=0, warm_start=False)"
      ]
     },
     "execution_count": 1112,
     "metadata": {},
     "output_type": "execute_result"
    }
   ],
   "source": [
    "count_vect = TfidfVectorizer()\n",
    "count_vect.fit(X_train)\n",
    "svm_clf = SGDClassifier()\n",
    "svm_clf.fit(count_vect.transform(X_train), y_train)"
   ]
  },
  {
   "cell_type": "code",
   "execution_count": 1113,
   "metadata": {
    "collapsed": true
   },
   "outputs": [],
   "source": [
    "svm_predictions = svm_clf.predict(count_vect.transform(X_test))"
   ]
  },
  {
   "cell_type": "code",
   "execution_count": 1114,
   "metadata": {
    "collapsed": true
   },
   "outputs": [],
   "source": [
    "svm_precision = precision_score(y_test, svm_predictions , pos_label='ham')\n",
    "svm_recall = recall_score(y_test, svm_predictions, pos_label='ham')\n",
    "svm_f1 = f1_score(y_test, svm_predictions, pos_label='ham')\n",
    "svm_confusion_table = confusion_matrix(y_test, svm_predictions)"
   ]
  },
  {
   "cell_type": "markdown",
   "metadata": {},
   "source": [
    "### MultinomialNB"
   ]
  },
  {
   "cell_type": "code",
   "execution_count": 1078,
   "metadata": {
    "collapsed": true,
    "scrolled": true
   },
   "outputs": [],
   "source": [
    "# print(\"There are {:,} words in the vocabulary.\".format(len(vectorizer.vocabulary_)))\n",
    "# print(\"'{}' appers {:,} times.\".format('daddy', vectorizer.vocabulary_['daddy']))"
   ]
  },
  {
   "cell_type": "code",
   "execution_count": 1116,
   "metadata": {
    "collapsed": true
   },
   "outputs": [],
   "source": [
    "multinomialNB = MultinomialNB()\n",
    "multinomialNB.fit(transformed_X_train, y_train)\n",
    "nb_predictions = multinomialNB.predict(vectorizer.transform(X_test))"
   ]
  },
  {
   "cell_type": "code",
   "execution_count": 1117,
   "metadata": {
    "collapsed": true
   },
   "outputs": [],
   "source": [
    "nb_precision = precision_score(y_test, prediction, pos_label='ham')\n",
    "nb_recall = recall_score(y_test, prediction, pos_label='ham')\n",
    "nb_f1 = f1_score(y_test, prediction, pos_label='ham')\n",
    "nb_confusion_table = confusion_matrix(y_test, nb_predictions)"
   ]
  },
  {
   "cell_type": "markdown",
   "metadata": {},
   "source": [
    "### Logistic Regression"
   ]
  },
  {
   "cell_type": "code",
   "execution_count": 1118,
   "metadata": {
    "collapsed": true
   },
   "outputs": [],
   "source": [
    "lr = LogisticRegression()\n",
    "lr.fit(transformed_X_train, y_train)\n",
    "lr_predictions = lr.predict(vectorizer.transform(X_test))"
   ]
  },
  {
   "cell_type": "code",
   "execution_count": 1119,
   "metadata": {
    "collapsed": true
   },
   "outputs": [],
   "source": [
    "lr_precision = precision_score(y_test, lr_predictions, pos_label='ham')\n",
    "lr_recall = recall_score(y_test, lr_predictions, pos_label='ham')\n",
    "lr_f1 = f1_score(y_test, lr_predictions, pos_label='ham')\n",
    "lr_confusion_table = confusion_matrix(y_test, lr_predictions)"
   ]
  },
  {
   "cell_type": "markdown",
   "metadata": {},
   "source": [
    "## Evaluation"
   ]
  },
  {
   "cell_type": "code",
   "execution_count": 1121,
   "metadata": {
    "scrolled": false
   },
   "outputs": [
    {
     "name": "stdout",
     "output_type": "stream",
     "text": [
      "-----------MultinomialNB-----------\n",
      "Precision: 0.9884009942\n",
      "Recall   : 0.993338884263\n",
      "F1_score : 0.990863787375\n",
      "\n",
      "-----------Logistic Regression-----------\n",
      "Precision: 0.965350523771\n",
      "Recall   : 0.997502081599\n",
      "F1_score : 0.981162981163\n",
      "\n",
      "-----------SVM-----------\n",
      "Precision: 0.987613542527\n",
      "Recall   : 0.995836802664\n",
      "F1_score : 0.991708126036\n"
     ]
    },
    {
     "data": {
      "image/png": "[encoded data removed]",
      "text/plain": [
       "<matplotlib.figure.Figure at 0x145a4e898>"
      ]
     },
     "metadata": {},
     "output_type": "display_data"
    },
    {
     "data": {
      "image/png": "[encoded data removed]",
      "text/plain": [
       "<matplotlib.figure.Figure at 0x1677c2dd8>"
      ]
     },
     "metadata": {},
     "output_type": "display_data"
    },
    {
     "data": {
      "image/png": "[encoded data removed]",
      "text/plain": [
       "<matplotlib.figure.Figure at 0x130f08e48>"
      ]
     },
     "metadata": {},
     "output_type": "display_data"
    }
   ],
   "source": [
    "print(\"-----------MultinomialNB-----------\")\n",
    "print(\"Precision:\", nb_precision)\n",
    "print(\"Recall   :\", nb_recall)\n",
    "print(\"F1_score :\", nb_f1)\n",
    "plt.figure()\n",
    "plot_confusion_matrix(nb_confusion_table, classes=['ham','spam'],\n",
    "                      title='MultinomialNB w/ tf-idf')\n",
    "print(\"\\n-----------Logistic Regression-----------\")\n",
    "print(\"Precision:\", lr_precision)\n",
    "print(\"Recall   :\", lr_recall)\n",
    "print(\"F1_score :\", lr_f1)\n",
    "# print(\"Confusion table:\\n\", lr_confusion_table)\n",
    "plt.figure()\n",
    "plot_confusion_matrix(lr_confusion_table, classes=['ham','spam'],\n",
    "                      title='Logistic Regression w/ tf-idf')\n",
    "print(\"\\n-----------SVM-----------\")\n",
    "print(\"Precision:\", svm_precision)\n",
    "print(\"Recall   :\", svm_recall)\n",
    "print(\"F1_score :\", svm_f1)\n",
    "plt.figure()\n",
    "plot_confusion_matrix(svm_confusion_table, classes=['ham','spam'],\n",
    "                      title='SVM w/ tf-idf')"
   ]
  },
  {
   "cell_type": "markdown",
   "metadata": {},
   "source": [
    "## K-fold cv / Undersampling"
   ]
  },
  {
   "cell_type": "code",
   "execution_count": 1131,
   "metadata": {},
   "outputs": [
    {
     "name": "stderr",
     "output_type": "stream",
     "text": [
      "/Users/Tai/anaconda3/envs/nlp/lib/python3.6/site-packages/sklearn/linear_model/stochastic_gradient.py:84: FutureWarning: max_iter and tol parameters have been added in <class 'sklearn.linear_model.stochastic_gradient.SGDClassifier'> in 0.19. If both are left unset, they default to max_iter=5 and tol=None. If tol is not None, max_iter defaults to max_iter=1000. From 0.21, default max_iter will be 1000, and default tol will be 1e-3.\n",
      "  \"and default tol will be 1e-3.\" % type(self), FutureWarning)\n"
     ]
    },
    {
     "name": "stdout",
     "output_type": "stream",
     "text": [
      "MultinomialNB\n",
      "          | Accuracy:\t\t | Precision score:\t | Recall score:\t | F1 score:   \n",
      "-------------------------------------------------------------------------------------------------\n",
      "K-Fold 0 :| 0.965949820789 \t | 0.961770623742 \t | 1.0 \t | 0.980512820513\n",
      "K-Fold 1 :| 0.953405017921 \t | 0.947580645161 \t | 1.0 \t | 0.973084886128\n",
      "K-Fold 2 :| 0.94973070018 \t | 0.945736434109 \t | 1.0 \t | 0.972111553785\n",
      "K-Fold 3 :| 0.973070017953 \t | 0.97 \t | 1.0 \t | 0.984771573604\n",
      "K-Fold 4 :| 0.94973070018 \t | 0.945419103314 \t | 1.0 \t | 0.971943887776\n",
      "K-Fold 5 :| 0.964093357271 \t | 0.9609375 \t | 1.0 \t | 0.980079681275\n",
      "K-Fold 6 :| 0.958707360862 \t | 0.954635108481 \t | 1.0 \t | 0.976791120081\n",
      "K-Fold 7 :| 0.953321364452 \t | 0.948 \t | 1.0 \t | 0.973305954825\n",
      "K-Fold 8 :| 0.956912028725 \t | 0.954545454545 \t | 0.997933884298 \t | 0.975757575758\n",
      "K-Fold 9 :| 0.960502692998 \t | 0.956607495069 \t | 1.0 \t | 0.977822580645\n",
      "    Mean :  0.958542306133 \t   0.954523236442 \t   0.99979338843 \t   0.976618163439\n",
      "SVM\n",
      "          | Accuracy:\t\t | Precision score:\t | Recall score:\t | F1 score:   \n",
      "-------------------------------------------------------------------------------------------------\n",
      "K-Fold 0 :| 0.989247311828 \t | 0.989626556017 \t | 0.997907949791 \t | 0.99375\n",
      "K-Fold 1 :| 0.976702508961 \t | 0.975051975052 \t | 0.997872340426 \t | 0.986330178759\n",
      "K-Fold 2 :| 0.983842010772 \t | 0.983838383838 \t | 0.997950819672 \t | 0.990844354018\n",
      "K-Fold 3 :| 0.991023339318 \t | 0.989795918367 \t | 1.0 \t | 0.994871794872\n",
      "K-Fold 4 :| 0.982046678636 \t | 0.979797979798 \t | 1.0 \t | 0.989795918367\n",
      "K-Fold 5 :| 0.991023339318 \t | 0.989939637827 \t | 1.0 \t | 0.994944388271\n",
      "K-Fold 6 :| 0.983842010772 \t | 0.983706720978 \t | 0.997933884298 \t | 0.990769230769\n",
      "K-Fold 7 :| 0.982046678636 \t | 0.979338842975 \t | 1.0 \t | 0.989561586639\n",
      "K-Fold 8 :| 0.980251346499 \t | 0.9836400818 \t | 0.993801652893 \t | 0.988694758479\n",
      "K-Fold 9 :| 0.985637342908 \t | 0.983772819473 \t | 1.0 \t | 0.9918200409\n",
      "    Mean :  0.984566256765 \t   0.983850891612 \t   0.998546664708 \t   0.991138225107\n",
      "Logistic Regression\n",
      "          | Accuracy:\t\t | Precision score:\t | Recall score:\t | F1 score:   \n",
      "-------------------------------------------------------------------------------------------------\n",
      "K-Fold 0 :| 0.962365591398 \t | 0.961616161616 \t | 0.995815899582 \t | 0.978417266187\n",
      "K-Fold 1 :| 0.958781362007 \t | 0.955193482688 \t | 0.997872340426 \t | 0.976066597294\n",
      "K-Fold 2 :| 0.962298025135 \t | 0.958742632613 \t | 1.0 \t | 0.978936810431\n",
      "K-Fold 3 :| 0.980251346499 \t | 0.977822580645 \t | 1.0 \t | 0.98878695209\n",
      "K-Fold 4 :| 0.964093357271 \t | 0.960396039604 \t | 1.0 \t | 0.979797979798\n",
      "K-Fold 5 :| 0.965888689408 \t | 0.962818003914 \t | 1.0 \t | 0.981056829511\n",
      "K-Fold 6 :| 0.953321364452 \t | 0.950787401575 \t | 0.997933884298 \t | 0.973790322581\n",
      "K-Fold 7 :| 0.958707360862 \t | 0.955555555556 \t | 0.997890295359 \t | 0.976264189886\n",
      "K-Fold 8 :| 0.960502692998 \t | 0.958333333333 \t | 0.997933884298 \t | 0.977732793522\n",
      "K-Fold 9 :| 0.965888689408 \t | 0.962301587302 \t | 1.0 \t | 0.98078867543\n",
      "    Mean :  0.963209847944 \t   0.960356677885 \t   0.998744630396 \t   0.979163841673\n"
     ]
    }
   ],
   "source": [
    "from sklearn import cross_validation\n",
    "from sklearn.naive_bayes import MultinomialNB\n",
    "\n",
    "vectorizer = TfidfVectorizer()\n",
    "transformed_X = vectorizer.fit_transform(X)\n",
    "target = np.array(y)\n",
    "train = transformed_X\n",
    "clf1 = MultinomialNB()\n",
    "clf2 = SGDClassifier()\n",
    "clf3 = LogisticRegression()\n",
    "\n",
    "#Simple K-Fold cross validation. 10 folds.\n",
    "cv = cross_validation.KFold(len(target), n_folds=10)\n",
    "for clf,name in [(clf1, 'MultinomialNB'), (clf2, 'SVM'), (clf3, 'Logistic Regression')]:\n",
    "    results = []\n",
    "    a, p,r,f1_ = [], [], [], []\n",
    "    i=0\n",
    "    print(name)\n",
    "    print(\"          | Accuracy:\\t\\t | Precision score:\\t | Recall score:\\t | F1 score:   \")\n",
    "    print(\"-------------------------------------------------------------------------------------------------\")\n",
    "    for traincv, testcv in cv:\n",
    "        X_t = train[traincv]\n",
    "        y_t = target[traincv]\n",
    "        probas = clf.fit(X_t, y_t)\n",
    "        predictions = probas.predict(train[testcv])\n",
    "        acc = sum(target[testcv] == predictions)/len(predictions)\n",
    "        p_score = precision_score(target[testcv], predictions, pos_label='ham')\n",
    "        r_score = recall_score(target[testcv], predictions, pos_label='ham')\n",
    "        f1 = f1_score(target[testcv], predictions, pos_label='ham')\n",
    "        a.append(acc)\n",
    "        p.append(p_score)\n",
    "        r.append(r_score)\n",
    "        f1_.append(f1)\n",
    "        print(\"K-Fold\", i, \":|\", acc, \"\\t\",\"|\", p_score ,\"\\t\", \"|\",r_score, \"\\t\", \"|\", f1)\n",
    "        i+=1\n",
    "    print(\"    Mean : \", np.mean(a),\"\\t  \", np.mean(p),\"\\t  \", np.mean(r), \"\\t  \", np.mean(f1_))"
   ]
  },
  {
   "cell_type": "code",
   "execution_count": null,
   "metadata": {
    "collapsed": true
   },
   "outputs": [],
   "source": []
  }
 ],
 "metadata": {
  "kernelspec": {
   "display_name": "Python 3",
   "language": "python",
   "name": "python3"
  },
  "language_info": {
   "codemirror_mode": {
    "name": "ipython",
    "version": 3
   },
   "file_extension": ".py",
   "mimetype": "text/x-python",
   "name": "python",
   "nbconvert_exporter": "python",
   "pygments_lexer": "ipython3",
   "version": "3.6.0"
  }
 },
 "nbformat": 4,
 "nbformat_minor": 2
}
